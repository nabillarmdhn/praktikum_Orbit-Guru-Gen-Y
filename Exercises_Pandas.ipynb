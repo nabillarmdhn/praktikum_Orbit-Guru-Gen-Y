{
  "nbformat": 4,
  "nbformat_minor": 0,
  "metadata": {
    "kernelspec": {
      "display_name": "Python 3",
      "language": "python",
      "name": "python3"
    },
    "language_info": {
      "codemirror_mode": {
        "name": "ipython",
        "version": 3
      },
      "file_extension": ".py",
      "mimetype": "text/x-python",
      "name": "python",
      "nbconvert_exporter": "python",
      "pygments_lexer": "ipython3",
      "version": "3.7.4"
    },
    "colab": {
      "name": "Copy of Exercises_Pandas.ipynb",
      "provenance": [],
      "toc_visible": true,
      "include_colab_link": true
    }
  },
  "cells": [
    {
      "cell_type": "markdown",
      "metadata": {
        "id": "view-in-github",
        "colab_type": "text"
      },
      "source": [
        "<a href=\"https://colab.research.google.com/github/nabillarmdhn/praktikum_Orbit-Guru-Gen-Y/blob/main/Copy_of_Exercises_Pandas.ipynb\" target=\"_parent\"><img src=\"https://colab.research.google.com/assets/colab-badge.svg\" alt=\"Open In Colab\"/></a>"
      ]
    },
    {
      "cell_type": "markdown",
      "metadata": {
        "id": "1PYDrg6X7595"
      },
      "source": [
        "## Import library"
      ]
    },
    {
      "cell_type": "code",
      "metadata": {
        "id": "tn3ESQlH5qbF"
      },
      "source": [
        "import pandas as pd\n",
        "import numpy as np"
      ],
      "execution_count": null,
      "outputs": []
    },
    {
      "cell_type": "markdown",
      "metadata": {
        "id": "VbGO9P1i7nQR"
      },
      "source": [
        "## Manipulating Data with Series"
      ]
    },
    {
      "cell_type": "code",
      "metadata": {
        "scrolled": true,
        "id": "iw3zZt5r5qbH",
        "colab": {
          "base_uri": "https://localhost:8080/"
        },
        "outputId": "6d90200a-38de-4103-ea88-8e81bea5c0bf"
      },
      "source": [
        "s = pd.Series([3, -5, 7, 4], index=['a', 'b', 'c', 'd']) # membuat 1 kolom dengan berindex a, b, c, d\n",
        "s"
      ],
      "execution_count": null,
      "outputs": [
        {
          "output_type": "execute_result",
          "data": {
            "text/plain": [
              "a    3\n",
              "b   -5\n",
              "c    7\n",
              "d    4\n",
              "dtype: int64"
            ]
          },
          "metadata": {},
          "execution_count": 2
        }
      ]
    },
    {
      "cell_type": "code",
      "metadata": {
        "id": "MM8C_KDp5qbI",
        "colab": {
          "base_uri": "https://localhost:8080/"
        },
        "outputId": "5d29cac2-4e5c-4fe8-860d-b802a7668ae5"
      },
      "source": [
        "series = pd.Series([1, 0.5, 4, 5.5, 'lima']) # membuat 1 kolom yang berisi beberapa type data\n",
        "series"
      ],
      "execution_count": null,
      "outputs": [
        {
          "output_type": "execute_result",
          "data": {
            "text/plain": [
              "0       1\n",
              "1     0.5\n",
              "2       4\n",
              "3     5.5\n",
              "4    lima\n",
              "dtype: object"
            ]
          },
          "metadata": {},
          "execution_count": 3
        }
      ]
    },
    {
      "cell_type": "code",
      "metadata": {
        "id": "sjll0VLq5qbI",
        "colab": {
          "base_uri": "https://localhost:8080/"
        },
        "outputId": "3877bdc8-e74c-482d-8eb1-e9016f721923"
      },
      "source": [
        "ss = pd.Series([1.4, 5.6, 3, 3, 6], [1, 2, -3, 4, 5])\n",
        "ss"
      ],
      "execution_count": null,
      "outputs": [
        {
          "output_type": "execute_result",
          "data": {
            "text/plain": [
              " 1    1.4\n",
              " 2    5.6\n",
              "-3    3.0\n",
              " 4    3.0\n",
              " 5    6.0\n",
              "dtype: float64"
            ]
          },
          "metadata": {},
          "execution_count": 4
        }
      ]
    },
    {
      "cell_type": "markdown",
      "metadata": {
        "id": "k8pWDGaAlRvk"
      },
      "source": [
        "### Mengambil atau memilih kolom tertentu pada series"
      ]
    },
    {
      "cell_type": "code",
      "metadata": {
        "id": "uaM_ZfN45qbP",
        "colab": {
          "base_uri": "https://localhost:8080/"
        },
        "outputId": "38967694-f3a7-4450-88c9-a177c44af76b"
      },
      "source": [
        "s"
      ],
      "execution_count": null,
      "outputs": [
        {
          "output_type": "execute_result",
          "data": {
            "text/plain": [
              "a    3\n",
              "b   -5\n",
              "c    7\n",
              "d    4\n",
              "dtype: int64"
            ]
          },
          "metadata": {},
          "execution_count": 5
        }
      ]
    },
    {
      "cell_type": "code",
      "metadata": {
        "scrolled": true,
        "id": "3yT_GYaV5qbQ",
        "colab": {
          "base_uri": "https://localhost:8080/"
        },
        "outputId": "9a0d4069-7860-4ea7-dfa8-3ddd8416ec8b"
      },
      "source": [
        "s[~(s > 1)] # mengambil nilai, dimana negasi dari s > 1 atau s bukan > 1"
      ],
      "execution_count": null,
      "outputs": [
        {
          "output_type": "execute_result",
          "data": {
            "text/plain": [
              "b   -5\n",
              "dtype: int64"
            ]
          },
          "metadata": {},
          "execution_count": 6
        }
      ]
    },
    {
      "cell_type": "code",
      "metadata": {
        "id": "Xbh6R-vO5qbQ",
        "colab": {
          "base_uri": "https://localhost:8080/"
        },
        "outputId": "896e8551-a866-4749-940f-6abeb5bebf2e"
      },
      "source": [
        "s[(s < -1) | (s > 3)] # mengambil nilai, dimana s < -1 atau s > 3"
      ],
      "execution_count": null,
      "outputs": [
        {
          "output_type": "execute_result",
          "data": {
            "text/plain": [
              "b   -5\n",
              "c    7\n",
              "d    4\n",
              "dtype: int64"
            ]
          },
          "metadata": {},
          "execution_count": 7
        }
      ]
    },
    {
      "cell_type": "code",
      "metadata": {
        "id": "2RLF0Q035qbQ",
        "colab": {
          "base_uri": "https://localhost:8080/"
        },
        "outputId": "db5df035-e9a8-4503-9479-378b8fa7d96a"
      },
      "source": [
        "s['a'] = 6\n",
        "s"
      ],
      "execution_count": null,
      "outputs": [
        {
          "output_type": "execute_result",
          "data": {
            "text/plain": [
              "a    6\n",
              "b   -5\n",
              "c    7\n",
              "d    4\n",
              "dtype: int64"
            ]
          },
          "metadata": {},
          "execution_count": 8
        }
      ]
    },
    {
      "cell_type": "code",
      "metadata": {
        "id": "qxi9OucM5qbR",
        "colab": {
          "base_uri": "https://localhost:8080/"
        },
        "outputId": "575092a6-b127-4bde-ea9e-194e1143cf94"
      },
      "source": [
        "s.drop(['a', 'c']) # menghapus label a dan c"
      ],
      "execution_count": null,
      "outputs": [
        {
          "output_type": "execute_result",
          "data": {
            "text/plain": [
              "b   -5\n",
              "d    4\n",
              "dtype: int64"
            ]
          },
          "metadata": {},
          "execution_count": 9
        }
      ]
    },
    {
      "cell_type": "markdown",
      "metadata": {
        "id": "B4PUGr_r7vZ7"
      },
      "source": [
        "## Manipulating Data with Data Frame"
      ]
    },
    {
      "cell_type": "markdown",
      "metadata": {
        "id": "MCtYMvcNfzQT"
      },
      "source": [
        "### Membuat dataframe dari suatu series"
      ]
    },
    {
      "cell_type": "code",
      "metadata": {
        "scrolled": true,
        "id": "a-mpIByl5qbJ",
        "colab": {
          "base_uri": "https://localhost:8080/"
        },
        "outputId": "6d4836e2-faa3-4a6c-ac0e-61e2caaf596a"
      },
      "source": [
        "df1 = pd.DataFrame(ss)\n",
        "df1"
      ],
      "execution_count": null,
      "outputs": [
        {
          "output_type": "execute_result",
          "data": {
            "text/html": [
              "<div>\n",
              "<style scoped>\n",
              "    .dataframe tbody tr th:only-of-type {\n",
              "        vertical-align: middle;\n",
              "    }\n",
              "\n",
              "    .dataframe tbody tr th {\n",
              "        vertical-align: top;\n",
              "    }\n",
              "\n",
              "    .dataframe thead th {\n",
              "        text-align: right;\n",
              "    }\n",
              "</style>\n",
              "<table border=\"1\" class=\"dataframe\">\n",
              "  <thead>\n",
              "    <tr style=\"text-align: right;\">\n",
              "      <th></th>\n",
              "      <th>0</th>\n",
              "    </tr>\n",
              "  </thead>\n",
              "  <tbody>\n",
              "    <tr>\n",
              "      <th>1</th>\n",
              "      <td>1.4</td>\n",
              "    </tr>\n",
              "    <tr>\n",
              "      <th>2</th>\n",
              "      <td>5.6</td>\n",
              "    </tr>\n",
              "    <tr>\n",
              "      <th>-3</th>\n",
              "      <td>3.0</td>\n",
              "    </tr>\n",
              "    <tr>\n",
              "      <th>4</th>\n",
              "      <td>3.0</td>\n",
              "    </tr>\n",
              "    <tr>\n",
              "      <th>5</th>\n",
              "      <td>6.0</td>\n",
              "    </tr>\n",
              "  </tbody>\n",
              "</table>\n",
              "</div>"
            ],
            "text/plain": [
              "      0\n",
              " 1  1.4\n",
              " 2  5.6\n",
              "-3  3.0\n",
              " 4  3.0\n",
              " 5  6.0"
            ]
          },
          "metadata": {},
          "execution_count": 10
        }
      ]
    },
    {
      "cell_type": "markdown",
      "metadata": {
        "id": "5EPc8EtsgIoE"
      },
      "source": [
        "### Membuat dataframe dengan key dan value"
      ]
    },
    {
      "cell_type": "code",
      "metadata": {
        "id": "ff020V5-5qbJ",
        "colab": {
          "base_uri": "https://localhost:8080/"
        },
        "outputId": "9edb61ab-0cab-4b1b-ff8b-59e91beb2e4f"
      },
      "source": [
        "data = {'Country': ['Belgium', 'India', 'Brazil'], 'Capital': ['Brussels', 'New Delhi', 'Brasília'], 'Population': [11190846, 1303171035, 207847528]}\n",
        "df = pd.DataFrame(data, columns=['Country', 'Capital', 'Population'])\n",
        "df"
      ],
      "execution_count": null,
      "outputs": [
        {
          "output_type": "execute_result",
          "data": {
            "text/html": [
              "<div>\n",
              "<style scoped>\n",
              "    .dataframe tbody tr th:only-of-type {\n",
              "        vertical-align: middle;\n",
              "    }\n",
              "\n",
              "    .dataframe tbody tr th {\n",
              "        vertical-align: top;\n",
              "    }\n",
              "\n",
              "    .dataframe thead th {\n",
              "        text-align: right;\n",
              "    }\n",
              "</style>\n",
              "<table border=\"1\" class=\"dataframe\">\n",
              "  <thead>\n",
              "    <tr style=\"text-align: right;\">\n",
              "      <th></th>\n",
              "      <th>Country</th>\n",
              "      <th>Capital</th>\n",
              "      <th>Population</th>\n",
              "    </tr>\n",
              "  </thead>\n",
              "  <tbody>\n",
              "    <tr>\n",
              "      <th>0</th>\n",
              "      <td>Belgium</td>\n",
              "      <td>Brussels</td>\n",
              "      <td>11190846</td>\n",
              "    </tr>\n",
              "    <tr>\n",
              "      <th>1</th>\n",
              "      <td>India</td>\n",
              "      <td>New Delhi</td>\n",
              "      <td>1303171035</td>\n",
              "    </tr>\n",
              "    <tr>\n",
              "      <th>2</th>\n",
              "      <td>Brazil</td>\n",
              "      <td>Brasília</td>\n",
              "      <td>207847528</td>\n",
              "    </tr>\n",
              "  </tbody>\n",
              "</table>\n",
              "</div>"
            ],
            "text/plain": [
              "   Country    Capital  Population\n",
              "0  Belgium   Brussels    11190846\n",
              "1    India  New Delhi  1303171035\n",
              "2   Brazil   Brasília   207847528"
            ]
          },
          "metadata": {},
          "execution_count": 11
        }
      ]
    },
    {
      "cell_type": "markdown",
      "metadata": {
        "id": "s7t4LeHz_UIF"
      },
      "source": [
        "### Selection"
      ]
    },
    {
      "cell_type": "code",
      "metadata": {
        "id": "uerLHiSk5qbK",
        "colab": {
          "base_uri": "https://localhost:8080/"
        },
        "outputId": "bb17d798-a92d-4f05-fa67-31c7371019c1"
      },
      "source": [
        "s['b'] # memilih var s index b"
      ],
      "execution_count": null,
      "outputs": [
        {
          "output_type": "execute_result",
          "data": {
            "text/plain": [
              "-5"
            ]
          },
          "metadata": {},
          "execution_count": 12
        }
      ]
    },
    {
      "cell_type": "code",
      "metadata": {
        "id": "wUahf1IF5qbK",
        "colab": {
          "base_uri": "https://localhost:8080/",
          "height": 110
        },
        "outputId": "c55cf5f7-2e53-4e8b-d492-ce0c6d340def"
      },
      "source": [
        "df[1:] # memilih kolom 1 sampai terakhir"
      ],
      "execution_count": null,
      "outputs": [
        {
          "output_type": "execute_result",
          "data": {
            "text/html": [
              "<div>\n",
              "<style scoped>\n",
              "    .dataframe tbody tr th:only-of-type {\n",
              "        vertical-align: middle;\n",
              "    }\n",
              "\n",
              "    .dataframe tbody tr th {\n",
              "        vertical-align: top;\n",
              "    }\n",
              "\n",
              "    .dataframe thead th {\n",
              "        text-align: right;\n",
              "    }\n",
              "</style>\n",
              "<table border=\"1\" class=\"dataframe\">\n",
              "  <thead>\n",
              "    <tr style=\"text-align: right;\">\n",
              "      <th></th>\n",
              "      <th>Country</th>\n",
              "      <th>Capital</th>\n",
              "      <th>Population</th>\n",
              "    </tr>\n",
              "  </thead>\n",
              "  <tbody>\n",
              "    <tr>\n",
              "      <th>1</th>\n",
              "      <td>India</td>\n",
              "      <td>New Delhi</td>\n",
              "      <td>1303171035</td>\n",
              "    </tr>\n",
              "    <tr>\n",
              "      <th>2</th>\n",
              "      <td>Brazil</td>\n",
              "      <td>Brasília</td>\n",
              "      <td>207847528</td>\n",
              "    </tr>\n",
              "  </tbody>\n",
              "</table>\n",
              "</div>"
            ],
            "text/plain": [
              "  Country    Capital  Population\n",
              "1   India  New Delhi  1303171035\n",
              "2  Brazil   Brasília   207847528"
            ]
          },
          "metadata": {},
          "execution_count": 13
        }
      ]
    },
    {
      "cell_type": "code",
      "metadata": {
        "id": "YIPCtnuX5qbK",
        "colab": {
          "base_uri": "https://localhost:8080/",
          "height": 79
        },
        "outputId": "910ca646-be48-49ab-81d1-735c7aba0d7b"
      },
      "source": [
        "df.iloc[[0],[0]] # memilih kolom index 0 dan baris 0"
      ],
      "execution_count": null,
      "outputs": [
        {
          "output_type": "execute_result",
          "data": {
            "text/html": [
              "<div>\n",
              "<style scoped>\n",
              "    .dataframe tbody tr th:only-of-type {\n",
              "        vertical-align: middle;\n",
              "    }\n",
              "\n",
              "    .dataframe tbody tr th {\n",
              "        vertical-align: top;\n",
              "    }\n",
              "\n",
              "    .dataframe thead th {\n",
              "        text-align: right;\n",
              "    }\n",
              "</style>\n",
              "<table border=\"1\" class=\"dataframe\">\n",
              "  <thead>\n",
              "    <tr style=\"text-align: right;\">\n",
              "      <th></th>\n",
              "      <th>Country</th>\n",
              "    </tr>\n",
              "  </thead>\n",
              "  <tbody>\n",
              "    <tr>\n",
              "      <th>0</th>\n",
              "      <td>Belgium</td>\n",
              "    </tr>\n",
              "  </tbody>\n",
              "</table>\n",
              "</div>"
            ],
            "text/plain": [
              "   Country\n",
              "0  Belgium"
            ]
          },
          "metadata": {},
          "execution_count": 14
        }
      ]
    },
    {
      "cell_type": "code",
      "metadata": {
        "id": "C2ptFKfn5qbN",
        "colab": {
          "base_uri": "https://localhost:8080/",
          "height": 110
        },
        "outputId": "ae9af60f-82fd-4a23-9453-b8cffd227d32"
      },
      "source": [
        "df.iloc[1:,[0]] # memilih kolom 1 sampai terakhir, dan baris index ke-0"
      ],
      "execution_count": null,
      "outputs": [
        {
          "output_type": "execute_result",
          "data": {
            "text/html": [
              "<div>\n",
              "<style scoped>\n",
              "    .dataframe tbody tr th:only-of-type {\n",
              "        vertical-align: middle;\n",
              "    }\n",
              "\n",
              "    .dataframe tbody tr th {\n",
              "        vertical-align: top;\n",
              "    }\n",
              "\n",
              "    .dataframe thead th {\n",
              "        text-align: right;\n",
              "    }\n",
              "</style>\n",
              "<table border=\"1\" class=\"dataframe\">\n",
              "  <thead>\n",
              "    <tr style=\"text-align: right;\">\n",
              "      <th></th>\n",
              "      <th>Country</th>\n",
              "    </tr>\n",
              "  </thead>\n",
              "  <tbody>\n",
              "    <tr>\n",
              "      <th>1</th>\n",
              "      <td>India</td>\n",
              "    </tr>\n",
              "    <tr>\n",
              "      <th>2</th>\n",
              "      <td>Brazil</td>\n",
              "    </tr>\n",
              "  </tbody>\n",
              "</table>\n",
              "</div>"
            ],
            "text/plain": [
              "  Country\n",
              "1   India\n",
              "2  Brazil"
            ]
          },
          "metadata": {},
          "execution_count": 15
        }
      ]
    },
    {
      "cell_type": "code",
      "metadata": {
        "id": "d07iZjHH5qbN",
        "colab": {
          "base_uri": "https://localhost:8080/",
          "height": 35
        },
        "outputId": "48380ab0-7449-4dc1-fba9-3d603f584595"
      },
      "source": [
        "df.iat[0,0] # memilih baris index 0 dan kolom 0"
      ],
      "execution_count": null,
      "outputs": [
        {
          "output_type": "execute_result",
          "data": {
            "application/vnd.google.colaboratory.intrinsic+json": {
              "type": "string"
            },
            "text/plain": [
              "'Belgium'"
            ]
          },
          "metadata": {},
          "execution_count": 16
        }
      ]
    },
    {
      "cell_type": "code",
      "metadata": {
        "id": "YxxMoEOx5qbN",
        "colab": {
          "base_uri": "https://localhost:8080/",
          "height": 35
        },
        "outputId": "1e8971b1-636d-4d56-a5ff-3d85026fe479"
      },
      "source": [
        "df.iat[1,0] # memilih baris index 1 dan kolom 0"
      ],
      "execution_count": null,
      "outputs": [
        {
          "output_type": "execute_result",
          "data": {
            "application/vnd.google.colaboratory.intrinsic+json": {
              "type": "string"
            },
            "text/plain": [
              "'India'"
            ]
          },
          "metadata": {},
          "execution_count": 17
        }
      ]
    },
    {
      "cell_type": "code",
      "metadata": {
        "id": "tRSyt5Ue5qbO",
        "colab": {
          "base_uri": "https://localhost:8080/",
          "height": 79
        },
        "outputId": "661b73bf-7a24-49bf-ae6a-734caa9500f6"
      },
      "source": [
        "df.loc[[0], ['Country']] # memilih baris index ke-0 pada kolom Country"
      ],
      "execution_count": null,
      "outputs": [
        {
          "output_type": "execute_result",
          "data": {
            "text/html": [
              "<div>\n",
              "<style scoped>\n",
              "    .dataframe tbody tr th:only-of-type {\n",
              "        vertical-align: middle;\n",
              "    }\n",
              "\n",
              "    .dataframe tbody tr th {\n",
              "        vertical-align: top;\n",
              "    }\n",
              "\n",
              "    .dataframe thead th {\n",
              "        text-align: right;\n",
              "    }\n",
              "</style>\n",
              "<table border=\"1\" class=\"dataframe\">\n",
              "  <thead>\n",
              "    <tr style=\"text-align: right;\">\n",
              "      <th></th>\n",
              "      <th>Country</th>\n",
              "    </tr>\n",
              "  </thead>\n",
              "  <tbody>\n",
              "    <tr>\n",
              "      <th>0</th>\n",
              "      <td>Belgium</td>\n",
              "    </tr>\n",
              "  </tbody>\n",
              "</table>\n",
              "</div>"
            ],
            "text/plain": [
              "   Country\n",
              "0  Belgium"
            ]
          },
          "metadata": {},
          "execution_count": 18
        }
      ]
    },
    {
      "cell_type": "code",
      "metadata": {
        "id": "50xIE7aS5qbO",
        "colab": {
          "base_uri": "https://localhost:8080/",
          "height": 141
        },
        "outputId": "f5c120e0-69f6-4918-d3e2-5e0966ee97d8"
      },
      "source": [
        "df.loc[:,['Capital']] # memilih baris semua index pada kolom Capital"
      ],
      "execution_count": null,
      "outputs": [
        {
          "output_type": "execute_result",
          "data": {
            "text/html": [
              "<div>\n",
              "<style scoped>\n",
              "    .dataframe tbody tr th:only-of-type {\n",
              "        vertical-align: middle;\n",
              "    }\n",
              "\n",
              "    .dataframe tbody tr th {\n",
              "        vertical-align: top;\n",
              "    }\n",
              "\n",
              "    .dataframe thead th {\n",
              "        text-align: right;\n",
              "    }\n",
              "</style>\n",
              "<table border=\"1\" class=\"dataframe\">\n",
              "  <thead>\n",
              "    <tr style=\"text-align: right;\">\n",
              "      <th></th>\n",
              "      <th>Capital</th>\n",
              "    </tr>\n",
              "  </thead>\n",
              "  <tbody>\n",
              "    <tr>\n",
              "      <th>0</th>\n",
              "      <td>Brussels</td>\n",
              "    </tr>\n",
              "    <tr>\n",
              "      <th>1</th>\n",
              "      <td>New Delhi</td>\n",
              "    </tr>\n",
              "    <tr>\n",
              "      <th>2</th>\n",
              "      <td>Brasília</td>\n",
              "    </tr>\n",
              "  </tbody>\n",
              "</table>\n",
              "</div>"
            ],
            "text/plain": [
              "     Capital\n",
              "0   Brussels\n",
              "1  New Delhi\n",
              "2   Brasília"
            ]
          },
          "metadata": {},
          "execution_count": 19
        }
      ]
    },
    {
      "cell_type": "code",
      "metadata": {
        "id": "DqtgRiUk5qbO",
        "colab": {
          "base_uri": "https://localhost:8080/",
          "height": 35
        },
        "outputId": "087b1af0-8902-43f2-d31d-cca3263bb467"
      },
      "source": [
        "df.at[0,'Country'] # sama halnya dengan .loc tetapi bedanya 0 merupakan nilai skalar, jadi pengambilan nilai hanya satu"
      ],
      "execution_count": null,
      "outputs": [
        {
          "output_type": "execute_result",
          "data": {
            "application/vnd.google.colaboratory.intrinsic+json": {
              "type": "string"
            },
            "text/plain": [
              "'Belgium'"
            ]
          },
          "metadata": {},
          "execution_count": 20
        }
      ]
    },
    {
      "cell_type": "code",
      "metadata": {
        "id": "d_rn453L5qbO",
        "colab": {
          "base_uri": "https://localhost:8080/",
          "height": 35
        },
        "outputId": "1a24f15d-e669-4311-d868-f1d162ac3535"
      },
      "source": [
        "df.at[1,'Capital']"
      ],
      "execution_count": null,
      "outputs": [
        {
          "output_type": "execute_result",
          "data": {
            "application/vnd.google.colaboratory.intrinsic+json": {
              "type": "string"
            },
            "text/plain": [
              "'New Delhi'"
            ]
          },
          "metadata": {},
          "execution_count": 21
        }
      ]
    },
    {
      "cell_type": "code",
      "metadata": {
        "id": "-_9NJaG55qbQ",
        "colab": {
          "base_uri": "https://localhost:8080/",
          "height": 79
        },
        "outputId": "69ac3f01-cc5b-44d2-d766-07ea87fcc409"
      },
      "source": [
        "df[df['Population'] > 1200000000] # memilih baris (atau kolom) dengan populasi >  1,2 M"
      ],
      "execution_count": null,
      "outputs": [
        {
          "output_type": "execute_result",
          "data": {
            "text/html": [
              "<div>\n",
              "<style scoped>\n",
              "    .dataframe tbody tr th:only-of-type {\n",
              "        vertical-align: middle;\n",
              "    }\n",
              "\n",
              "    .dataframe tbody tr th {\n",
              "        vertical-align: top;\n",
              "    }\n",
              "\n",
              "    .dataframe thead th {\n",
              "        text-align: right;\n",
              "    }\n",
              "</style>\n",
              "<table border=\"1\" class=\"dataframe\">\n",
              "  <thead>\n",
              "    <tr style=\"text-align: right;\">\n",
              "      <th></th>\n",
              "      <th>Country</th>\n",
              "      <th>Capital</th>\n",
              "      <th>Population</th>\n",
              "    </tr>\n",
              "  </thead>\n",
              "  <tbody>\n",
              "    <tr>\n",
              "      <th>1</th>\n",
              "      <td>India</td>\n",
              "      <td>New Delhi</td>\n",
              "      <td>1303171035</td>\n",
              "    </tr>\n",
              "  </tbody>\n",
              "</table>\n",
              "</div>"
            ],
            "text/plain": [
              "  Country    Capital  Population\n",
              "1   India  New Delhi  1303171035"
            ]
          },
          "metadata": {},
          "execution_count": 22
        }
      ]
    },
    {
      "cell_type": "code",
      "metadata": {
        "colab": {
          "base_uri": "https://localhost:8080/",
          "height": 35
        },
        "id": "s2OzgBSJGDVX",
        "outputId": "d8603591-c664-418c-e3cb-6c30a1f6bd06"
      },
      "source": [
        "# df.ix[1,'Capital']\n",
        "df.loc[1,'Capital']"
      ],
      "execution_count": null,
      "outputs": [
        {
          "output_type": "execute_result",
          "data": {
            "application/vnd.google.colaboratory.intrinsic+json": {
              "type": "string"
            },
            "text/plain": [
              "'New Delhi'"
            ]
          },
          "metadata": {},
          "execution_count": 23
        }
      ]
    },
    {
      "cell_type": "markdown",
      "metadata": {
        "id": "HCWNQ53EyjuD"
      },
      "source": [
        "Atribut dan Method Data Frame lainnya"
      ]
    },
    {
      "cell_type": "code",
      "metadata": {
        "id": "XTFuUK5l5qbR",
        "colab": {
          "base_uri": "https://localhost:8080/",
          "height": 141
        },
        "outputId": "68100439-f863-4c6f-f2fd-b352c8be2201"
      },
      "source": [
        "df"
      ],
      "execution_count": null,
      "outputs": [
        {
          "output_type": "execute_result",
          "data": {
            "text/html": [
              "<div>\n",
              "<style scoped>\n",
              "    .dataframe tbody tr th:only-of-type {\n",
              "        vertical-align: middle;\n",
              "    }\n",
              "\n",
              "    .dataframe tbody tr th {\n",
              "        vertical-align: top;\n",
              "    }\n",
              "\n",
              "    .dataframe thead th {\n",
              "        text-align: right;\n",
              "    }\n",
              "</style>\n",
              "<table border=\"1\" class=\"dataframe\">\n",
              "  <thead>\n",
              "    <tr style=\"text-align: right;\">\n",
              "      <th></th>\n",
              "      <th>Country</th>\n",
              "      <th>Capital</th>\n",
              "      <th>Population</th>\n",
              "    </tr>\n",
              "  </thead>\n",
              "  <tbody>\n",
              "    <tr>\n",
              "      <th>0</th>\n",
              "      <td>Belgium</td>\n",
              "      <td>Brussels</td>\n",
              "      <td>11190846</td>\n",
              "    </tr>\n",
              "    <tr>\n",
              "      <th>1</th>\n",
              "      <td>India</td>\n",
              "      <td>New Delhi</td>\n",
              "      <td>1303171035</td>\n",
              "    </tr>\n",
              "    <tr>\n",
              "      <th>2</th>\n",
              "      <td>Brazil</td>\n",
              "      <td>Brasília</td>\n",
              "      <td>207847528</td>\n",
              "    </tr>\n",
              "  </tbody>\n",
              "</table>\n",
              "</div>"
            ],
            "text/plain": [
              "   Country    Capital  Population\n",
              "0  Belgium   Brussels    11190846\n",
              "1    India  New Delhi  1303171035\n",
              "2   Brazil   Brasília   207847528"
            ]
          },
          "metadata": {},
          "execution_count": 24
        }
      ]
    },
    {
      "cell_type": "code",
      "metadata": {
        "id": "xVbEImtn5qbR",
        "colab": {
          "base_uri": "https://localhost:8080/",
          "height": 141
        },
        "outputId": "066c97a0-da08-41fa-a6c6-5137936412fc"
      },
      "source": [
        "df.drop('Country', axis=1) # menghapus kolom Country"
      ],
      "execution_count": null,
      "outputs": [
        {
          "output_type": "execute_result",
          "data": {
            "text/html": [
              "<div>\n",
              "<style scoped>\n",
              "    .dataframe tbody tr th:only-of-type {\n",
              "        vertical-align: middle;\n",
              "    }\n",
              "\n",
              "    .dataframe tbody tr th {\n",
              "        vertical-align: top;\n",
              "    }\n",
              "\n",
              "    .dataframe thead th {\n",
              "        text-align: right;\n",
              "    }\n",
              "</style>\n",
              "<table border=\"1\" class=\"dataframe\">\n",
              "  <thead>\n",
              "    <tr style=\"text-align: right;\">\n",
              "      <th></th>\n",
              "      <th>Capital</th>\n",
              "      <th>Population</th>\n",
              "    </tr>\n",
              "  </thead>\n",
              "  <tbody>\n",
              "    <tr>\n",
              "      <th>0</th>\n",
              "      <td>Brussels</td>\n",
              "      <td>11190846</td>\n",
              "    </tr>\n",
              "    <tr>\n",
              "      <th>1</th>\n",
              "      <td>New Delhi</td>\n",
              "      <td>1303171035</td>\n",
              "    </tr>\n",
              "    <tr>\n",
              "      <th>2</th>\n",
              "      <td>Brasília</td>\n",
              "      <td>207847528</td>\n",
              "    </tr>\n",
              "  </tbody>\n",
              "</table>\n",
              "</div>"
            ],
            "text/plain": [
              "     Capital  Population\n",
              "0   Brussels    11190846\n",
              "1  New Delhi  1303171035\n",
              "2   Brasília   207847528"
            ]
          },
          "metadata": {},
          "execution_count": 25
        }
      ]
    },
    {
      "cell_type": "code",
      "metadata": {
        "id": "FWZofJZL5qbR",
        "colab": {
          "base_uri": "https://localhost:8080/",
          "height": 141
        },
        "outputId": "1c6666b6-9921-4b77-88fd-f5f95fad063a"
      },
      "source": [
        "df.sort_index() # mengurutkan berdasarkan index"
      ],
      "execution_count": null,
      "outputs": [
        {
          "output_type": "execute_result",
          "data": {
            "text/html": [
              "<div>\n",
              "<style scoped>\n",
              "    .dataframe tbody tr th:only-of-type {\n",
              "        vertical-align: middle;\n",
              "    }\n",
              "\n",
              "    .dataframe tbody tr th {\n",
              "        vertical-align: top;\n",
              "    }\n",
              "\n",
              "    .dataframe thead th {\n",
              "        text-align: right;\n",
              "    }\n",
              "</style>\n",
              "<table border=\"1\" class=\"dataframe\">\n",
              "  <thead>\n",
              "    <tr style=\"text-align: right;\">\n",
              "      <th></th>\n",
              "      <th>Country</th>\n",
              "      <th>Capital</th>\n",
              "      <th>Population</th>\n",
              "    </tr>\n",
              "  </thead>\n",
              "  <tbody>\n",
              "    <tr>\n",
              "      <th>0</th>\n",
              "      <td>Belgium</td>\n",
              "      <td>Brussels</td>\n",
              "      <td>11190846</td>\n",
              "    </tr>\n",
              "    <tr>\n",
              "      <th>1</th>\n",
              "      <td>India</td>\n",
              "      <td>New Delhi</td>\n",
              "      <td>1303171035</td>\n",
              "    </tr>\n",
              "    <tr>\n",
              "      <th>2</th>\n",
              "      <td>Brazil</td>\n",
              "      <td>Brasília</td>\n",
              "      <td>207847528</td>\n",
              "    </tr>\n",
              "  </tbody>\n",
              "</table>\n",
              "</div>"
            ],
            "text/plain": [
              "   Country    Capital  Population\n",
              "0  Belgium   Brussels    11190846\n",
              "1    India  New Delhi  1303171035\n",
              "2   Brazil   Brasília   207847528"
            ]
          },
          "metadata": {},
          "execution_count": 26
        }
      ]
    },
    {
      "cell_type": "code",
      "metadata": {
        "id": "9_0yci-G5qbS",
        "colab": {
          "base_uri": "https://localhost:8080/",
          "height": 141
        },
        "outputId": "0f7eb47d-5560-4b11-a0dd-225b2065cba6"
      },
      "source": [
        "df.rank() # menentukan peringkat"
      ],
      "execution_count": null,
      "outputs": [
        {
          "output_type": "execute_result",
          "data": {
            "text/html": [
              "<div>\n",
              "<style scoped>\n",
              "    .dataframe tbody tr th:only-of-type {\n",
              "        vertical-align: middle;\n",
              "    }\n",
              "\n",
              "    .dataframe tbody tr th {\n",
              "        vertical-align: top;\n",
              "    }\n",
              "\n",
              "    .dataframe thead th {\n",
              "        text-align: right;\n",
              "    }\n",
              "</style>\n",
              "<table border=\"1\" class=\"dataframe\">\n",
              "  <thead>\n",
              "    <tr style=\"text-align: right;\">\n",
              "      <th></th>\n",
              "      <th>Country</th>\n",
              "      <th>Capital</th>\n",
              "      <th>Population</th>\n",
              "    </tr>\n",
              "  </thead>\n",
              "  <tbody>\n",
              "    <tr>\n",
              "      <th>0</th>\n",
              "      <td>1.0</td>\n",
              "      <td>2.0</td>\n",
              "      <td>1.0</td>\n",
              "    </tr>\n",
              "    <tr>\n",
              "      <th>1</th>\n",
              "      <td>3.0</td>\n",
              "      <td>3.0</td>\n",
              "      <td>3.0</td>\n",
              "    </tr>\n",
              "    <tr>\n",
              "      <th>2</th>\n",
              "      <td>2.0</td>\n",
              "      <td>1.0</td>\n",
              "      <td>2.0</td>\n",
              "    </tr>\n",
              "  </tbody>\n",
              "</table>\n",
              "</div>"
            ],
            "text/plain": [
              "   Country  Capital  Population\n",
              "0      1.0      2.0         1.0\n",
              "1      3.0      3.0         3.0\n",
              "2      2.0      1.0         2.0"
            ]
          },
          "metadata": {},
          "execution_count": 27
        }
      ]
    },
    {
      "cell_type": "code",
      "metadata": {
        "id": "1ab42lk85qbS",
        "colab": {
          "base_uri": "https://localhost:8080/",
          "height": 141
        },
        "outputId": "c6951784-0fe2-4150-a75a-510018f071fb"
      },
      "source": [
        "df.sort_values(by='Country') # mengurutkan kolom Country berdasarkan nilai"
      ],
      "execution_count": null,
      "outputs": [
        {
          "output_type": "execute_result",
          "data": {
            "text/html": [
              "<div>\n",
              "<style scoped>\n",
              "    .dataframe tbody tr th:only-of-type {\n",
              "        vertical-align: middle;\n",
              "    }\n",
              "\n",
              "    .dataframe tbody tr th {\n",
              "        vertical-align: top;\n",
              "    }\n",
              "\n",
              "    .dataframe thead th {\n",
              "        text-align: right;\n",
              "    }\n",
              "</style>\n",
              "<table border=\"1\" class=\"dataframe\">\n",
              "  <thead>\n",
              "    <tr style=\"text-align: right;\">\n",
              "      <th></th>\n",
              "      <th>Country</th>\n",
              "      <th>Capital</th>\n",
              "      <th>Population</th>\n",
              "    </tr>\n",
              "  </thead>\n",
              "  <tbody>\n",
              "    <tr>\n",
              "      <th>0</th>\n",
              "      <td>Belgium</td>\n",
              "      <td>Brussels</td>\n",
              "      <td>11190846</td>\n",
              "    </tr>\n",
              "    <tr>\n",
              "      <th>2</th>\n",
              "      <td>Brazil</td>\n",
              "      <td>Brasília</td>\n",
              "      <td>207847528</td>\n",
              "    </tr>\n",
              "    <tr>\n",
              "      <th>1</th>\n",
              "      <td>India</td>\n",
              "      <td>New Delhi</td>\n",
              "      <td>1303171035</td>\n",
              "    </tr>\n",
              "  </tbody>\n",
              "</table>\n",
              "</div>"
            ],
            "text/plain": [
              "   Country    Capital  Population\n",
              "0  Belgium   Brussels    11190846\n",
              "2   Brazil   Brasília   207847528\n",
              "1    India  New Delhi  1303171035"
            ]
          },
          "metadata": {},
          "execution_count": 28
        }
      ]
    },
    {
      "cell_type": "code",
      "metadata": {
        "id": "IV3Lioyn5qbS",
        "colab": {
          "base_uri": "https://localhost:8080/"
        },
        "outputId": "69f49675-6e14-4073-c0b3-f6c2e8073e28"
      },
      "source": [
        "df.shape # untuk mengetahui jumlah baris dan kolom"
      ],
      "execution_count": null,
      "outputs": [
        {
          "output_type": "execute_result",
          "data": {
            "text/plain": [
              "(3, 3)"
            ]
          },
          "metadata": {},
          "execution_count": 29
        }
      ]
    },
    {
      "cell_type": "code",
      "metadata": {
        "id": "rGi9F6Xl5qbT",
        "colab": {
          "base_uri": "https://localhost:8080/"
        },
        "outputId": "06079e59-3879-4428-8d72-365fdb01bfb8"
      },
      "source": [
        "df.index # untuk mengetahui index"
      ],
      "execution_count": null,
      "outputs": [
        {
          "output_type": "execute_result",
          "data": {
            "text/plain": [
              "RangeIndex(start=0, stop=3, step=1)"
            ]
          },
          "metadata": {},
          "execution_count": 60
        }
      ]
    },
    {
      "cell_type": "code",
      "metadata": {
        "id": "czf9ZTAH5qbT",
        "colab": {
          "base_uri": "https://localhost:8080/"
        },
        "outputId": "849faa82-7c8e-470b-f565-8d8f088bca2c"
      },
      "source": [
        "df.columns # untuk mengetahui nilai"
      ],
      "execution_count": null,
      "outputs": [
        {
          "output_type": "execute_result",
          "data": {
            "text/plain": [
              "Index(['Country', 'Capital', 'Population'], dtype='object')"
            ]
          },
          "metadata": {},
          "execution_count": 61
        }
      ]
    },
    {
      "cell_type": "code",
      "metadata": {
        "id": "B8TRi37f5qbT",
        "colab": {
          "base_uri": "https://localhost:8080/"
        },
        "outputId": "0b92c71c-6164-4417-cd15-f8ec99845fd6"
      },
      "source": [
        "df.info() # untuk mengetahui info "
      ],
      "execution_count": null,
      "outputs": [
        {
          "output_type": "stream",
          "name": "stdout",
          "text": [
            "<class 'pandas.core.frame.DataFrame'>\n",
            "RangeIndex: 3 entries, 0 to 2\n",
            "Data columns (total 3 columns):\n",
            " #   Column      Non-Null Count  Dtype \n",
            "---  ------      --------------  ----- \n",
            " 0   Country     3 non-null      object\n",
            " 1   Capital     3 non-null      object\n",
            " 2   Population  3 non-null      int64 \n",
            "dtypes: int64(1), object(2)\n",
            "memory usage: 200.0+ bytes\n"
          ]
        }
      ]
    },
    {
      "cell_type": "code",
      "metadata": {
        "id": "aGWI6yYX5qbT",
        "colab": {
          "base_uri": "https://localhost:8080/"
        },
        "outputId": "a749775a-c500-4278-8e2b-05d07026cfc6"
      },
      "source": [
        "df.count() # menghitung jumlah elemen bukan NA / None"
      ],
      "execution_count": null,
      "outputs": [
        {
          "output_type": "execute_result",
          "data": {
            "text/plain": [
              "Country       3\n",
              "Capital       3\n",
              "Population    3\n",
              "dtype: int64"
            ]
          },
          "metadata": {},
          "execution_count": 33
        }
      ]
    },
    {
      "cell_type": "code",
      "metadata": {
        "id": "Uc5gjFwe5qbU",
        "colab": {
          "base_uri": "https://localhost:8080/"
        },
        "outputId": "3c5be72c-79fa-4831-aefd-022260dc61be"
      },
      "source": [
        "df.sum() # menentukan jumlah"
      ],
      "execution_count": null,
      "outputs": [
        {
          "output_type": "execute_result",
          "data": {
            "text/plain": [
              "Country              BelgiumIndiaBrazil\n",
              "Capital       BrusselsNew DelhiBrasília\n",
              "Population                   1522209409\n",
              "dtype: object"
            ]
          },
          "metadata": {},
          "execution_count": 34
        }
      ]
    },
    {
      "cell_type": "code",
      "metadata": {
        "id": "gWX_KzNx5qbU",
        "colab": {
          "base_uri": "https://localhost:8080/",
          "height": 141
        },
        "outputId": "b4036853-2a92-43e5-986c-c4b1257d4ed1"
      },
      "source": [
        "df.cumsum() # menentukan jumlah komulatif berdasarkan grup"
      ],
      "execution_count": null,
      "outputs": [
        {
          "output_type": "execute_result",
          "data": {
            "text/html": [
              "<div>\n",
              "<style scoped>\n",
              "    .dataframe tbody tr th:only-of-type {\n",
              "        vertical-align: middle;\n",
              "    }\n",
              "\n",
              "    .dataframe tbody tr th {\n",
              "        vertical-align: top;\n",
              "    }\n",
              "\n",
              "    .dataframe thead th {\n",
              "        text-align: right;\n",
              "    }\n",
              "</style>\n",
              "<table border=\"1\" class=\"dataframe\">\n",
              "  <thead>\n",
              "    <tr style=\"text-align: right;\">\n",
              "      <th></th>\n",
              "      <th>Country</th>\n",
              "      <th>Capital</th>\n",
              "      <th>Population</th>\n",
              "    </tr>\n",
              "  </thead>\n",
              "  <tbody>\n",
              "    <tr>\n",
              "      <th>0</th>\n",
              "      <td>Belgium</td>\n",
              "      <td>Brussels</td>\n",
              "      <td>11190846</td>\n",
              "    </tr>\n",
              "    <tr>\n",
              "      <th>1</th>\n",
              "      <td>BelgiumIndia</td>\n",
              "      <td>BrusselsNew Delhi</td>\n",
              "      <td>1314361881</td>\n",
              "    </tr>\n",
              "    <tr>\n",
              "      <th>2</th>\n",
              "      <td>BelgiumIndiaBrazil</td>\n",
              "      <td>BrusselsNew DelhiBrasília</td>\n",
              "      <td>1522209409</td>\n",
              "    </tr>\n",
              "  </tbody>\n",
              "</table>\n",
              "</div>"
            ],
            "text/plain": [
              "              Country                    Capital  Population\n",
              "0             Belgium                   Brussels    11190846\n",
              "1        BelgiumIndia          BrusselsNew Delhi  1314361881\n",
              "2  BelgiumIndiaBrazil  BrusselsNew DelhiBrasília  1522209409"
            ]
          },
          "metadata": {},
          "execution_count": 35
        }
      ]
    },
    {
      "cell_type": "code",
      "metadata": {
        "id": "La0DAN305qbU",
        "colab": {
          "base_uri": "https://localhost:8080/"
        },
        "outputId": "c1a64dd1-46f8-4df2-9750-08e8bac03dcb"
      },
      "source": [
        "df.min() # menentukan nilai minimum"
      ],
      "execution_count": null,
      "outputs": [
        {
          "output_type": "execute_result",
          "data": {
            "text/plain": [
              "Country        Belgium\n",
              "Capital       Brasília\n",
              "Population    11190846\n",
              "dtype: object"
            ]
          },
          "metadata": {},
          "execution_count": 36
        }
      ]
    },
    {
      "cell_type": "code",
      "metadata": {
        "id": "6IIJmGXc5qbU",
        "colab": {
          "base_uri": "https://localhost:8080/"
        },
        "outputId": "1d40c2fb-33ec-47fb-8065-0f6849b52c9c"
      },
      "source": [
        "df.max() # menentukan nilai maximum"
      ],
      "execution_count": null,
      "outputs": [
        {
          "output_type": "execute_result",
          "data": {
            "text/plain": [
              "Country            India\n",
              "Capital        New Delhi\n",
              "Population    1303171035\n",
              "dtype: object"
            ]
          },
          "metadata": {},
          "execution_count": 37
        }
      ]
    },
    {
      "cell_type": "code",
      "metadata": {
        "id": "eSYPPfnx5qbU",
        "colab": {
          "base_uri": "https://localhost:8080/",
          "height": 294
        },
        "outputId": "5933b462-7448-4e06-b1a8-79dc32597908"
      },
      "source": [
        "df.describe() # menampilkan statistik data"
      ],
      "execution_count": null,
      "outputs": [
        {
          "output_type": "execute_result",
          "data": {
            "text/html": [
              "<div>\n",
              "<style scoped>\n",
              "    .dataframe tbody tr th:only-of-type {\n",
              "        vertical-align: middle;\n",
              "    }\n",
              "\n",
              "    .dataframe tbody tr th {\n",
              "        vertical-align: top;\n",
              "    }\n",
              "\n",
              "    .dataframe thead th {\n",
              "        text-align: right;\n",
              "    }\n",
              "</style>\n",
              "<table border=\"1\" class=\"dataframe\">\n",
              "  <thead>\n",
              "    <tr style=\"text-align: right;\">\n",
              "      <th></th>\n",
              "      <th>Population</th>\n",
              "    </tr>\n",
              "  </thead>\n",
              "  <tbody>\n",
              "    <tr>\n",
              "      <th>count</th>\n",
              "      <td>3.000000e+00</td>\n",
              "    </tr>\n",
              "    <tr>\n",
              "      <th>mean</th>\n",
              "      <td>5.074031e+08</td>\n",
              "    </tr>\n",
              "    <tr>\n",
              "      <th>std</th>\n",
              "      <td>6.961346e+08</td>\n",
              "    </tr>\n",
              "    <tr>\n",
              "      <th>min</th>\n",
              "      <td>1.119085e+07</td>\n",
              "    </tr>\n",
              "    <tr>\n",
              "      <th>25%</th>\n",
              "      <td>1.095192e+08</td>\n",
              "    </tr>\n",
              "    <tr>\n",
              "      <th>50%</th>\n",
              "      <td>2.078475e+08</td>\n",
              "    </tr>\n",
              "    <tr>\n",
              "      <th>75%</th>\n",
              "      <td>7.555093e+08</td>\n",
              "    </tr>\n",
              "    <tr>\n",
              "      <th>max</th>\n",
              "      <td>1.303171e+09</td>\n",
              "    </tr>\n",
              "  </tbody>\n",
              "</table>\n",
              "</div>"
            ],
            "text/plain": [
              "         Population\n",
              "count  3.000000e+00\n",
              "mean   5.074031e+08\n",
              "std    6.961346e+08\n",
              "min    1.119085e+07\n",
              "25%    1.095192e+08\n",
              "50%    2.078475e+08\n",
              "75%    7.555093e+08\n",
              "max    1.303171e+09"
            ]
          },
          "metadata": {},
          "execution_count": 38
        }
      ]
    },
    {
      "cell_type": "code",
      "metadata": {
        "id": "7Wqug7UR5qbU",
        "colab": {
          "base_uri": "https://localhost:8080/"
        },
        "outputId": "bab16361-7921-4482-d794-a0e24fada1f7"
      },
      "source": [
        "df.mean() # menentukan rata-rata"
      ],
      "execution_count": null,
      "outputs": [
        {
          "output_type": "execute_result",
          "data": {
            "text/plain": [
              "Population    5.074031e+08\n",
              "dtype: float64"
            ]
          },
          "metadata": {},
          "execution_count": 39
        }
      ]
    },
    {
      "cell_type": "code",
      "metadata": {
        "id": "N-YddYAI5qbU",
        "colab": {
          "base_uri": "https://localhost:8080/"
        },
        "outputId": "1f346e6a-28cc-45d7-8258-530fd8438f60"
      },
      "source": [
        "df.median() # menentukan nilai tengah"
      ],
      "execution_count": null,
      "outputs": [
        {
          "output_type": "execute_result",
          "data": {
            "text/plain": [
              "Population    207847528.0\n",
              "dtype: float64"
            ]
          },
          "metadata": {},
          "execution_count": 40
        }
      ]
    },
    {
      "cell_type": "markdown",
      "metadata": {
        "id": "KMckFYUdyZPT"
      },
      "source": [
        "### Mengimport Data ke Data Frame"
      ]
    },
    {
      "cell_type": "code",
      "metadata": {
        "id": "iNLFKrp8ycf3",
        "colab": {
          "base_uri": "https://localhost:8080/",
          "height": 414
        },
        "outputId": "f4158dd3-6d06-4af4-9b26-e03936af1464"
      },
      "source": [
        "#Contoh mengimport dari web\n",
        "url = 'https://people.sc.fsu.edu/~jburkardt/data/csv/freshman_kgs.csv'\n",
        "df2 = pd.read_csv(url)\n",
        "\n",
        "df2"
      ],
      "execution_count": null,
      "outputs": [
        {
          "output_type": "execute_result",
          "data": {
            "text/html": [
              "<div>\n",
              "<style scoped>\n",
              "    .dataframe tbody tr th:only-of-type {\n",
              "        vertical-align: middle;\n",
              "    }\n",
              "\n",
              "    .dataframe tbody tr th {\n",
              "        vertical-align: top;\n",
              "    }\n",
              "\n",
              "    .dataframe thead th {\n",
              "        text-align: right;\n",
              "    }\n",
              "</style>\n",
              "<table border=\"1\" class=\"dataframe\">\n",
              "  <thead>\n",
              "    <tr style=\"text-align: right;\">\n",
              "      <th></th>\n",
              "      <th>Sex</th>\n",
              "      <th>\"Weight (Sep)\"</th>\n",
              "      <th>\"Weight (Apr)\"</th>\n",
              "      <th>\"BMI (Sep)\"</th>\n",
              "      <th>\"BMI (Apr)\"</th>\n",
              "    </tr>\n",
              "  </thead>\n",
              "  <tbody>\n",
              "    <tr>\n",
              "      <th>0</th>\n",
              "      <td>M</td>\n",
              "      <td>72</td>\n",
              "      <td>59</td>\n",
              "      <td>22.02</td>\n",
              "      <td>18.14</td>\n",
              "    </tr>\n",
              "    <tr>\n",
              "      <th>1</th>\n",
              "      <td>M</td>\n",
              "      <td>97</td>\n",
              "      <td>86</td>\n",
              "      <td>19.70</td>\n",
              "      <td>17.44</td>\n",
              "    </tr>\n",
              "    <tr>\n",
              "      <th>2</th>\n",
              "      <td>M</td>\n",
              "      <td>74</td>\n",
              "      <td>69</td>\n",
              "      <td>24.09</td>\n",
              "      <td>22.43</td>\n",
              "    </tr>\n",
              "    <tr>\n",
              "      <th>3</th>\n",
              "      <td>M</td>\n",
              "      <td>93</td>\n",
              "      <td>88</td>\n",
              "      <td>26.97</td>\n",
              "      <td>25.57</td>\n",
              "    </tr>\n",
              "    <tr>\n",
              "      <th>4</th>\n",
              "      <td>F</td>\n",
              "      <td>68</td>\n",
              "      <td>64</td>\n",
              "      <td>21.51</td>\n",
              "      <td>20.10</td>\n",
              "    </tr>\n",
              "    <tr>\n",
              "      <th>...</th>\n",
              "      <td>...</td>\n",
              "      <td>...</td>\n",
              "      <td>...</td>\n",
              "      <td>...</td>\n",
              "      <td>...</td>\n",
              "    </tr>\n",
              "    <tr>\n",
              "      <th>62</th>\n",
              "      <td>M</td>\n",
              "      <td>65</td>\n",
              "      <td>71</td>\n",
              "      <td>22.51</td>\n",
              "      <td>24.45</td>\n",
              "    </tr>\n",
              "    <tr>\n",
              "      <th>63</th>\n",
              "      <td>M</td>\n",
              "      <td>75</td>\n",
              "      <td>82</td>\n",
              "      <td>23.69</td>\n",
              "      <td>25.80</td>\n",
              "    </tr>\n",
              "    <tr>\n",
              "      <th>64</th>\n",
              "      <td>F</td>\n",
              "      <td>42</td>\n",
              "      <td>49</td>\n",
              "      <td>15.08</td>\n",
              "      <td>17.74</td>\n",
              "    </tr>\n",
              "    <tr>\n",
              "      <th>65</th>\n",
              "      <td>M</td>\n",
              "      <td>74</td>\n",
              "      <td>82</td>\n",
              "      <td>22.64</td>\n",
              "      <td>25.33</td>\n",
              "    </tr>\n",
              "    <tr>\n",
              "      <th>66</th>\n",
              "      <td>M</td>\n",
              "      <td>94</td>\n",
              "      <td>105</td>\n",
              "      <td>36.57</td>\n",
              "      <td>40.86</td>\n",
              "    </tr>\n",
              "  </tbody>\n",
              "</table>\n",
              "<p>67 rows × 5 columns</p>\n",
              "</div>"
            ],
            "text/plain": [
              "   Sex   \"Weight (Sep)\"   \"Weight (Apr)\"   \"BMI (Sep)\"   \"BMI (Apr)\"\n",
              "0    M               72               59         22.02         18.14\n",
              "1    M               97               86         19.70         17.44\n",
              "2    M               74               69         24.09         22.43\n",
              "3    M               93               88         26.97         25.57\n",
              "4    F               68               64         21.51         20.10\n",
              "..  ..              ...              ...           ...           ...\n",
              "62   M               65               71         22.51         24.45\n",
              "63   M               75               82         23.69         25.80\n",
              "64   F               42               49         15.08         17.74\n",
              "65   M               74               82         22.64         25.33\n",
              "66   M               94              105         36.57         40.86\n",
              "\n",
              "[67 rows x 5 columns]"
            ]
          },
          "metadata": {},
          "execution_count": 41
        }
      ]
    },
    {
      "cell_type": "code",
      "metadata": {
        "colab": {
          "base_uri": "https://localhost:8080/",
          "height": 1000
        },
        "id": "ZpUZX_Tx3P77",
        "outputId": "bb2fc640-091b-48d9-be2f-100d5e2cb26c"
      },
      "source": [
        "disney = '/content/Walt_disney_movie_dataset.csv'\n",
        "data = pd.read_csv(disney)\n",
        "\n",
        "data"
      ],
      "execution_count": null,
      "outputs": [
        {
          "output_type": "execute_result",
          "data": {
            "text/html": [
              "<div>\n",
              "<style scoped>\n",
              "    .dataframe tbody tr th:only-of-type {\n",
              "        vertical-align: middle;\n",
              "    }\n",
              "\n",
              "    .dataframe tbody tr th {\n",
              "        vertical-align: top;\n",
              "    }\n",
              "\n",
              "    .dataframe thead th {\n",
              "        text-align: right;\n",
              "    }\n",
              "</style>\n",
              "<table border=\"1\" class=\"dataframe\">\n",
              "  <thead>\n",
              "    <tr style=\"text-align: right;\">\n",
              "      <th></th>\n",
              "      <th>Unnamed: 0</th>\n",
              "      <th>title</th>\n",
              "      <th>Production company</th>\n",
              "      <th>Release date</th>\n",
              "      <th>Running time</th>\n",
              "      <th>Country</th>\n",
              "      <th>Language</th>\n",
              "      <th>Box office</th>\n",
              "      <th>Running time (int)</th>\n",
              "      <th>Budget (float)</th>\n",
              "      <th>Box office (float)</th>\n",
              "      <th>Release date (datetime)</th>\n",
              "      <th>Directed by</th>\n",
              "      <th>Written by</th>\n",
              "      <th>Based on</th>\n",
              "      <th>Produced by</th>\n",
              "      <th>Starring</th>\n",
              "      <th>Music by</th>\n",
              "      <th>Distributed by</th>\n",
              "      <th>Budget</th>\n",
              "      <th>Story by</th>\n",
              "      <th>Narrated by</th>\n",
              "      <th>Cinematography</th>\n",
              "      <th>Edited by</th>\n",
              "      <th>Languages</th>\n",
              "      <th>Screenplay by</th>\n",
              "      <th>Countries</th>\n",
              "      <th>Production companies</th>\n",
              "      <th>Color process</th>\n",
              "      <th>Japanese</th>\n",
              "      <th>Hepburn</th>\n",
              "      <th>Adaptation by</th>\n",
              "      <th>Animation by</th>\n",
              "      <th>Traditional</th>\n",
              "      <th>Simplified</th>\n",
              "    </tr>\n",
              "  </thead>\n",
              "  <tbody>\n",
              "    <tr>\n",
              "      <th>0</th>\n",
              "      <td>0</td>\n",
              "      <td>Academy Award Review of</td>\n",
              "      <td>Walt Disney Productions</td>\n",
              "      <td>['May 19, 1937']</td>\n",
              "      <td>41 minutes (74 minutes 1966 release)</td>\n",
              "      <td>United States</td>\n",
              "      <td>English</td>\n",
              "      <td>$45.472</td>\n",
              "      <td>41.0</td>\n",
              "      <td>NaN</td>\n",
              "      <td>4.547200e+01</td>\n",
              "      <td>1937-05-19</td>\n",
              "      <td>NaN</td>\n",
              "      <td>NaN</td>\n",
              "      <td>NaN</td>\n",
              "      <td>NaN</td>\n",
              "      <td>NaN</td>\n",
              "      <td>NaN</td>\n",
              "      <td>NaN</td>\n",
              "      <td>NaN</td>\n",
              "      <td>NaN</td>\n",
              "      <td>NaN</td>\n",
              "      <td>NaN</td>\n",
              "      <td>NaN</td>\n",
              "      <td>NaN</td>\n",
              "      <td>NaN</td>\n",
              "      <td>NaN</td>\n",
              "      <td>NaN</td>\n",
              "      <td>NaN</td>\n",
              "      <td>NaN</td>\n",
              "      <td>NaN</td>\n",
              "      <td>NaN</td>\n",
              "      <td>NaN</td>\n",
              "      <td>NaN</td>\n",
              "      <td>NaN</td>\n",
              "    </tr>\n",
              "    <tr>\n",
              "      <th>1</th>\n",
              "      <td>1</td>\n",
              "      <td>Snow White and the Seven Dwarfs</td>\n",
              "      <td>Walt Disney Productions</td>\n",
              "      <td>['December 21, 1937 ( Carthay Circle Theatre )']</td>\n",
              "      <td>83 minutes</td>\n",
              "      <td>United States</td>\n",
              "      <td>English</td>\n",
              "      <td>$418 million</td>\n",
              "      <td>83.0</td>\n",
              "      <td>1490000.0</td>\n",
              "      <td>4.180000e+08</td>\n",
              "      <td>1937-12-21</td>\n",
              "      <td>['David Hand', 'William Cottrell', 'Wilfred Ja...</td>\n",
              "      <td>['Ted Sears', 'Richard Creedon', 'Otto England...</td>\n",
              "      <td>['Snow White', 'by The', 'Brothers Grimm']</td>\n",
              "      <td>Walt Disney</td>\n",
              "      <td>['Adriana Caselotti', 'Lucille La Verne', 'Har...</td>\n",
              "      <td>['Frank Churchill', 'Paul Smith', 'Leigh Harli...</td>\n",
              "      <td>RKO Radio Pictures</td>\n",
              "      <td>$1.49 million</td>\n",
              "      <td>NaN</td>\n",
              "      <td>NaN</td>\n",
              "      <td>NaN</td>\n",
              "      <td>NaN</td>\n",
              "      <td>NaN</td>\n",
              "      <td>NaN</td>\n",
              "      <td>NaN</td>\n",
              "      <td>NaN</td>\n",
              "      <td>NaN</td>\n",
              "      <td>NaN</td>\n",
              "      <td>NaN</td>\n",
              "      <td>NaN</td>\n",
              "      <td>NaN</td>\n",
              "      <td>NaN</td>\n",
              "      <td>NaN</td>\n",
              "    </tr>\n",
              "    <tr>\n",
              "      <th>2</th>\n",
              "      <td>2</td>\n",
              "      <td>Pinocchio</td>\n",
              "      <td>Walt Disney Productions</td>\n",
              "      <td>['February 7, 1940 ( Center Theatre )', 'Febru...</td>\n",
              "      <td>88 minutes</td>\n",
              "      <td>United States</td>\n",
              "      <td>English</td>\n",
              "      <td>$164 million</td>\n",
              "      <td>88.0</td>\n",
              "      <td>2600000.0</td>\n",
              "      <td>1.640000e+08</td>\n",
              "      <td>1940-02-07</td>\n",
              "      <td>['Ben Sharpsteen', 'Hamilton Luske', 'Bill Rob...</td>\n",
              "      <td>NaN</td>\n",
              "      <td>['The Adventures of Pinocchio', 'by', 'Carlo C...</td>\n",
              "      <td>Walt Disney</td>\n",
              "      <td>['Cliff Edwards', 'Dickie Jones', 'Christian R...</td>\n",
              "      <td>['Leigh Harline', 'Paul J. Smith']</td>\n",
              "      <td>RKO Radio Pictures</td>\n",
              "      <td>$2.6 million</td>\n",
              "      <td>['Ted Sears', 'Otto Englander', 'Webb Smith', ...</td>\n",
              "      <td>NaN</td>\n",
              "      <td>NaN</td>\n",
              "      <td>NaN</td>\n",
              "      <td>NaN</td>\n",
              "      <td>NaN</td>\n",
              "      <td>NaN</td>\n",
              "      <td>NaN</td>\n",
              "      <td>NaN</td>\n",
              "      <td>NaN</td>\n",
              "      <td>NaN</td>\n",
              "      <td>NaN</td>\n",
              "      <td>NaN</td>\n",
              "      <td>NaN</td>\n",
              "      <td>NaN</td>\n",
              "    </tr>\n",
              "    <tr>\n",
              "      <th>3</th>\n",
              "      <td>3</td>\n",
              "      <td>Fantasia</td>\n",
              "      <td>Walt Disney Productions</td>\n",
              "      <td>['November 13, 1940']</td>\n",
              "      <td>126 minutes</td>\n",
              "      <td>United States</td>\n",
              "      <td>English</td>\n",
              "      <td>$76.4–$83.3 million (United States and Canada)</td>\n",
              "      <td>126.0</td>\n",
              "      <td>2280000.0</td>\n",
              "      <td>8.330000e+07</td>\n",
              "      <td>1940-11-13</td>\n",
              "      <td>['Samuel Armstrong', 'James Algar', 'Bill Robe...</td>\n",
              "      <td>NaN</td>\n",
              "      <td>NaN</td>\n",
              "      <td>['Walt Disney', 'Ben Sharpsteen']</td>\n",
              "      <td>['Leopold Stokowski', 'Deems Taylor']</td>\n",
              "      <td>See program</td>\n",
              "      <td>RKO Radio Pictures</td>\n",
              "      <td>$2.28 million</td>\n",
              "      <td>['Joe Grant', 'Dick Huemer']</td>\n",
              "      <td>Deems Taylor</td>\n",
              "      <td>James Wong Howe</td>\n",
              "      <td>NaN</td>\n",
              "      <td>NaN</td>\n",
              "      <td>NaN</td>\n",
              "      <td>NaN</td>\n",
              "      <td>NaN</td>\n",
              "      <td>NaN</td>\n",
              "      <td>NaN</td>\n",
              "      <td>NaN</td>\n",
              "      <td>NaN</td>\n",
              "      <td>NaN</td>\n",
              "      <td>NaN</td>\n",
              "      <td>NaN</td>\n",
              "    </tr>\n",
              "    <tr>\n",
              "      <th>4</th>\n",
              "      <td>4</td>\n",
              "      <td>The Reluctant Dragon</td>\n",
              "      <td>Walt Disney Productions</td>\n",
              "      <td>['June 27, 1941']</td>\n",
              "      <td>74 minutes</td>\n",
              "      <td>United States</td>\n",
              "      <td>English</td>\n",
              "      <td>$960,000 (worldwide rentals)</td>\n",
              "      <td>74.0</td>\n",
              "      <td>600000.0</td>\n",
              "      <td>9.600000e+05</td>\n",
              "      <td>1941-06-27</td>\n",
              "      <td>['Alfred Werker', '(live action)', 'Hamilton L...</td>\n",
              "      <td>['Live-action:', 'Ted Sears', 'Al Perkins', 'L...</td>\n",
              "      <td>NaN</td>\n",
              "      <td>Walt Disney</td>\n",
              "      <td>['Robert Benchley', 'Frances Gifford', 'Buddy ...</td>\n",
              "      <td>['Frank Churchill', 'Larry Morey']</td>\n",
              "      <td>RKO Radio Pictures</td>\n",
              "      <td>$600,000</td>\n",
              "      <td>NaN</td>\n",
              "      <td>NaN</td>\n",
              "      <td>Bert Glennon</td>\n",
              "      <td>Paul Weatherwax</td>\n",
              "      <td>NaN</td>\n",
              "      <td>NaN</td>\n",
              "      <td>NaN</td>\n",
              "      <td>NaN</td>\n",
              "      <td>NaN</td>\n",
              "      <td>NaN</td>\n",
              "      <td>NaN</td>\n",
              "      <td>NaN</td>\n",
              "      <td>NaN</td>\n",
              "      <td>NaN</td>\n",
              "      <td>NaN</td>\n",
              "    </tr>\n",
              "    <tr>\n",
              "      <th>...</th>\n",
              "      <td>...</td>\n",
              "      <td>...</td>\n",
              "      <td>...</td>\n",
              "      <td>...</td>\n",
              "      <td>...</td>\n",
              "      <td>...</td>\n",
              "      <td>...</td>\n",
              "      <td>...</td>\n",
              "      <td>...</td>\n",
              "      <td>...</td>\n",
              "      <td>...</td>\n",
              "      <td>...</td>\n",
              "      <td>...</td>\n",
              "      <td>...</td>\n",
              "      <td>...</td>\n",
              "      <td>...</td>\n",
              "      <td>...</td>\n",
              "      <td>...</td>\n",
              "      <td>...</td>\n",
              "      <td>...</td>\n",
              "      <td>...</td>\n",
              "      <td>...</td>\n",
              "      <td>...</td>\n",
              "      <td>...</td>\n",
              "      <td>...</td>\n",
              "      <td>...</td>\n",
              "      <td>...</td>\n",
              "      <td>...</td>\n",
              "      <td>...</td>\n",
              "      <td>...</td>\n",
              "      <td>...</td>\n",
              "      <td>...</td>\n",
              "      <td>...</td>\n",
              "      <td>...</td>\n",
              "      <td>...</td>\n",
              "    </tr>\n",
              "    <tr>\n",
              "      <th>447</th>\n",
              "      <td>447</td>\n",
              "      <td>Chip 'n Dale: Rescue Rangers</td>\n",
              "      <td>NaN</td>\n",
              "      <td>NaN</td>\n",
              "      <td>NaN</td>\n",
              "      <td>United States</td>\n",
              "      <td>English</td>\n",
              "      <td>NaN</td>\n",
              "      <td>NaN</td>\n",
              "      <td>NaN</td>\n",
              "      <td>NaN</td>\n",
              "      <td>NaN</td>\n",
              "      <td>Akiva Schaffer</td>\n",
              "      <td>NaN</td>\n",
              "      <td>[\"Chip 'n Dale: Rescue Rangers\", 'by', 'Tad St...</td>\n",
              "      <td>['David Hoberman', 'Todd Lieberman']</td>\n",
              "      <td>['Andy Samberg', 'John Mulaney']</td>\n",
              "      <td>Brian Tyler</td>\n",
              "      <td>Walt Disney Studios Motion Pictures</td>\n",
              "      <td>NaN</td>\n",
              "      <td>Barry Schwartz</td>\n",
              "      <td>NaN</td>\n",
              "      <td>Larry Fong</td>\n",
              "      <td>NaN</td>\n",
              "      <td>NaN</td>\n",
              "      <td>['Dan Gregor', 'Doug Mand']</td>\n",
              "      <td>NaN</td>\n",
              "      <td>['Walt Disney Pictures', 'Mandeville Films']</td>\n",
              "      <td>NaN</td>\n",
              "      <td>NaN</td>\n",
              "      <td>NaN</td>\n",
              "      <td>NaN</td>\n",
              "      <td>NaN</td>\n",
              "      <td>NaN</td>\n",
              "      <td>NaN</td>\n",
              "    </tr>\n",
              "    <tr>\n",
              "      <th>448</th>\n",
              "      <td>448</td>\n",
              "      <td>Hocus Pocus</td>\n",
              "      <td>Walt Disney Pictures</td>\n",
              "      <td>['July 16, 1993']</td>\n",
              "      <td>96 minutes</td>\n",
              "      <td>United States</td>\n",
              "      <td>English</td>\n",
              "      <td>$44.9 million</td>\n",
              "      <td>96.0</td>\n",
              "      <td>28000000.0</td>\n",
              "      <td>4.490000e+07</td>\n",
              "      <td>1993-07-16</td>\n",
              "      <td>Kenny Ortega</td>\n",
              "      <td>NaN</td>\n",
              "      <td>NaN</td>\n",
              "      <td>['David Kirschner', 'Steven Haft']</td>\n",
              "      <td>['Bette Midler', 'Sarah Jessica Parker', 'Kath...</td>\n",
              "      <td>John Debney</td>\n",
              "      <td>Buena Vista Pictures</td>\n",
              "      <td>$28 million</td>\n",
              "      <td>['David Kirschner', 'Mick Garris']</td>\n",
              "      <td>NaN</td>\n",
              "      <td>Hiro Narita</td>\n",
              "      <td>Peter E. Berger</td>\n",
              "      <td>NaN</td>\n",
              "      <td>['Mick Garris', 'Neil Cuthbert']</td>\n",
              "      <td>NaN</td>\n",
              "      <td>NaN</td>\n",
              "      <td>NaN</td>\n",
              "      <td>NaN</td>\n",
              "      <td>NaN</td>\n",
              "      <td>NaN</td>\n",
              "      <td>NaN</td>\n",
              "      <td>NaN</td>\n",
              "      <td>NaN</td>\n",
              "    </tr>\n",
              "    <tr>\n",
              "      <th>449</th>\n",
              "      <td>449</td>\n",
              "      <td>Shrunk</td>\n",
              "      <td>NaN</td>\n",
              "      <td>NaN</td>\n",
              "      <td>NaN</td>\n",
              "      <td>United States</td>\n",
              "      <td>English</td>\n",
              "      <td>NaN</td>\n",
              "      <td>NaN</td>\n",
              "      <td>NaN</td>\n",
              "      <td>NaN</td>\n",
              "      <td>NaN</td>\n",
              "      <td>Joe Johnston</td>\n",
              "      <td>NaN</td>\n",
              "      <td>['Characters', 'by', 'Stuart Gordon', ',', 'Br...</td>\n",
              "      <td>['David Hoberman', 'Todd Lieberman']</td>\n",
              "      <td>['Josh Gad', 'Rick Moranis']</td>\n",
              "      <td>NaN</td>\n",
              "      <td>['Walt Disney Studios', 'Motion Pictures']</td>\n",
              "      <td>NaN</td>\n",
              "      <td>['Josh Gad', 'Ryan Dixon', 'Ian Helfer', 'Jay ...</td>\n",
              "      <td>NaN</td>\n",
              "      <td>NaN</td>\n",
              "      <td>NaN</td>\n",
              "      <td>NaN</td>\n",
              "      <td>Todd Rosenberg</td>\n",
              "      <td>NaN</td>\n",
              "      <td>['Walt Disney Pictures', 'Mandeville Films']</td>\n",
              "      <td>NaN</td>\n",
              "      <td>NaN</td>\n",
              "      <td>NaN</td>\n",
              "      <td>NaN</td>\n",
              "      <td>NaN</td>\n",
              "      <td>NaN</td>\n",
              "      <td>NaN</td>\n",
              "    </tr>\n",
              "    <tr>\n",
              "      <th>450</th>\n",
              "      <td>450</td>\n",
              "      <td>Pinocchio</td>\n",
              "      <td>NaN</td>\n",
              "      <td>NaN</td>\n",
              "      <td>NaN</td>\n",
              "      <td>United States</td>\n",
              "      <td>English</td>\n",
              "      <td>NaN</td>\n",
              "      <td>NaN</td>\n",
              "      <td>NaN</td>\n",
              "      <td>NaN</td>\n",
              "      <td>NaN</td>\n",
              "      <td>Robert Zemeckis</td>\n",
              "      <td>NaN</td>\n",
              "      <td>['Disney', \"'s\", 'Pinocchio', 'The Adventures ...</td>\n",
              "      <td>['Chris Weitz', 'Andrew Milano']</td>\n",
              "      <td>['Tom Hanks', 'Benjamin Evan Ainsworth', 'Jose...</td>\n",
              "      <td>Alan Silvestri</td>\n",
              "      <td>Walt Disney Studios Motion Pictures</td>\n",
              "      <td>NaN</td>\n",
              "      <td>NaN</td>\n",
              "      <td>NaN</td>\n",
              "      <td>Don Burgess</td>\n",
              "      <td>NaN</td>\n",
              "      <td>NaN</td>\n",
              "      <td>['Chris Weitz', 'Robert Zemeckis']</td>\n",
              "      <td>NaN</td>\n",
              "      <td>['Walt Disney Pictures', 'Depth of Field', 'Im...</td>\n",
              "      <td>NaN</td>\n",
              "      <td>NaN</td>\n",
              "      <td>NaN</td>\n",
              "      <td>NaN</td>\n",
              "      <td>NaN</td>\n",
              "      <td>NaN</td>\n",
              "      <td>NaN</td>\n",
              "    </tr>\n",
              "    <tr>\n",
              "      <th>451</th>\n",
              "      <td>451</td>\n",
              "      <td>Hollywood Stargirl</td>\n",
              "      <td>NaN</td>\n",
              "      <td>NaN</td>\n",
              "      <td>NaN</td>\n",
              "      <td>United States</td>\n",
              "      <td>English</td>\n",
              "      <td>NaN</td>\n",
              "      <td>NaN</td>\n",
              "      <td>NaN</td>\n",
              "      <td>NaN</td>\n",
              "      <td>NaN</td>\n",
              "      <td>Julia Hart</td>\n",
              "      <td>NaN</td>\n",
              "      <td>NaN</td>\n",
              "      <td>['Ellen Goldsmith-Vein', 'Lee Stollman']</td>\n",
              "      <td>['Elijah Richardson', 'Grace VanderWaal', 'Tyr...</td>\n",
              "      <td>NaN</td>\n",
              "      <td>Disney+</td>\n",
              "      <td>NaN</td>\n",
              "      <td>NaN</td>\n",
              "      <td>NaN</td>\n",
              "      <td>NaN</td>\n",
              "      <td>NaN</td>\n",
              "      <td>NaN</td>\n",
              "      <td>['Jordan Horowitz', 'Julia Hart']</td>\n",
              "      <td>NaN</td>\n",
              "      <td>['Walt Disney Pictures', 'Gotham Group']</td>\n",
              "      <td>NaN</td>\n",
              "      <td>NaN</td>\n",
              "      <td>NaN</td>\n",
              "      <td>NaN</td>\n",
              "      <td>NaN</td>\n",
              "      <td>NaN</td>\n",
              "      <td>NaN</td>\n",
              "    </tr>\n",
              "  </tbody>\n",
              "</table>\n",
              "<p>452 rows × 35 columns</p>\n",
              "</div>"
            ],
            "text/plain": [
              "     Unnamed: 0                            title  ... Traditional Simplified\n",
              "0             0          Academy Award Review of  ...         NaN        NaN\n",
              "1             1  Snow White and the Seven Dwarfs  ...         NaN        NaN\n",
              "2             2                        Pinocchio  ...         NaN        NaN\n",
              "3             3                         Fantasia  ...         NaN        NaN\n",
              "4             4             The Reluctant Dragon  ...         NaN        NaN\n",
              "..          ...                              ...  ...         ...        ...\n",
              "447         447     Chip 'n Dale: Rescue Rangers  ...         NaN        NaN\n",
              "448         448                      Hocus Pocus  ...         NaN        NaN\n",
              "449         449                           Shrunk  ...         NaN        NaN\n",
              "450         450                        Pinocchio  ...         NaN        NaN\n",
              "451         451               Hollywood Stargirl  ...         NaN        NaN\n",
              "\n",
              "[452 rows x 35 columns]"
            ]
          },
          "metadata": {},
          "execution_count": 42
        }
      ]
    },
    {
      "cell_type": "code",
      "metadata": {
        "colab": {
          "base_uri": "https://localhost:8080/",
          "height": 672
        },
        "id": "DJgueUoO3m3F",
        "outputId": "4f31772c-3927-468d-c785-80dddee38b76"
      },
      "source": [
        "data.head()"
      ],
      "execution_count": null,
      "outputs": [
        {
          "output_type": "execute_result",
          "data": {
            "text/html": [
              "<div>\n",
              "<style scoped>\n",
              "    .dataframe tbody tr th:only-of-type {\n",
              "        vertical-align: middle;\n",
              "    }\n",
              "\n",
              "    .dataframe tbody tr th {\n",
              "        vertical-align: top;\n",
              "    }\n",
              "\n",
              "    .dataframe thead th {\n",
              "        text-align: right;\n",
              "    }\n",
              "</style>\n",
              "<table border=\"1\" class=\"dataframe\">\n",
              "  <thead>\n",
              "    <tr style=\"text-align: right;\">\n",
              "      <th></th>\n",
              "      <th>Unnamed: 0</th>\n",
              "      <th>title</th>\n",
              "      <th>Production company</th>\n",
              "      <th>Release date</th>\n",
              "      <th>Running time</th>\n",
              "      <th>Country</th>\n",
              "      <th>Language</th>\n",
              "      <th>Box office</th>\n",
              "      <th>Running time (int)</th>\n",
              "      <th>Budget (float)</th>\n",
              "      <th>Box office (float)</th>\n",
              "      <th>Release date (datetime)</th>\n",
              "      <th>Directed by</th>\n",
              "      <th>Written by</th>\n",
              "      <th>Based on</th>\n",
              "      <th>Produced by</th>\n",
              "      <th>Starring</th>\n",
              "      <th>Music by</th>\n",
              "      <th>Distributed by</th>\n",
              "      <th>Budget</th>\n",
              "      <th>Story by</th>\n",
              "      <th>Narrated by</th>\n",
              "      <th>Cinematography</th>\n",
              "      <th>Edited by</th>\n",
              "      <th>Languages</th>\n",
              "      <th>Screenplay by</th>\n",
              "      <th>Countries</th>\n",
              "      <th>Production companies</th>\n",
              "      <th>Color process</th>\n",
              "      <th>Japanese</th>\n",
              "      <th>Hepburn</th>\n",
              "      <th>Adaptation by</th>\n",
              "      <th>Animation by</th>\n",
              "      <th>Traditional</th>\n",
              "      <th>Simplified</th>\n",
              "    </tr>\n",
              "  </thead>\n",
              "  <tbody>\n",
              "    <tr>\n",
              "      <th>0</th>\n",
              "      <td>0</td>\n",
              "      <td>Academy Award Review of</td>\n",
              "      <td>Walt Disney Productions</td>\n",
              "      <td>['May 19, 1937']</td>\n",
              "      <td>41 minutes (74 minutes 1966 release)</td>\n",
              "      <td>United States</td>\n",
              "      <td>English</td>\n",
              "      <td>$45.472</td>\n",
              "      <td>41.0</td>\n",
              "      <td>NaN</td>\n",
              "      <td>4.547200e+01</td>\n",
              "      <td>1937-05-19</td>\n",
              "      <td>NaN</td>\n",
              "      <td>NaN</td>\n",
              "      <td>NaN</td>\n",
              "      <td>NaN</td>\n",
              "      <td>NaN</td>\n",
              "      <td>NaN</td>\n",
              "      <td>NaN</td>\n",
              "      <td>NaN</td>\n",
              "      <td>NaN</td>\n",
              "      <td>NaN</td>\n",
              "      <td>NaN</td>\n",
              "      <td>NaN</td>\n",
              "      <td>NaN</td>\n",
              "      <td>NaN</td>\n",
              "      <td>NaN</td>\n",
              "      <td>NaN</td>\n",
              "      <td>NaN</td>\n",
              "      <td>NaN</td>\n",
              "      <td>NaN</td>\n",
              "      <td>NaN</td>\n",
              "      <td>NaN</td>\n",
              "      <td>NaN</td>\n",
              "      <td>NaN</td>\n",
              "    </tr>\n",
              "    <tr>\n",
              "      <th>1</th>\n",
              "      <td>1</td>\n",
              "      <td>Snow White and the Seven Dwarfs</td>\n",
              "      <td>Walt Disney Productions</td>\n",
              "      <td>['December 21, 1937 ( Carthay Circle Theatre )']</td>\n",
              "      <td>83 minutes</td>\n",
              "      <td>United States</td>\n",
              "      <td>English</td>\n",
              "      <td>$418 million</td>\n",
              "      <td>83.0</td>\n",
              "      <td>1490000.0</td>\n",
              "      <td>4.180000e+08</td>\n",
              "      <td>1937-12-21</td>\n",
              "      <td>['David Hand', 'William Cottrell', 'Wilfred Ja...</td>\n",
              "      <td>['Ted Sears', 'Richard Creedon', 'Otto England...</td>\n",
              "      <td>['Snow White', 'by The', 'Brothers Grimm']</td>\n",
              "      <td>Walt Disney</td>\n",
              "      <td>['Adriana Caselotti', 'Lucille La Verne', 'Har...</td>\n",
              "      <td>['Frank Churchill', 'Paul Smith', 'Leigh Harli...</td>\n",
              "      <td>RKO Radio Pictures</td>\n",
              "      <td>$1.49 million</td>\n",
              "      <td>NaN</td>\n",
              "      <td>NaN</td>\n",
              "      <td>NaN</td>\n",
              "      <td>NaN</td>\n",
              "      <td>NaN</td>\n",
              "      <td>NaN</td>\n",
              "      <td>NaN</td>\n",
              "      <td>NaN</td>\n",
              "      <td>NaN</td>\n",
              "      <td>NaN</td>\n",
              "      <td>NaN</td>\n",
              "      <td>NaN</td>\n",
              "      <td>NaN</td>\n",
              "      <td>NaN</td>\n",
              "      <td>NaN</td>\n",
              "    </tr>\n",
              "    <tr>\n",
              "      <th>2</th>\n",
              "      <td>2</td>\n",
              "      <td>Pinocchio</td>\n",
              "      <td>Walt Disney Productions</td>\n",
              "      <td>['February 7, 1940 ( Center Theatre )', 'Febru...</td>\n",
              "      <td>88 minutes</td>\n",
              "      <td>United States</td>\n",
              "      <td>English</td>\n",
              "      <td>$164 million</td>\n",
              "      <td>88.0</td>\n",
              "      <td>2600000.0</td>\n",
              "      <td>1.640000e+08</td>\n",
              "      <td>1940-02-07</td>\n",
              "      <td>['Ben Sharpsteen', 'Hamilton Luske', 'Bill Rob...</td>\n",
              "      <td>NaN</td>\n",
              "      <td>['The Adventures of Pinocchio', 'by', 'Carlo C...</td>\n",
              "      <td>Walt Disney</td>\n",
              "      <td>['Cliff Edwards', 'Dickie Jones', 'Christian R...</td>\n",
              "      <td>['Leigh Harline', 'Paul J. Smith']</td>\n",
              "      <td>RKO Radio Pictures</td>\n",
              "      <td>$2.6 million</td>\n",
              "      <td>['Ted Sears', 'Otto Englander', 'Webb Smith', ...</td>\n",
              "      <td>NaN</td>\n",
              "      <td>NaN</td>\n",
              "      <td>NaN</td>\n",
              "      <td>NaN</td>\n",
              "      <td>NaN</td>\n",
              "      <td>NaN</td>\n",
              "      <td>NaN</td>\n",
              "      <td>NaN</td>\n",
              "      <td>NaN</td>\n",
              "      <td>NaN</td>\n",
              "      <td>NaN</td>\n",
              "      <td>NaN</td>\n",
              "      <td>NaN</td>\n",
              "      <td>NaN</td>\n",
              "    </tr>\n",
              "    <tr>\n",
              "      <th>3</th>\n",
              "      <td>3</td>\n",
              "      <td>Fantasia</td>\n",
              "      <td>Walt Disney Productions</td>\n",
              "      <td>['November 13, 1940']</td>\n",
              "      <td>126 minutes</td>\n",
              "      <td>United States</td>\n",
              "      <td>English</td>\n",
              "      <td>$76.4–$83.3 million (United States and Canada)</td>\n",
              "      <td>126.0</td>\n",
              "      <td>2280000.0</td>\n",
              "      <td>8.330000e+07</td>\n",
              "      <td>1940-11-13</td>\n",
              "      <td>['Samuel Armstrong', 'James Algar', 'Bill Robe...</td>\n",
              "      <td>NaN</td>\n",
              "      <td>NaN</td>\n",
              "      <td>['Walt Disney', 'Ben Sharpsteen']</td>\n",
              "      <td>['Leopold Stokowski', 'Deems Taylor']</td>\n",
              "      <td>See program</td>\n",
              "      <td>RKO Radio Pictures</td>\n",
              "      <td>$2.28 million</td>\n",
              "      <td>['Joe Grant', 'Dick Huemer']</td>\n",
              "      <td>Deems Taylor</td>\n",
              "      <td>James Wong Howe</td>\n",
              "      <td>NaN</td>\n",
              "      <td>NaN</td>\n",
              "      <td>NaN</td>\n",
              "      <td>NaN</td>\n",
              "      <td>NaN</td>\n",
              "      <td>NaN</td>\n",
              "      <td>NaN</td>\n",
              "      <td>NaN</td>\n",
              "      <td>NaN</td>\n",
              "      <td>NaN</td>\n",
              "      <td>NaN</td>\n",
              "      <td>NaN</td>\n",
              "    </tr>\n",
              "    <tr>\n",
              "      <th>4</th>\n",
              "      <td>4</td>\n",
              "      <td>The Reluctant Dragon</td>\n",
              "      <td>Walt Disney Productions</td>\n",
              "      <td>['June 27, 1941']</td>\n",
              "      <td>74 minutes</td>\n",
              "      <td>United States</td>\n",
              "      <td>English</td>\n",
              "      <td>$960,000 (worldwide rentals)</td>\n",
              "      <td>74.0</td>\n",
              "      <td>600000.0</td>\n",
              "      <td>9.600000e+05</td>\n",
              "      <td>1941-06-27</td>\n",
              "      <td>['Alfred Werker', '(live action)', 'Hamilton L...</td>\n",
              "      <td>['Live-action:', 'Ted Sears', 'Al Perkins', 'L...</td>\n",
              "      <td>NaN</td>\n",
              "      <td>Walt Disney</td>\n",
              "      <td>['Robert Benchley', 'Frances Gifford', 'Buddy ...</td>\n",
              "      <td>['Frank Churchill', 'Larry Morey']</td>\n",
              "      <td>RKO Radio Pictures</td>\n",
              "      <td>$600,000</td>\n",
              "      <td>NaN</td>\n",
              "      <td>NaN</td>\n",
              "      <td>Bert Glennon</td>\n",
              "      <td>Paul Weatherwax</td>\n",
              "      <td>NaN</td>\n",
              "      <td>NaN</td>\n",
              "      <td>NaN</td>\n",
              "      <td>NaN</td>\n",
              "      <td>NaN</td>\n",
              "      <td>NaN</td>\n",
              "      <td>NaN</td>\n",
              "      <td>NaN</td>\n",
              "      <td>NaN</td>\n",
              "      <td>NaN</td>\n",
              "      <td>NaN</td>\n",
              "    </tr>\n",
              "  </tbody>\n",
              "</table>\n",
              "</div>"
            ],
            "text/plain": [
              "   Unnamed: 0                            title  ... Traditional Simplified\n",
              "0           0          Academy Award Review of  ...         NaN        NaN\n",
              "1           1  Snow White and the Seven Dwarfs  ...         NaN        NaN\n",
              "2           2                        Pinocchio  ...         NaN        NaN\n",
              "3           3                         Fantasia  ...         NaN        NaN\n",
              "4           4             The Reluctant Dragon  ...         NaN        NaN\n",
              "\n",
              "[5 rows x 35 columns]"
            ]
          },
          "metadata": {},
          "execution_count": 43
        }
      ]
    },
    {
      "cell_type": "code",
      "metadata": {
        "colab": {
          "base_uri": "https://localhost:8080/",
          "height": 655
        },
        "id": "Pjzz2bA93s5z",
        "outputId": "60bbc49e-de20-48a8-c858-ac3918fd08bf"
      },
      "source": [
        "data.tail()"
      ],
      "execution_count": null,
      "outputs": [
        {
          "output_type": "execute_result",
          "data": {
            "text/html": [
              "<div>\n",
              "<style scoped>\n",
              "    .dataframe tbody tr th:only-of-type {\n",
              "        vertical-align: middle;\n",
              "    }\n",
              "\n",
              "    .dataframe tbody tr th {\n",
              "        vertical-align: top;\n",
              "    }\n",
              "\n",
              "    .dataframe thead th {\n",
              "        text-align: right;\n",
              "    }\n",
              "</style>\n",
              "<table border=\"1\" class=\"dataframe\">\n",
              "  <thead>\n",
              "    <tr style=\"text-align: right;\">\n",
              "      <th></th>\n",
              "      <th>Unnamed: 0</th>\n",
              "      <th>title</th>\n",
              "      <th>Production company</th>\n",
              "      <th>Release date</th>\n",
              "      <th>Running time</th>\n",
              "      <th>Country</th>\n",
              "      <th>Language</th>\n",
              "      <th>Box office</th>\n",
              "      <th>Running time (int)</th>\n",
              "      <th>Budget (float)</th>\n",
              "      <th>Box office (float)</th>\n",
              "      <th>Release date (datetime)</th>\n",
              "      <th>Directed by</th>\n",
              "      <th>Written by</th>\n",
              "      <th>Based on</th>\n",
              "      <th>Produced by</th>\n",
              "      <th>Starring</th>\n",
              "      <th>Music by</th>\n",
              "      <th>Distributed by</th>\n",
              "      <th>Budget</th>\n",
              "      <th>Story by</th>\n",
              "      <th>Narrated by</th>\n",
              "      <th>Cinematography</th>\n",
              "      <th>Edited by</th>\n",
              "      <th>Languages</th>\n",
              "      <th>Screenplay by</th>\n",
              "      <th>Countries</th>\n",
              "      <th>Production companies</th>\n",
              "      <th>Color process</th>\n",
              "      <th>Japanese</th>\n",
              "      <th>Hepburn</th>\n",
              "      <th>Adaptation by</th>\n",
              "      <th>Animation by</th>\n",
              "      <th>Traditional</th>\n",
              "      <th>Simplified</th>\n",
              "    </tr>\n",
              "  </thead>\n",
              "  <tbody>\n",
              "    <tr>\n",
              "      <th>447</th>\n",
              "      <td>447</td>\n",
              "      <td>Chip 'n Dale: Rescue Rangers</td>\n",
              "      <td>NaN</td>\n",
              "      <td>NaN</td>\n",
              "      <td>NaN</td>\n",
              "      <td>United States</td>\n",
              "      <td>English</td>\n",
              "      <td>NaN</td>\n",
              "      <td>NaN</td>\n",
              "      <td>NaN</td>\n",
              "      <td>NaN</td>\n",
              "      <td>NaN</td>\n",
              "      <td>Akiva Schaffer</td>\n",
              "      <td>NaN</td>\n",
              "      <td>[\"Chip 'n Dale: Rescue Rangers\", 'by', 'Tad St...</td>\n",
              "      <td>['David Hoberman', 'Todd Lieberman']</td>\n",
              "      <td>['Andy Samberg', 'John Mulaney']</td>\n",
              "      <td>Brian Tyler</td>\n",
              "      <td>Walt Disney Studios Motion Pictures</td>\n",
              "      <td>NaN</td>\n",
              "      <td>Barry Schwartz</td>\n",
              "      <td>NaN</td>\n",
              "      <td>Larry Fong</td>\n",
              "      <td>NaN</td>\n",
              "      <td>NaN</td>\n",
              "      <td>['Dan Gregor', 'Doug Mand']</td>\n",
              "      <td>NaN</td>\n",
              "      <td>['Walt Disney Pictures', 'Mandeville Films']</td>\n",
              "      <td>NaN</td>\n",
              "      <td>NaN</td>\n",
              "      <td>NaN</td>\n",
              "      <td>NaN</td>\n",
              "      <td>NaN</td>\n",
              "      <td>NaN</td>\n",
              "      <td>NaN</td>\n",
              "    </tr>\n",
              "    <tr>\n",
              "      <th>448</th>\n",
              "      <td>448</td>\n",
              "      <td>Hocus Pocus</td>\n",
              "      <td>Walt Disney Pictures</td>\n",
              "      <td>['July 16, 1993']</td>\n",
              "      <td>96 minutes</td>\n",
              "      <td>United States</td>\n",
              "      <td>English</td>\n",
              "      <td>$44.9 million</td>\n",
              "      <td>96.0</td>\n",
              "      <td>28000000.0</td>\n",
              "      <td>44900000.0</td>\n",
              "      <td>1993-07-16</td>\n",
              "      <td>Kenny Ortega</td>\n",
              "      <td>NaN</td>\n",
              "      <td>NaN</td>\n",
              "      <td>['David Kirschner', 'Steven Haft']</td>\n",
              "      <td>['Bette Midler', 'Sarah Jessica Parker', 'Kath...</td>\n",
              "      <td>John Debney</td>\n",
              "      <td>Buena Vista Pictures</td>\n",
              "      <td>$28 million</td>\n",
              "      <td>['David Kirschner', 'Mick Garris']</td>\n",
              "      <td>NaN</td>\n",
              "      <td>Hiro Narita</td>\n",
              "      <td>Peter E. Berger</td>\n",
              "      <td>NaN</td>\n",
              "      <td>['Mick Garris', 'Neil Cuthbert']</td>\n",
              "      <td>NaN</td>\n",
              "      <td>NaN</td>\n",
              "      <td>NaN</td>\n",
              "      <td>NaN</td>\n",
              "      <td>NaN</td>\n",
              "      <td>NaN</td>\n",
              "      <td>NaN</td>\n",
              "      <td>NaN</td>\n",
              "      <td>NaN</td>\n",
              "    </tr>\n",
              "    <tr>\n",
              "      <th>449</th>\n",
              "      <td>449</td>\n",
              "      <td>Shrunk</td>\n",
              "      <td>NaN</td>\n",
              "      <td>NaN</td>\n",
              "      <td>NaN</td>\n",
              "      <td>United States</td>\n",
              "      <td>English</td>\n",
              "      <td>NaN</td>\n",
              "      <td>NaN</td>\n",
              "      <td>NaN</td>\n",
              "      <td>NaN</td>\n",
              "      <td>NaN</td>\n",
              "      <td>Joe Johnston</td>\n",
              "      <td>NaN</td>\n",
              "      <td>['Characters', 'by', 'Stuart Gordon', ',', 'Br...</td>\n",
              "      <td>['David Hoberman', 'Todd Lieberman']</td>\n",
              "      <td>['Josh Gad', 'Rick Moranis']</td>\n",
              "      <td>NaN</td>\n",
              "      <td>['Walt Disney Studios', 'Motion Pictures']</td>\n",
              "      <td>NaN</td>\n",
              "      <td>['Josh Gad', 'Ryan Dixon', 'Ian Helfer', 'Jay ...</td>\n",
              "      <td>NaN</td>\n",
              "      <td>NaN</td>\n",
              "      <td>NaN</td>\n",
              "      <td>NaN</td>\n",
              "      <td>Todd Rosenberg</td>\n",
              "      <td>NaN</td>\n",
              "      <td>['Walt Disney Pictures', 'Mandeville Films']</td>\n",
              "      <td>NaN</td>\n",
              "      <td>NaN</td>\n",
              "      <td>NaN</td>\n",
              "      <td>NaN</td>\n",
              "      <td>NaN</td>\n",
              "      <td>NaN</td>\n",
              "      <td>NaN</td>\n",
              "    </tr>\n",
              "    <tr>\n",
              "      <th>450</th>\n",
              "      <td>450</td>\n",
              "      <td>Pinocchio</td>\n",
              "      <td>NaN</td>\n",
              "      <td>NaN</td>\n",
              "      <td>NaN</td>\n",
              "      <td>United States</td>\n",
              "      <td>English</td>\n",
              "      <td>NaN</td>\n",
              "      <td>NaN</td>\n",
              "      <td>NaN</td>\n",
              "      <td>NaN</td>\n",
              "      <td>NaN</td>\n",
              "      <td>Robert Zemeckis</td>\n",
              "      <td>NaN</td>\n",
              "      <td>['Disney', \"'s\", 'Pinocchio', 'The Adventures ...</td>\n",
              "      <td>['Chris Weitz', 'Andrew Milano']</td>\n",
              "      <td>['Tom Hanks', 'Benjamin Evan Ainsworth', 'Jose...</td>\n",
              "      <td>Alan Silvestri</td>\n",
              "      <td>Walt Disney Studios Motion Pictures</td>\n",
              "      <td>NaN</td>\n",
              "      <td>NaN</td>\n",
              "      <td>NaN</td>\n",
              "      <td>Don Burgess</td>\n",
              "      <td>NaN</td>\n",
              "      <td>NaN</td>\n",
              "      <td>['Chris Weitz', 'Robert Zemeckis']</td>\n",
              "      <td>NaN</td>\n",
              "      <td>['Walt Disney Pictures', 'Depth of Field', 'Im...</td>\n",
              "      <td>NaN</td>\n",
              "      <td>NaN</td>\n",
              "      <td>NaN</td>\n",
              "      <td>NaN</td>\n",
              "      <td>NaN</td>\n",
              "      <td>NaN</td>\n",
              "      <td>NaN</td>\n",
              "    </tr>\n",
              "    <tr>\n",
              "      <th>451</th>\n",
              "      <td>451</td>\n",
              "      <td>Hollywood Stargirl</td>\n",
              "      <td>NaN</td>\n",
              "      <td>NaN</td>\n",
              "      <td>NaN</td>\n",
              "      <td>United States</td>\n",
              "      <td>English</td>\n",
              "      <td>NaN</td>\n",
              "      <td>NaN</td>\n",
              "      <td>NaN</td>\n",
              "      <td>NaN</td>\n",
              "      <td>NaN</td>\n",
              "      <td>Julia Hart</td>\n",
              "      <td>NaN</td>\n",
              "      <td>NaN</td>\n",
              "      <td>['Ellen Goldsmith-Vein', 'Lee Stollman']</td>\n",
              "      <td>['Elijah Richardson', 'Grace VanderWaal', 'Tyr...</td>\n",
              "      <td>NaN</td>\n",
              "      <td>Disney+</td>\n",
              "      <td>NaN</td>\n",
              "      <td>NaN</td>\n",
              "      <td>NaN</td>\n",
              "      <td>NaN</td>\n",
              "      <td>NaN</td>\n",
              "      <td>NaN</td>\n",
              "      <td>['Jordan Horowitz', 'Julia Hart']</td>\n",
              "      <td>NaN</td>\n",
              "      <td>['Walt Disney Pictures', 'Gotham Group']</td>\n",
              "      <td>NaN</td>\n",
              "      <td>NaN</td>\n",
              "      <td>NaN</td>\n",
              "      <td>NaN</td>\n",
              "      <td>NaN</td>\n",
              "      <td>NaN</td>\n",
              "      <td>NaN</td>\n",
              "    </tr>\n",
              "  </tbody>\n",
              "</table>\n",
              "</div>"
            ],
            "text/plain": [
              "     Unnamed: 0                         title  ... Traditional Simplified\n",
              "447         447  Chip 'n Dale: Rescue Rangers  ...         NaN        NaN\n",
              "448         448                   Hocus Pocus  ...         NaN        NaN\n",
              "449         449                        Shrunk  ...         NaN        NaN\n",
              "450         450                     Pinocchio  ...         NaN        NaN\n",
              "451         451            Hollywood Stargirl  ...         NaN        NaN\n",
              "\n",
              "[5 rows x 35 columns]"
            ]
          },
          "metadata": {},
          "execution_count": 44
        }
      ]
    },
    {
      "cell_type": "code",
      "metadata": {
        "colab": {
          "base_uri": "https://localhost:8080/"
        },
        "id": "FmwqvYNQ3vzC",
        "outputId": "77fe45e0-1a67-4af4-fff6-27e9756d28b8"
      },
      "source": [
        "data.columns"
      ],
      "execution_count": null,
      "outputs": [
        {
          "output_type": "execute_result",
          "data": {
            "text/plain": [
              "Index(['Unnamed: 0', 'title', 'Production company', 'Release date',\n",
              "       'Running time', 'Country', 'Language', 'Box office',\n",
              "       'Running time (int)', 'Budget (float)', 'Box office (float)',\n",
              "       'Release date (datetime)', 'Directed by', 'Written by', 'Based on',\n",
              "       'Produced by', 'Starring', 'Music by', 'Distributed by', 'Budget',\n",
              "       'Story by', 'Narrated by', 'Cinematography', 'Edited by', 'Languages',\n",
              "       'Screenplay by', 'Countries', 'Production companies', 'Color process',\n",
              "       'Japanese', 'Hepburn', 'Adaptation by', 'Animation by', 'Traditional',\n",
              "       'Simplified'],\n",
              "      dtype='object')"
            ]
          },
          "metadata": {},
          "execution_count": 45
        }
      ]
    },
    {
      "cell_type": "code",
      "metadata": {
        "id": "IzZR09J13z3K",
        "colab": {
          "base_uri": "https://localhost:8080/"
        },
        "outputId": "91339d92-8049-4f90-d83a-fad2484c5f5f"
      },
      "source": [
        "data.describe"
      ],
      "execution_count": null,
      "outputs": [
        {
          "output_type": "execute_result",
          "data": {
            "text/plain": [
              "<bound method NDFrame.describe of      Unnamed: 0                            title  ... Traditional Simplified\n",
              "0             0          Academy Award Review of  ...         NaN        NaN\n",
              "1             1  Snow White and the Seven Dwarfs  ...         NaN        NaN\n",
              "2             2                        Pinocchio  ...         NaN        NaN\n",
              "3             3                         Fantasia  ...         NaN        NaN\n",
              "4             4             The Reluctant Dragon  ...         NaN        NaN\n",
              "..          ...                              ...  ...         ...        ...\n",
              "447         447     Chip 'n Dale: Rescue Rangers  ...         NaN        NaN\n",
              "448         448                      Hocus Pocus  ...         NaN        NaN\n",
              "449         449                           Shrunk  ...         NaN        NaN\n",
              "450         450                        Pinocchio  ...         NaN        NaN\n",
              "451         451               Hollywood Stargirl  ...         NaN        NaN\n",
              "\n",
              "[452 rows x 35 columns]>"
            ]
          },
          "metadata": {},
          "execution_count": 46
        }
      ]
    },
    {
      "cell_type": "code",
      "metadata": {
        "colab": {
          "base_uri": "https://localhost:8080/"
        },
        "id": "UpbGkx7hNapb",
        "outputId": "1b57c98c-76eb-4485-a65d-9759bcb0e64a"
      },
      "source": [
        "data.dtypes"
      ],
      "execution_count": null,
      "outputs": [
        {
          "output_type": "execute_result",
          "data": {
            "text/plain": [
              "Unnamed: 0                   int64\n",
              "title                       object\n",
              "Production company          object\n",
              "Release date                object\n",
              "Running time                object\n",
              "Country                     object\n",
              "Language                    object\n",
              "Box office                  object\n",
              "Running time (int)         float64\n",
              "Budget (float)             float64\n",
              "Box office (float)         float64\n",
              "Release date (datetime)     object\n",
              "Directed by                 object\n",
              "Written by                  object\n",
              "Based on                    object\n",
              "Produced by                 object\n",
              "Starring                    object\n",
              "Music by                    object\n",
              "Distributed by              object\n",
              "Budget                      object\n",
              "Story by                    object\n",
              "Narrated by                 object\n",
              "Cinematography              object\n",
              "Edited by                   object\n",
              "Languages                   object\n",
              "Screenplay by               object\n",
              "Countries                   object\n",
              "Production companies        object\n",
              "Color process               object\n",
              "Japanese                   float64\n",
              "Hepburn                     object\n",
              "Adaptation by               object\n",
              "Animation by                object\n",
              "Traditional                float64\n",
              "Simplified                 float64\n",
              "dtype: object"
            ]
          },
          "metadata": {},
          "execution_count": 47
        }
      ]
    },
    {
      "cell_type": "markdown",
      "metadata": {
        "id": "49xyI43eN1Xp"
      },
      "source": [
        "**boleh dicoba untuk analisis data di atas yaaa....**"
      ]
    },
    {
      "cell_type": "code",
      "metadata": {
        "colab": {
          "base_uri": "https://localhost:8080/"
        },
        "id": "t5sLLC7VOJcX",
        "outputId": "04a7b4c3-5928-4141-b5a7-58dd28b79ccf"
      },
      "source": [
        "# Menganalisis Data mulai dari sini"
      ],
      "execution_count": null,
      "outputs": [
        {
          "output_type": "execute_result",
          "data": {
            "text/plain": [
              "63877468.30985916"
            ]
          },
          "metadata": {},
          "execution_count": 58
        }
      ]
    },
    {
      "cell_type": "markdown",
      "metadata": {
        "id": "FMyTbIM9ENxc"
      },
      "source": [
        "##ThankYou"
      ]
    }
  ]
}
