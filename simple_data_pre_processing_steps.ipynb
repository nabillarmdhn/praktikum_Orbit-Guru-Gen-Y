{
  "nbformat": 4,
  "nbformat_minor": 0,
  "metadata": {
    "kernelspec": {
      "display_name": "Python 3",
      "language": "python",
      "name": "python3"
    },
    "language_info": {
      "codemirror_mode": {
        "name": "ipython",
        "version": 3
      },
      "file_extension": ".py",
      "mimetype": "text/x-python",
      "name": "python",
      "nbconvert_exporter": "python",
      "pygments_lexer": "ipython3",
      "version": "3.7.6"
    },
    "colab": {
      "name": "simple-data-pre-processing-steps.ipynb",
      "provenance": [],
      "include_colab_link": true
    }
  },
  "cells": [
    {
      "cell_type": "markdown",
      "metadata": {
        "id": "view-in-github",
        "colab_type": "text"
      },
      "source": [
        "<a href=\"https://colab.research.google.com/github/nabillarmdhn/praktikum_knn/blob/main/simple_data_pre_processing_steps.ipynb\" target=\"_parent\"><img src=\"https://colab.research.google.com/assets/colab-badge.svg\" alt=\"Open In Colab\"/></a>"
      ]
    },
    {
      "cell_type": "markdown",
      "metadata": {
        "_uuid": "674378297bf7f78937a4f1aa466932e68466efcd",
        "id": "IIDd3EPfvURI"
      },
      "source": [
        "### Data Pre-processing Stage\n",
        "\n",
        " \n",
        "  Pada notebook ini berisi tentang basic dalam data pre-processing\n"
      ]
    },
    {
      "cell_type": "markdown",
      "metadata": {
        "_uuid": "fe10f16ae89b1e2579469abba5542de59d18ca7d",
        "id": "rkHHZAHZvURS"
      },
      "source": [
        "#### Why preprocessing ?\n",
        "1. Data yang kita punya dalam dunia nyata biasanya:\n",
        "    * Incomplete: lacking attribute values, lacking certain attributes of interest, or containing only aggregate data.\n",
        "    * Noisy: mengandung error seperti missing values dan outliers.\n",
        "    * Inconsistent: mengandung perbedaan dalam penulisan kolom."
      ]
    },
    {
      "cell_type": "markdown",
      "metadata": {
        "_uuid": "a30f7f7e2a855e2f0ef0bfc096bd4cc61a3399d9",
        "id": "ssPdkxwpvURX"
      },
      "source": [
        "Mari kita pakai sebuah dataset sederhana untuk latihan.\n",
        "Dataset \"data.csv\" mengandung informasi dimana apakah user akan membeli sebuah product atau tidak.\n",
        "User mempunya fitur age,salary, dan negara tempat mereka tinggal."
      ]
    },
    {
      "cell_type": "markdown",
      "metadata": {
        "id": "we_gDhLMvURm"
      },
      "source": [
        "## 1. Import library\n",
        "\n",
        "Pada percobaan kali ini kita hanya membutuhkan 2 library yaitu pandas dan numpy. Pandas berguna untuk mengimport datasetnya sedangkan numpy akan kita gunakan dalam mempreproses datanya."
      ]
    },
    {
      "cell_type": "code",
      "metadata": {
        "_uuid": "3ed37978d39bc4b4497ed16fd66a99a40df07561",
        "id": "XNw9lu_QvURq"
      },
      "source": [
        "import numpy as np\n",
        "import pandas as pd"
      ],
      "execution_count": 12,
      "outputs": []
    },
    {
      "cell_type": "code",
      "metadata": {
        "id": "MFWurIwszHPH",
        "outputId": "826ef0ce-d39d-47ee-887e-b817e3553328",
        "colab": {
          "base_uri": "https://localhost:8080/"
        }
      },
      "source": [
        "!wget -O dataset.csv https://raw.githubusercontent.com/Saifulislam365/studi_independent/main/Data_Set/Data.csv"
      ],
      "execution_count": 13,
      "outputs": [
        {
          "output_type": "stream",
          "name": "stdout",
          "text": [
            "--2021-10-06 04:14:24--  https://raw.githubusercontent.com/Saifulislam365/studi_independent/main/Data_Set/Data.csv\n",
            "Resolving raw.githubusercontent.com (raw.githubusercontent.com)... 185.199.108.133, 185.199.109.133, 185.199.110.133, ...\n",
            "Connecting to raw.githubusercontent.com (raw.githubusercontent.com)|185.199.108.133|:443... connected.\n",
            "HTTP request sent, awaiting response... 200 OK\n",
            "Length: 337 [text/plain]\n",
            "Saving to: ‘dataset.csv’\n",
            "\n",
            "\rdataset.csv           0%[                    ]       0  --.-KB/s               \rdataset.csv         100%[===================>]     337  --.-KB/s    in 0s      \n",
            "\n",
            "2021-10-06 04:14:24 (13.7 MB/s) - ‘dataset.csv’ saved [337/337]\n",
            "\n"
          ]
        }
      ]
    },
    {
      "cell_type": "markdown",
      "metadata": {
        "id": "KaNgA_ddvURx"
      },
      "source": [
        "## 2 Import dataset"
      ]
    },
    {
      "cell_type": "code",
      "metadata": {
        "_uuid": "d09edc61b5ef258b23b6de01c4745613a4d00eca",
        "id": "bw33BN82vURz",
        "outputId": "c6804d3e-0856-49cf-8734-2d579d91b4cd",
        "colab": {
          "base_uri": "https://localhost:8080/"
        }
      },
      "source": [
        "dataset = pd.read_csv(\"dataset.csv\")\n",
        "\n",
        "\n",
        "# Menampilkan shape dari data yg kita punya\n",
        "print('dataset:', (str(dataset.shape)))\n"
      ],
      "execution_count": 14,
      "outputs": [
        {
          "output_type": "stream",
          "name": "stdout",
          "text": [
            "dataset: (15, 4)\n"
          ]
        }
      ]
    },
    {
      "cell_type": "markdown",
      "metadata": {
        "_uuid": "f2255fd0287097870845b0b4dbfd4e4ac04ea9f9",
        "id": "0_DibxpivUSJ"
      },
      "source": [
        "Dataset kita mengandung 15 rows dan 4 columns.\n",
        "Itu artinya kita mempunyai 15 data dan 4 Kolom"
      ]
    },
    {
      "cell_type": "code",
      "metadata": {
        "_uuid": "2764bded9c4328f4ca9902a333d882b12d09223e",
        "id": "ghH19JLlvUSQ",
        "outputId": "8ea9eb57-c4ca-441d-c872-ece5accce921",
        "colab": {
          "base_uri": "https://localhost:8080/",
          "height": 514
        }
      },
      "source": [
        "# print the dataset\n",
        "dataset"
      ],
      "execution_count": 15,
      "outputs": [
        {
          "output_type": "execute_result",
          "data": {
            "text/html": [
              "<div>\n",
              "<style scoped>\n",
              "    .dataframe tbody tr th:only-of-type {\n",
              "        vertical-align: middle;\n",
              "    }\n",
              "\n",
              "    .dataframe tbody tr th {\n",
              "        vertical-align: top;\n",
              "    }\n",
              "\n",
              "    .dataframe thead th {\n",
              "        text-align: right;\n",
              "    }\n",
              "</style>\n",
              "<table border=\"1\" class=\"dataframe\">\n",
              "  <thead>\n",
              "    <tr style=\"text-align: right;\">\n",
              "      <th></th>\n",
              "      <th>Country</th>\n",
              "      <th>Age</th>\n",
              "      <th>Salary</th>\n",
              "      <th>Purchased</th>\n",
              "    </tr>\n",
              "  </thead>\n",
              "  <tbody>\n",
              "    <tr>\n",
              "      <th>0</th>\n",
              "      <td>India</td>\n",
              "      <td>34.0</td>\n",
              "      <td>92000.0</td>\n",
              "      <td>Yes</td>\n",
              "    </tr>\n",
              "    <tr>\n",
              "      <th>1</th>\n",
              "      <td>Sri lanka</td>\n",
              "      <td>22.0</td>\n",
              "      <td>25000.0</td>\n",
              "      <td>Yes</td>\n",
              "    </tr>\n",
              "    <tr>\n",
              "      <th>2</th>\n",
              "      <td>China</td>\n",
              "      <td>31.0</td>\n",
              "      <td>74000.0</td>\n",
              "      <td>Yes</td>\n",
              "    </tr>\n",
              "    <tr>\n",
              "      <th>3</th>\n",
              "      <td>Sri lanka</td>\n",
              "      <td>29.0</td>\n",
              "      <td>NaN</td>\n",
              "      <td>No</td>\n",
              "    </tr>\n",
              "    <tr>\n",
              "      <th>4</th>\n",
              "      <td>China</td>\n",
              "      <td>55.0</td>\n",
              "      <td>98000.0</td>\n",
              "      <td>Yes</td>\n",
              "    </tr>\n",
              "    <tr>\n",
              "      <th>5</th>\n",
              "      <td>India</td>\n",
              "      <td>24.0</td>\n",
              "      <td>30000.0</td>\n",
              "      <td>No</td>\n",
              "    </tr>\n",
              "    <tr>\n",
              "      <th>6</th>\n",
              "      <td>Sri lanka</td>\n",
              "      <td>28.0</td>\n",
              "      <td>40000.0</td>\n",
              "      <td>No</td>\n",
              "    </tr>\n",
              "    <tr>\n",
              "      <th>7</th>\n",
              "      <td>India</td>\n",
              "      <td>NaN</td>\n",
              "      <td>60000.0</td>\n",
              "      <td>No</td>\n",
              "    </tr>\n",
              "    <tr>\n",
              "      <th>8</th>\n",
              "      <td>China</td>\n",
              "      <td>51.0</td>\n",
              "      <td>89000.0</td>\n",
              "      <td>Yes</td>\n",
              "    </tr>\n",
              "    <tr>\n",
              "      <th>9</th>\n",
              "      <td>India</td>\n",
              "      <td>44.0</td>\n",
              "      <td>78000.0</td>\n",
              "      <td>Yes</td>\n",
              "    </tr>\n",
              "    <tr>\n",
              "      <th>10</th>\n",
              "      <td>Sri lanka</td>\n",
              "      <td>21.0</td>\n",
              "      <td>20000.0</td>\n",
              "      <td>No</td>\n",
              "    </tr>\n",
              "    <tr>\n",
              "      <th>11</th>\n",
              "      <td>China</td>\n",
              "      <td>25.0</td>\n",
              "      <td>30000.0</td>\n",
              "      <td>Yes</td>\n",
              "    </tr>\n",
              "    <tr>\n",
              "      <th>12</th>\n",
              "      <td>India</td>\n",
              "      <td>33.0</td>\n",
              "      <td>45000.0</td>\n",
              "      <td>Yes</td>\n",
              "    </tr>\n",
              "    <tr>\n",
              "      <th>13</th>\n",
              "      <td>India</td>\n",
              "      <td>42.0</td>\n",
              "      <td>65000.0</td>\n",
              "      <td>Yes</td>\n",
              "    </tr>\n",
              "    <tr>\n",
              "      <th>14</th>\n",
              "      <td>Sri lanka</td>\n",
              "      <td>33.0</td>\n",
              "      <td>22000.0</td>\n",
              "      <td>No</td>\n",
              "    </tr>\n",
              "  </tbody>\n",
              "</table>\n",
              "</div>"
            ],
            "text/plain": [
              "      Country   Age   Salary Purchased\n",
              "0       India  34.0  92000.0       Yes\n",
              "1   Sri lanka  22.0  25000.0       Yes\n",
              "2       China  31.0  74000.0       Yes\n",
              "3   Sri lanka  29.0      NaN        No\n",
              "4       China  55.0  98000.0       Yes\n",
              "5       India  24.0  30000.0        No\n",
              "6   Sri lanka  28.0  40000.0        No\n",
              "7       India   NaN  60000.0        No\n",
              "8       China  51.0  89000.0       Yes\n",
              "9       India  44.0  78000.0       Yes\n",
              "10  Sri lanka  21.0  20000.0        No\n",
              "11      China  25.0  30000.0       Yes\n",
              "12      India  33.0  45000.0       Yes\n",
              "13      India  42.0  65000.0       Yes\n",
              "14  Sri lanka  33.0  22000.0        No"
            ]
          },
          "metadata": {},
          "execution_count": 15
        }
      ]
    },
    {
      "cell_type": "code",
      "metadata": {
        "_uuid": "0b51a61e0f0b243b1b3c5650a30dcf02d6f943a5",
        "id": "b6FL4zAjvUSU"
      },
      "source": [
        "# Memisahkan antara fitur dan label\n",
        "\n",
        "# Fitur\n",
        "# iloc[rows,columns] (Slicing pada dataframe)\n",
        "# Mengambil semua data dalam barisan.\n",
        "# Mengambil kolom index ke-0 sampai ke-2\n",
        "X = dataset.iloc[:,:3].values\n",
        "\n",
        "# Label\n",
        "# iloc[rows,columns] (Slicing pada dataframe)\n",
        "# Mengambil semua data dalam barisan.\n",
        "# Hanya Mengambil kolom index ke-3\n",
        "Y = dataset.iloc[:,3].values"
      ],
      "execution_count": 16,
      "outputs": []
    },
    {
      "cell_type": "code",
      "metadata": {
        "_uuid": "5351fbd6905b93aad9c455ee99cb0814e55cfc58",
        "id": "wnH7-WIZvUSY",
        "outputId": "9116f48c-9497-43be-be7b-7258dfa04f61",
        "colab": {
          "base_uri": "https://localhost:8080/"
        }
      },
      "source": [
        "# Print the X and Y\n",
        "print ('Fitur (X):', X)\n",
        "print ('\\n-----------------------------------')\n",
        "print ('\\nLabel (Y): ',Y)"
      ],
      "execution_count": 17,
      "outputs": [
        {
          "output_type": "stream",
          "name": "stdout",
          "text": [
            "Fitur (X): [['India' 34.0 92000.0]\n",
            " ['Sri lanka' 22.0 25000.0]\n",
            " ['China' 31.0 74000.0]\n",
            " ['Sri lanka' 29.0 nan]\n",
            " ['China' 55.0 98000.0]\n",
            " ['India' 24.0 30000.0]\n",
            " ['Sri lanka' 28.0 40000.0]\n",
            " ['India' nan 60000.0]\n",
            " ['China' 51.0 89000.0]\n",
            " ['India' 44.0 78000.0]\n",
            " ['Sri lanka' 21.0 20000.0]\n",
            " ['China' 25.0 30000.0]\n",
            " ['India' 33.0 45000.0]\n",
            " ['India' 42.0 65000.0]\n",
            " ['Sri lanka' 33.0 22000.0]]\n",
            "\n",
            "-----------------------------------\n",
            "\n",
            "Label (Y):  ['Yes' 'Yes' 'Yes' 'No' 'Yes' 'No' 'No' 'No' 'Yes' 'Yes' 'No' 'Yes' 'Yes'\n",
            " 'Yes' 'No']\n"
          ]
        }
      ]
    },
    {
      "cell_type": "markdown",
      "metadata": {
        "_uuid": "dffee0eb70165f04561442a9f05bf2fd0c0d205f",
        "id": "wSPmg0XUvUSZ"
      },
      "source": [
        "## 3. Handle Missing Data\n"
      ]
    },
    {
      "cell_type": "code",
      "metadata": {
        "id": "-N2VsFmsvUSa",
        "outputId": "c61f8b5f-9784-4960-dad6-2a059e9e9e49",
        "colab": {
          "base_uri": "https://localhost:8080/"
        }
      },
      "source": [
        "dataset.isnull().sum()"
      ],
      "execution_count": 18,
      "outputs": [
        {
          "output_type": "execute_result",
          "data": {
            "text/plain": [
              "Country      0\n",
              "Age          1\n",
              "Salary       1\n",
              "Purchased    0\n",
              "dtype: int64"
            ]
          },
          "metadata": {},
          "execution_count": 18
        }
      ]
    },
    {
      "cell_type": "markdown",
      "metadata": {
        "id": "6WedY8MhvUSb"
      },
      "source": [
        "Dengan menggunakan fungsi isnull().sum() kita dapat melihat jumlah data yg memiliki missing value dari tiap kolom yang ada.\n",
        "Disini kita dapat melihat kalau terdapat 2 kolom yang memiliki masalah missing value, yaitu pada kolom 'Age' dan 'Salary'.\n",
        "\n",
        "Untuk menangangi masalah missing value, kita bisa melakukan 2 hal. Pertama kita bisa menghapus datanya atau kita bisa mengisi nilai yang kosong itu menggunakan nilai mean/modus/median.\n",
        "\n",
        "Pada percobaan kali ini kita akan menggunakan nilai Mean untuk mengisi missing value tersebut menggunakan bantuan Simple Imputer dari module sklearn"
      ]
    },
    {
      "cell_type": "code",
      "metadata": {
        "_uuid": "bc0f9fc1fde9aff85963ee3db02f1fd943d01d93",
        "id": "p_tZ3aTgvUSc"
      },
      "source": [
        "from sklearn.impute import SimpleImputer\n",
        "\n",
        "# SimpleImputer class mempunyai 2 parameter, yaitu :\n",
        "#     missing_values : Missing value pada data kita, biasanya diisi dengan np.nan\n",
        "#     strategy       : Strategi yang akan kita gunakan dalam menangani missing value (Mean/Modus/Median).\n",
        "#                      Defaultnya parameter strategy 'mean'\n",
        "\n",
        "imputer = SimpleImputer(missing_values = np.nan ,strategy = 'mean')\n",
        "\n",
        "\n",
        "# Fit imputer kedalam data X untuk kolom Age (index ke-1) dan Salary (index ke-2).\n",
        "imputer = imputer.fit(X[:,1:3])\n",
        "\n",
        "#Replace missing value dengan mean pada kolom tersebut\n",
        "X[:,1:3] = imputer.transform(X[:,1:3])\n"
      ],
      "execution_count": 19,
      "outputs": []
    },
    {
      "cell_type": "markdown",
      "metadata": {
        "id": "VpXKXCPYvUSe"
      },
      "source": [
        "Dibawah ini kita bisa melihat bahwa tidak ada nilai 'Nan' pada data X"
      ]
    },
    {
      "cell_type": "code",
      "metadata": {
        "_uuid": "cbb90e1ca86164287023c7fc38197bf087e0ef0e",
        "id": "Lqgmr2ZbvUSg",
        "outputId": "8b361fe3-2cd4-4ef6-8c41-00f4e3604175",
        "colab": {
          "base_uri": "https://localhost:8080/"
        }
      },
      "source": [
        "print ('X: ', X)"
      ],
      "execution_count": 20,
      "outputs": [
        {
          "output_type": "stream",
          "name": "stdout",
          "text": [
            "X:  [['India' 34.0 92000.0]\n",
            " ['Sri lanka' 22.0 25000.0]\n",
            " ['China' 31.0 74000.0]\n",
            " ['Sri lanka' 29.0 54857.142857142855]\n",
            " ['China' 55.0 98000.0]\n",
            " ['India' 24.0 30000.0]\n",
            " ['Sri lanka' 28.0 40000.0]\n",
            " ['India' 33.714285714285715 60000.0]\n",
            " ['China' 51.0 89000.0]\n",
            " ['India' 44.0 78000.0]\n",
            " ['Sri lanka' 21.0 20000.0]\n",
            " ['China' 25.0 30000.0]\n",
            " ['India' 33.0 45000.0]\n",
            " ['India' 42.0 65000.0]\n",
            " ['Sri lanka' 33.0 22000.0]]\n"
          ]
        }
      ]
    },
    {
      "cell_type": "markdown",
      "metadata": {
        "_uuid": "e06044bf541de146377c72fe4f34eb83100c2f49",
        "id": "mK9Ivi_QvUSh"
      },
      "source": [
        "* Mean Value of Age    = Sum of all age values /14   = 33.714285714285715\n",
        "* Mean Value of Salary = Sum of all Salary value /14 = 54857.142857142855"
      ]
    },
    {
      "cell_type": "markdown",
      "metadata": {
        "_uuid": "0504a7e75bde4ac7779062a37f144d9b9a096a17",
        "id": "eQR2P5UTvUSi"
      },
      "source": [
        "## 3. Encode the Categorical data\n",
        "\n",
        "Categorical data biasanya biasanya memiliki tipe data string.\n",
        "Beberapa algoritma dapat memproses categorical data yg berbentuka string secara langsung seperti decision tree.\n",
        "\n",
        "Akan tetapi banyak machine learning algorithms tidak dapat memproses categorical data yg berbentuk string secara langsung. Mereka membutuhkan variabel yg berbentuk numeric.\n",
        "\n",
        "Itu artinya categorical data harus dikonversi bentukanya kedalam numerical form."
      ]
    },
    {
      "cell_type": "markdown",
      "metadata": {
        "_uuid": "a8261920df0d266e0551cdae8264a07c96cdd7f8",
        "id": "tkNV29LDvUSj"
      },
      "source": [
        "Pada Dataset kita terdapat dua kolom categorical data\n",
        "\n",
        "Yaitu kolom 'Country' dan 'Purchased'"
      ]
    },
    {
      "cell_type": "markdown",
      "metadata": {
        "_uuid": "28a61d344d1556bdac352ac69e2ed0eb0e9a0cbc",
        "id": "sezhaO4NvUSk"
      },
      "source": [
        "#### Label Encoder: \n",
        "\n",
        "    * Metode ini bisa digunakan untuk mentranform non-numerical labels kedalam bentuk numerical labels (or nominal\n",
        "      categorical variables).\n",
        "    * Numerical labels akan selalu ada diantara 0 sampai n_classes-1. \n",
        "      Misalkan ada 3 kelas, berarti labelnya ada di 0, 1, dan 2."
      ]
    },
    {
      "cell_type": "code",
      "metadata": {
        "_uuid": "ad860887b31ba69dfe706ccd320b9cebe4fe931b",
        "id": "HZ0FtxR2vUSl",
        "outputId": "6a1a7209-ffcf-453a-d6bb-1d8a2d6a8892",
        "colab": {
          "base_uri": "https://localhost:8080/"
        }
      },
      "source": [
        "from sklearn.preprocessing import LabelEncoder, OneHotEncoder\n",
        "#Encode untuk data kategorikal pada kolom 'Country'\n",
        "labelencoder_X = LabelEncoder()\n",
        "X[:,0] = labelencoder_X.fit_transform(X[:,0])\n",
        "X[:,0]"
      ],
      "execution_count": 21,
      "outputs": [
        {
          "output_type": "execute_result",
          "data": {
            "text/plain": [
              "array([1, 2, 0, 2, 0, 1, 2, 1, 0, 1, 2, 0, 1, 1, 2], dtype=object)"
            ]
          },
          "metadata": {},
          "execution_count": 21
        }
      ]
    },
    {
      "cell_type": "markdown",
      "metadata": {
        "_uuid": "5f745a4a68c5e1d90dc1537940af301e69d9c164",
        "id": "XhFPsshPvUSo"
      },
      "source": [
        "Sekarang categorical value untuk kolom 'Country' dirbah ke dalam bentuk kategorikal\n",
        "\n",
        "| Country | Value |\n",
        "|:--------|:------|\n",
        "| China   |   0   |  \n",
        "| India   |   1   |   \n",
        "| Srilanka|   2   |   \n"
      ]
    },
    {
      "cell_type": "code",
      "metadata": {
        "id": "r0s-aQu5vUSt",
        "outputId": "93530bf2-dbee-4baa-d6f6-f290689f1ea1",
        "colab": {
          "base_uri": "https://localhost:8080/"
        }
      },
      "source": [
        "X"
      ],
      "execution_count": 22,
      "outputs": [
        {
          "output_type": "execute_result",
          "data": {
            "text/plain": [
              "array([[1, 34.0, 92000.0],\n",
              "       [2, 22.0, 25000.0],\n",
              "       [0, 31.0, 74000.0],\n",
              "       [2, 29.0, 54857.142857142855],\n",
              "       [0, 55.0, 98000.0],\n",
              "       [1, 24.0, 30000.0],\n",
              "       [2, 28.0, 40000.0],\n",
              "       [1, 33.714285714285715, 60000.0],\n",
              "       [0, 51.0, 89000.0],\n",
              "       [1, 44.0, 78000.0],\n",
              "       [2, 21.0, 20000.0],\n",
              "       [0, 25.0, 30000.0],\n",
              "       [1, 33.0, 45000.0],\n",
              "       [1, 42.0, 65000.0],\n",
              "       [2, 33.0, 22000.0]], dtype=object)"
            ]
          },
          "metadata": {},
          "execution_count": 22
        }
      ]
    },
    {
      "cell_type": "code",
      "metadata": {
        "_uuid": "614c26108b7dcd141f65bf14b67e178aee962f19",
        "id": "tHg7TeELvUSw",
        "outputId": "40585b21-25dd-4abd-ab35-e9888acfd1e6",
        "colab": {
          "base_uri": "https://localhost:8080/"
        }
      },
      "source": [
        "#Encode untuk data kategorikal pada kolom 'Purchased'\n",
        "labelencoder_Y = LabelEncoder()\n",
        "Y = labelencoder_X.fit_transform(Y)\n",
        "Y"
      ],
      "execution_count": 23,
      "outputs": [
        {
          "output_type": "execute_result",
          "data": {
            "text/plain": [
              "array([1, 1, 1, 0, 1, 0, 0, 0, 1, 1, 0, 1, 1, 1, 0])"
            ]
          },
          "metadata": {},
          "execution_count": 23
        }
      ]
    },
    {
      "cell_type": "markdown",
      "metadata": {
        "id": "nnuYF-3TvUSy"
      },
      "source": [
        "## 4. Splitting Dataset"
      ]
    },
    {
      "cell_type": "code",
      "metadata": {
        "_uuid": "19b3d19ab1e4b1c1ff425d55b0eb79317bf7ab86",
        "id": "gnwIfQegvUSz"
      },
      "source": [
        "from sklearn.model_selection import train_test_split\n",
        "\n",
        "X_train,X_test,Y_train,Y_test = train_test_split(X,Y,test_size = 0.2,random_state = 0)"
      ],
      "execution_count": 24,
      "outputs": []
    },
    {
      "cell_type": "code",
      "metadata": {
        "_uuid": "780861983da7a12d75a1a3c7e6e03a1602d41c07",
        "scrolled": true,
        "id": "Ijmtb2CvvUS0",
        "outputId": "bb36f0b6-f95f-4545-fa3e-62115a751703",
        "colab": {
          "base_uri": "https://localhost:8080/"
        }
      },
      "source": [
        "# Print the shape of the dataset\n",
        "print ('X_train:', (str(X_train.shape)))\n",
        "print ('----------------')\n",
        "print ('X_test:', (str(X_test.shape)))\n",
        "print ('----------------')\n",
        "print ('Y_train:', (str(Y_train.shape)))\n",
        "print ('----------------')\n",
        "print ('Y_test:', (str(Y_test.shape)))\n",
        "print ('----------------')"
      ],
      "execution_count": 25,
      "outputs": [
        {
          "output_type": "stream",
          "name": "stdout",
          "text": [
            "X_train: (12, 3)\n",
            "----------------\n",
            "X_test: (3, 3)\n",
            "----------------\n",
            "Y_train: (12,)\n",
            "----------------\n",
            "Y_test: (3,)\n",
            "----------------\n"
          ]
        }
      ]
    },
    {
      "cell_type": "markdown",
      "metadata": {
        "_uuid": "0ef42f4efa7b7ed1f21966153a9a0de7a14d1d2e",
        "id": "0cTmNNS-vUS2"
      },
      "source": [
        "## 5. Scale your Features\n",
        " \n",
        "\n",
        "Dalam sebuah dataset, biasanya nilai pada tiap fitur mempunyai range yg berbeda. Hal ini dapat menjadikan masalah untuk\n",
        "beberapa model machine learning. Untuk itu kita harus melakukan scaling agar semua nilai pada fitur memiliki range yang sama. Pada kasus ini kita menggunakan StandardScaler\n",
        "      \n",
        "      "
      ]
    },
    {
      "cell_type": "code",
      "metadata": {
        "_uuid": "d7b0722d744c2da299c42cc2b6e50f6a21a87d20",
        "id": "sp9CQAQpvUS4"
      },
      "source": [
        "\n",
        "from sklearn.preprocessing import StandardScaler\n",
        "\n",
        "sc_X = StandardScaler()\n",
        "\n",
        "# We need to fit and transform the training set\n",
        "X_train = sc_X.fit_transform(X_train)\n",
        "\n",
        "# We need to fit the test set\n",
        "X_test = sc_X.transform(X_test)"
      ],
      "execution_count": 26,
      "outputs": []
    },
    {
      "cell_type": "code",
      "metadata": {
        "_uuid": "19edd09629c93a036a69dbb5adc2fa526c1403db",
        "id": "mamkdwIbvUS6",
        "outputId": "c6a0ab5e-4b6b-4a91-c046-ae43aabb3d8d",
        "colab": {
          "base_uri": "https://localhost:8080/"
        }
      },
      "source": [
        "X_train"
      ],
      "execution_count": 27,
      "outputs": [
        {
          "output_type": "execute_result",
          "data": {
            "text/plain": [
              "array([[ 0.00000000e+00,  1.13100526e+00,  8.68162753e-01],\n",
              "       [ 1.41421356e+00, -7.99435932e-02, -1.31570762e+00],\n",
              "       [-1.41421356e+00,  2.34195411e+00,  1.64811646e+00],\n",
              "       [-1.41421356e+00, -3.00116112e-01,  7.12172013e-01],\n",
              "       [ 0.00000000e+00,  9.10832742e-01,  3.61192846e-01],\n",
              "       [ 1.41421356e+00, -1.40097871e+00, -1.39370299e+00],\n",
              "       [ 0.00000000e+00, -1.31055071e-03,  1.66204420e-01],\n",
              "       [-1.41421356e+00, -9.60633669e-01, -1.00372614e+00],\n",
              "       [ 1.41421356e+00, -5.20288631e-01, -3.43551036e-02],\n",
              "       [ 0.00000000e+00,  3.01426663e-02,  1.41413035e+00],\n",
              "       [ 0.00000000e+00, -1.07071993e+00, -1.00372614e+00],\n",
              "       [ 0.00000000e+00, -7.99435932e-02, -4.18760858e-01]])"
            ]
          },
          "metadata": {},
          "execution_count": 27
        }
      ]
    },
    {
      "cell_type": "code",
      "metadata": {
        "_uuid": "047b9e920be562717de782098c416e0bcc6e9bd5",
        "id": "ztZVL056vUS7",
        "outputId": "e9e57394-1f4d-4b92-a7aa-d16278defe47",
        "colab": {
          "base_uri": "https://localhost:8080/"
        }
      },
      "source": [
        "X_test"
      ],
      "execution_count": 28,
      "outputs": [
        {
          "output_type": "execute_result",
          "data": {
            "text/plain": [
              "array([[ 1.41421356, -1.29089245, -1.19871456],\n",
              "       [ 1.41421356, -0.63037489, -0.61374928],\n",
              "       [-1.41421356,  1.90160908,  1.29713729]])"
            ]
          },
          "metadata": {},
          "execution_count": 28
        }
      ]
    },
    {
      "cell_type": "markdown",
      "metadata": {
        "_uuid": "d884daf43f80af5c65844fbc763ea18c738890ec",
        "id": "jOI8_2SJvUS8"
      },
      "source": [
        "Nah Sekarang semua data dalam fitur sudah berada dalam range yg sama, data ini bisa lgsg kita masukan kedalam model machine learning."
      ]
    },
    {
      "cell_type": "markdown",
      "metadata": {
        "id": "1QzXaiy_vUS8"
      },
      "source": [
        "Dalam percobaan kali ini kita akan mencoba memasukkan data kedalam model KNN"
      ]
    },
    {
      "cell_type": "code",
      "metadata": {
        "id": "JSu4UNYKvUS9",
        "outputId": "3b07a8b5-c2ef-435d-90bc-40d3447a9511",
        "colab": {
          "base_uri": "https://localhost:8080/"
        }
      },
      "source": [
        "from sklearn.neighbors import KNeighborsClassifier\n",
        "k = 3\n",
        "#Train Model and Predict  \n",
        "knn = KNeighborsClassifier(n_neighbors = k).fit(X_train,Y_train)\n",
        "knn"
      ],
      "execution_count": 29,
      "outputs": [
        {
          "output_type": "execute_result",
          "data": {
            "text/plain": [
              "KNeighborsClassifier(algorithm='auto', leaf_size=30, metric='minkowski',\n",
              "                     metric_params=None, n_jobs=None, n_neighbors=3, p=2,\n",
              "                     weights='uniform')"
            ]
          },
          "metadata": {},
          "execution_count": 29
        }
      ]
    },
    {
      "cell_type": "code",
      "metadata": {
        "id": "0_rkHOfuvUS-"
      },
      "source": [
        "y_predict = knn.predict(X_test)"
      ],
      "execution_count": 30,
      "outputs": []
    },
    {
      "cell_type": "code",
      "metadata": {
        "id": "7b32clwovUS_",
        "outputId": "cadb3d22-2282-4fa2-8543-cc0108b4b9a0",
        "colab": {
          "base_uri": "https://localhost:8080/"
        }
      },
      "source": [
        "from sklearn import metrics\n",
        "print(\"Test set Accuracy: \", metrics.accuracy_score(Y_test, y_predict))"
      ],
      "execution_count": 31,
      "outputs": [
        {
          "output_type": "stream",
          "name": "stdout",
          "text": [
            "Test set Accuracy:  0.6666666666666666\n"
          ]
        }
      ]
    },
    {
      "cell_type": "markdown",
      "metadata": {
        "id": "Nhn9gGUpvUS_"
      },
      "source": [
        "Dalam hal ini kita hanya mendapat akurasi 67%, ini terhitung kecil. ini bisa disebabkan karena data yg kita punya hanyaa sedikit. "
      ]
    },
    {
      "cell_type": "code",
      "metadata": {
        "id": "KjVAY_5vvUTA"
      },
      "source": [
        ""
      ],
      "execution_count": 31,
      "outputs": []
    }
  ]
}