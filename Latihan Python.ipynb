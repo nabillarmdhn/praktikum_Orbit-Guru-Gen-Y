{
  "nbformat": 4,
  "nbformat_minor": 0,
  "metadata": {
    "colab": {
      "name": "Untitled5.ipynb",
      "provenance": [],
      "authorship_tag": "ABX9TyODYxMbm+Bvtlony08fDUoV",
      "include_colab_link": true
    },
    "kernelspec": {
      "name": "python3",
      "display_name": "Python 3"
    },
    "language_info": {
      "name": "python"
    }
  },
  "cells": [
    {
      "cell_type": "markdown",
      "metadata": {
        "id": "view-in-github",
        "colab_type": "text"
      },
      "source": [
        "<a href=\"https://colab.research.google.com/github/nabillarmdhn/praktikum_Orbit-Guru-Gen-Y/blob/main/Latihan%20Python.ipynb\" target=\"_parent\"><img src=\"https://colab.research.google.com/assets/colab-badge.svg\" alt=\"Open In Colab\"/></a>"
      ]
    },
    {
      "cell_type": "markdown",
      "metadata": {
        "id": "FjpwCASqIrnp"
      },
      "source": [
        ""
      ]
    },
    {
      "cell_type": "markdown",
      "metadata": {
        "id": "powGyUq-Il0x"
      },
      "source": [
        "LATIHAN PYTHON MENGENAL JENIS-JENIS  TIPE DATA "
      ]
    },
    {
      "cell_type": "markdown",
      "metadata": {
        "id": "JDKkL_74RgtG"
      },
      "source": [
        "Number"
      ]
    },
    {
      "cell_type": "code",
      "metadata": {
        "colab": {
          "base_uri": "https://localhost:8080/"
        },
        "id": "RxM8YcJS_5Ev",
        "outputId": "482eabc5-be02-48ed-fc55-8ec160d1bd8d"
      },
      "source": [
        "a = 10\n",
        "print(a, \"bertipe\", type(a))\n",
        "b = 1.7\n",
        "print(a, \"bertipe\", type(b))\n",
        "c = 1+3j\n",
        "print(c, \" Bertipe bilangan kompleks? \", isinstance(1+3j,complex))"
      ],
      "execution_count": 1,
      "outputs": [
        {
          "output_type": "stream",
          "name": "stdout",
          "text": [
            "10 bertipe <class 'int'>\n",
            "10 bertipe <class 'float'>\n",
            "(1+3j)  Bertipe bilangan kompleks?  True\n"
          ]
        }
      ]
    },
    {
      "cell_type": "markdown",
      "metadata": {
        "id": "NycC5_1xRX_2"
      },
      "source": [
        "List"
      ]
    },
    {
      "cell_type": "code",
      "metadata": {
        "colab": {
          "base_uri": "https://localhost:8080/"
        },
        "id": "B-GPOeDqDOQC",
        "outputId": "bbdc27cc-b8aa-4c97-e3bf-62ad47030836"
      },
      "source": [
        "x = [5,10,15,20,25,30,35,40]\n",
        "print(x[5])\n",
        "print(x[-1])\n",
        "print(x[3:5])\n",
        "print(x[:5])\n",
        "print(x[-3:])\n",
        "print(x[1:7:2])"
      ],
      "execution_count": 2,
      "outputs": [
        {
          "output_type": "stream",
          "name": "stdout",
          "text": [
            "30\n",
            "40\n",
            "[20, 25]\n",
            "[5, 10, 15, 20, 25]\n",
            "[30, 35, 40]\n",
            "[10, 20, 30]\n"
          ]
        }
      ]
    },
    {
      "cell_type": "markdown",
      "metadata": {
        "id": "HHhWMzxpRWu9"
      },
      "source": [
        "List"
      ]
    },
    {
      "cell_type": "code",
      "metadata": {
        "colab": {
          "base_uri": "https://localhost:8080/"
        },
        "id": "e9XC1GNcGbY8",
        "outputId": "2b2da890-fd15-4937-933b-85469212c934"
      },
      "source": [
        "binatang = ['kucing', 'rusa', 'badak', 'gajah']\n",
        "del binatang[2]\n",
        "print(binatang)\n",
        "\n",
        "binatang = ['kucing','rusa','gajah']\n",
        "del binatang[2]\n",
        "print(binatang)\n",
        "\n"
      ],
      "execution_count": 10,
      "outputs": [
        {
          "output_type": "stream",
          "name": "stdout",
          "text": [
            "['kucing', 'rusa', 'gajah']\n",
            "['kucing', 'rusa']\n"
          ]
        }
      ]
    },
    {
      "cell_type": "markdown",
      "metadata": {
        "id": "zQPkEsT6RTyv"
      },
      "source": [
        "Slicing"
      ]
    },
    {
      "cell_type": "code",
      "metadata": {
        "colab": {
          "base_uri": "https://localhost:8080/",
          "height": 265
        },
        "id": "btOsDpYgHp4Z",
        "outputId": "e19cc804-0ff8-4ea2-d4e0-609a2945485e"
      },
      "source": [
        "s = \"Hello World!\"\n",
        "print(s[4]) \t\t    #ambil karakter kelima dari string s\n",
        "print(s[6:11]) \t\t  #ambil karakter ketujuh hingga sebelas dari string s\n",
        "\n",
        "s[5]=\"d\" \t\t        #ubah karakter keenam dari string s menjadi \"d\", seharusnya gagal karena immutable\n",
        "print(s)\n",
        "s = \"Halo Dunia!\"\t#ubah isi string s menjadi \"Halo Dunia!\", seharusnya berhasil karena mutable\n",
        "print(s)"
      ],
      "execution_count": 20,
      "outputs": [
        {
          "output_type": "stream",
          "name": "stdout",
          "text": [
            "o\n",
            "World\n"
          ]
        },
        {
          "output_type": "error",
          "ename": "TypeError",
          "evalue": "ignored",
          "traceback": [
            "\u001b[0;31m---------------------------------------------------------------------------\u001b[0m",
            "\u001b[0;31mTypeError\u001b[0m                                 Traceback (most recent call last)",
            "\u001b[0;32m<ipython-input-20-adb754e871ec>\u001b[0m in \u001b[0;36m<module>\u001b[0;34m()\u001b[0m\n\u001b[1;32m      3\u001b[0m \u001b[0mprint\u001b[0m\u001b[0;34m(\u001b[0m\u001b[0ms\u001b[0m\u001b[0;34m[\u001b[0m\u001b[0;36m6\u001b[0m\u001b[0;34m:\u001b[0m\u001b[0;36m11\u001b[0m\u001b[0;34m]\u001b[0m\u001b[0;34m)\u001b[0m            \u001b[0;31m#ambil karakter ketujuh hingga sebelas dari string s\u001b[0m\u001b[0;34m\u001b[0m\u001b[0;34m\u001b[0m\u001b[0m\n\u001b[1;32m      4\u001b[0m \u001b[0;34m\u001b[0m\u001b[0m\n\u001b[0;32m----> 5\u001b[0;31m \u001b[0ms\u001b[0m\u001b[0;34m[\u001b[0m\u001b[0;36m5\u001b[0m\u001b[0;34m]\u001b[0m\u001b[0;34m=\u001b[0m\u001b[0;34m\"d\"\u001b[0m                        \u001b[0;31m#ubah karakter keenam dari string s menjadi \"d\", seharusnya gagal karena immutable\u001b[0m\u001b[0;34m\u001b[0m\u001b[0;34m\u001b[0m\u001b[0m\n\u001b[0m\u001b[1;32m      6\u001b[0m \u001b[0mprint\u001b[0m\u001b[0;34m(\u001b[0m\u001b[0ms\u001b[0m\u001b[0;34m)\u001b[0m\u001b[0;34m\u001b[0m\u001b[0;34m\u001b[0m\u001b[0m\n\u001b[1;32m      7\u001b[0m \u001b[0ms\u001b[0m \u001b[0;34m=\u001b[0m \u001b[0;34m\"Halo Dunia!\"\u001b[0m       \u001b[0;31m#ubah isi string s menjadi \"Halo Dunia!\", seharusnya berhasil karena mutable\u001b[0m\u001b[0;34m\u001b[0m\u001b[0;34m\u001b[0m\u001b[0m\n",
            "\u001b[0;31mTypeError\u001b[0m: 'str' object does not support item assignment"
          ]
        }
      ]
    },
    {
      "cell_type": "markdown",
      "metadata": {
        "id": "hQWVcyNSRRwW"
      },
      "source": [
        "Tuple"
      ]
    },
    {
      "cell_type": "code",
      "metadata": {
        "colab": {
          "base_uri": "https://localhost:8080/",
          "height": 129
        },
        "id": "swjQ50iQQ2j9",
        "outputId": "9c9593d7-9472-413b-bc96-0582824813a9"
      },
      "source": [
        "t = (5,'program', 1+3j)\n",
        "print(t[1])\n",
        "print(t[0:3])\n",
        "print(t[0]=10)     #pada tuple elemennya tidak dapat diubah"
      ],
      "execution_count": 23,
      "outputs": [
        {
          "output_type": "error",
          "ename": "SyntaxError",
          "evalue": "ignored",
          "traceback": [
            "\u001b[0;36m  File \u001b[0;32m\"<ipython-input-23-ecb370837c1e>\"\u001b[0;36m, line \u001b[0;32m4\u001b[0m\n\u001b[0;31m    print(t[0]=10)\u001b[0m\n\u001b[0m         ^\u001b[0m\n\u001b[0;31mSyntaxError\u001b[0m\u001b[0;31m:\u001b[0m keyword can't be an expression\n"
          ]
        }
      ]
    },
    {
      "cell_type": "markdown",
      "metadata": {
        "id": "VPvKsFfCRkLe"
      },
      "source": [
        "Set"
      ]
    },
    {
      "cell_type": "code",
      "metadata": {
        "colab": {
          "base_uri": "https://localhost:8080/"
        },
        "id": "B9G5MZJdRlL0",
        "outputId": "776eb5fb-d2f4-420f-8b4f-1779c3c6823e"
      },
      "source": [
        "a = {3,4,5,6,7,8,8,9,9,2,2}\n",
        "print(a)"
      ],
      "execution_count": 24,
      "outputs": [
        {
          "output_type": "stream",
          "name": "stdout",
          "text": [
            "{2, 3, 4, 5, 6, 7, 8, 9}\n"
          ]
        }
      ]
    },
    {
      "cell_type": "code",
      "metadata": {
        "colab": {
          "base_uri": "https://localhost:8080/",
          "height": 180
        },
        "id": "JmeD3fTDR-TM",
        "outputId": "ef143f73-238c-45cc-ee39-1e60b83db8e1"
      },
      "source": [
        "a ={4,6,5,7,8,9,4,4,}\n",
        "print(a[3])  #Pada set kita tidak bisa melakukan slicing"
      ],
      "execution_count": 26,
      "outputs": [
        {
          "output_type": "error",
          "ename": "TypeError",
          "evalue": "ignored",
          "traceback": [
            "\u001b[0;31m---------------------------------------------------------------------------\u001b[0m",
            "\u001b[0;31mTypeError\u001b[0m                                 Traceback (most recent call last)",
            "\u001b[0;32m<ipython-input-26-beb3a306caf1>\u001b[0m in \u001b[0;36m<module>\u001b[0;34m()\u001b[0m\n\u001b[1;32m      1\u001b[0m \u001b[0ma\u001b[0m \u001b[0;34m=\u001b[0m\u001b[0;34m{\u001b[0m\u001b[0;36m4\u001b[0m\u001b[0;34m,\u001b[0m\u001b[0;36m6\u001b[0m\u001b[0;34m,\u001b[0m\u001b[0;36m5\u001b[0m\u001b[0;34m,\u001b[0m\u001b[0;36m7\u001b[0m\u001b[0;34m,\u001b[0m\u001b[0;36m8\u001b[0m\u001b[0;34m,\u001b[0m\u001b[0;36m9\u001b[0m\u001b[0;34m,\u001b[0m\u001b[0;36m4\u001b[0m\u001b[0;34m,\u001b[0m\u001b[0;36m4\u001b[0m\u001b[0;34m,\u001b[0m\u001b[0;34m}\u001b[0m\u001b[0;34m\u001b[0m\u001b[0;34m\u001b[0m\u001b[0m\n\u001b[0;32m----> 2\u001b[0;31m \u001b[0mprint\u001b[0m\u001b[0;34m(\u001b[0m\u001b[0ma\u001b[0m\u001b[0;34m[\u001b[0m\u001b[0;36m3\u001b[0m\u001b[0;34m]\u001b[0m\u001b[0;34m)\u001b[0m\u001b[0;34m\u001b[0m\u001b[0;34m\u001b[0m\u001b[0m\n\u001b[0m",
            "\u001b[0;31mTypeError\u001b[0m: 'set' object is not subscriptable"
          ]
        }
      ]
    },
    {
      "cell_type": "markdown",
      "metadata": {
        "id": "OKmDNUy4T-su"
      },
      "source": [
        "Dictionary pada python"
      ]
    },
    {
      "cell_type": "code",
      "metadata": {
        "colab": {
          "base_uri": "https://localhost:8080/"
        },
        "id": "n7YrE0ZpTpnk",
        "outputId": "18562463-3cc8-489d-f221-6794873a214d"
      },
      "source": [
        "dict = {'Name': 'Zara', 'Age': 7, 'Class': 'First'}\n",
        "print (\"dict['Name']: \", dict['Name'])\n",
        "print (\"dict['Age']: \", dict['Age'])"
      ],
      "execution_count": 27,
      "outputs": [
        {
          "output_type": "stream",
          "name": "stdout",
          "text": [
            "dict['Name']:  Zara\n",
            "dict['Age']:  7\n"
          ]
        }
      ]
    },
    {
      "cell_type": "markdown",
      "metadata": {
        "id": "yTpA41q1VNVE"
      },
      "source": [
        "Konversi antar tipe data"
      ]
    },
    {
      "cell_type": "markdown",
      "metadata": {
        "id": "m87Q_F6xVu9U"
      },
      "source": [
        "Ubah int ke float"
      ]
    },
    {
      "cell_type": "code",
      "metadata": {
        "colab": {
          "base_uri": "https://localhost:8080/"
        },
        "id": "VP9YtzXCVRG5",
        "outputId": "f5314d1a-e6d0-4172-ca4d-afe36a50ee34"
      },
      "source": [
        "print(float(7))"
      ],
      "execution_count": 31,
      "outputs": [
        {
          "output_type": "stream",
          "name": "stdout",
          "text": [
            "7.0\n"
          ]
        }
      ]
    },
    {
      "cell_type": "markdown",
      "metadata": {
        "id": "DU-T5NHJVxwW"
      },
      "source": [
        "Ubah float ke int"
      ]
    },
    {
      "cell_type": "code",
      "metadata": {
        "colab": {
          "base_uri": "https://localhost:8080/"
        },
        "id": "ulra-k0SVzsG",
        "outputId": "d928c1be-4f91-43d8-bc76-767ddba49581"
      },
      "source": [
        "print(int(30.5))"
      ],
      "execution_count": 35,
      "outputs": [
        {
          "output_type": "stream",
          "name": "stdout",
          "text": [
            "30\n"
          ]
        }
      ]
    },
    {
      "cell_type": "markdown",
      "metadata": {
        "id": "MC1vGMirWaAs"
      },
      "source": [
        "Ubah dari-dan-ke string"
      ]
    },
    {
      "cell_type": "code",
      "metadata": {
        "colab": {
          "base_uri": "https://localhost:8080/"
        },
        "id": "FyYP-QS2WdCt",
        "outputId": "6807b24f-e7fc-4a31-a47b-c595dd6ee9a2"
      },
      "source": [
        "print(str(40))"
      ],
      "execution_count": 36,
      "outputs": [
        {
          "output_type": "stream",
          "name": "stdout",
          "text": [
            "40\n"
          ]
        }
      ]
    }
  ]
}