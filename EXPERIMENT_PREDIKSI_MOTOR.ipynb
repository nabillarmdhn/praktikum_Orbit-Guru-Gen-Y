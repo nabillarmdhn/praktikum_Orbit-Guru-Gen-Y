{
  "nbformat": 4,
  "nbformat_minor": 0,
  "metadata": {
    "colab": {
      "name": "EXPERIMENT PREDIKSI MOTOR",
      "provenance": [],
      "collapsed_sections": []
    },
    "kernelspec": {
      "name": "python3",
      "display_name": "Python 3"
    },
    "language_info": {
      "name": "python"
    }
  },
  "cells": [
    {
      "cell_type": "markdown",
      "metadata": {
        "id": "_KvWah9-836m"
      },
      "source": [
        "# **KELOMPOK 3**\n",
        "\n",
        "Prediksi Pengeluaran Konsumen "
      ]
    },
    {
      "cell_type": "markdown",
      "metadata": {
        "id": "DnTwQG2q8vkn"
      },
      "source": [
        "# Import libraries"
      ]
    },
    {
      "cell_type": "code",
      "metadata": {
        "id": "l9aoHtz8jtG4"
      },
      "source": [
        "import pandas as pd\n",
        "import numpy as np\n",
        "import matplotlib.pyplot as plt"
      ],
      "execution_count": null,
      "outputs": []
    },
    {
      "cell_type": "markdown",
      "metadata": {
        "id": "ma97f43LPYzr"
      },
      "source": [
        "**Import Data**"
      ]
    },
    {
      "cell_type": "code",
      "metadata": {
        "colab": {
          "base_uri": "https://localhost:8080/"
        },
        "id": "rafRe5Ngh4jk",
        "outputId": "8d059043-463e-410a-d54d-2bc37f3e6436"
      },
      "source": [
        "!wget -O konsumen.csv https://raw.githubusercontent.com/jumadi-cloud/Fundamental-Python/main/Dataset/konsumen.csv"
      ],
      "execution_count": null,
      "outputs": [
        {
          "output_type": "stream",
          "name": "stdout",
          "text": [
            "--2021-10-27 01:38:32--  https://raw.githubusercontent.com/jumadi-cloud/Fundamental-Python/main/Dataset/konsumen.csv\n",
            "Resolving raw.githubusercontent.com (raw.githubusercontent.com)... 185.199.108.133, 185.199.109.133, 185.199.110.133, ...\n",
            "Connecting to raw.githubusercontent.com (raw.githubusercontent.com)|185.199.108.133|:443... connected.\n",
            "HTTP request sent, awaiting response... 200 OK\n",
            "Length: 5340501 (5.1M) [text/plain]\n",
            "Saving to: ‘konsumen.csv’\n",
            "\n",
            "konsumen.csv        100%[===================>]   5.09M  --.-KB/s    in 0.09s   \n",
            "\n",
            "2021-10-27 01:38:32 (55.1 MB/s) - ‘konsumen.csv’ saved [5340501/5340501]\n",
            "\n"
          ]
        }
      ]
    },
    {
      "cell_type": "code",
      "metadata": {
        "id": "PcKbjYXyjwZI",
        "colab": {
          "base_uri": "https://localhost:8080/",
          "height": 511
        },
        "outputId": "101a182d-5994-4376-fc47-f004ef1d9300"
      },
      "source": [
        "#Menampilkan data\n",
        "df = pd.read_csv('konsumen.csv', delimiter=';', skiprows=0, low_memory=False)\n",
        "df.head()"
      ],
      "execution_count": null,
      "outputs": [
        {
          "output_type": "execute_result",
          "data": {
            "text/html": [
              "<div>\n",
              "<style scoped>\n",
              "    .dataframe tbody tr th:only-of-type {\n",
              "        vertical-align: middle;\n",
              "    }\n",
              "\n",
              "    .dataframe tbody tr th {\n",
              "        vertical-align: top;\n",
              "    }\n",
              "\n",
              "    .dataframe thead th {\n",
              "        text-align: right;\n",
              "    }\n",
              "</style>\n",
              "<table border=\"1\" class=\"dataframe\">\n",
              "  <thead>\n",
              "    <tr style=\"text-align: right;\">\n",
              "      <th></th>\n",
              "      <th>SALES DATE</th>\n",
              "      <th>TYPE MOTOR</th>\n",
              "      <th>COLOR</th>\n",
              "      <th>KODE CUSTOMER</th>\n",
              "      <th>JENIS KELAMIN</th>\n",
              "      <th>TANGGAL LAHIR</th>\n",
              "      <th>KECAMATAN SURAT</th>\n",
              "      <th>KOTA SURAT</th>\n",
              "      <th>PROPINSI</th>\n",
              "      <th>STATUS RUMAH</th>\n",
              "      <th>JENIS PENJUALAN STNK</th>\n",
              "      <th>JENIS PENJUALAN SSU</th>\n",
              "      <th>BESAR DP</th>\n",
              "      <th>BESAR CICILAN</th>\n",
              "      <th>LAMA CICILAN</th>\n",
              "      <th>AGAMA</th>\n",
              "      <th>PEKERJAAN</th>\n",
              "      <th>PENGELUARAN</th>\n",
              "      <th>PENDIDIKAN</th>\n",
              "      <th>KEBERSEDIAAN DIHUBUNGI</th>\n",
              "      <th>MERK MOTOR SBLMNYA</th>\n",
              "      <th>TYPE MOTOR SBLMNYA</th>\n",
              "      <th>SMH DIGUNAKAN UNTUK</th>\n",
              "      <th>YG MENGGUNAKAN SMH</th>\n",
              "      <th>HOBI</th>\n",
              "      <th>KETERANGAN</th>\n",
              "      <th>KEWARGANEGARAAN</th>\n",
              "    </tr>\n",
              "  </thead>\n",
              "  <tbody>\n",
              "    <tr>\n",
              "      <th>0</th>\n",
              "      <td>08/08/2019</td>\n",
              "      <td>REVO FIT FI</td>\n",
              "      <td>HITAM</td>\n",
              "      <td>INDIVIDUAL</td>\n",
              "      <td>LAKI-LAKI</td>\n",
              "      <td>25/08/1970</td>\n",
              "      <td>Manyar</td>\n",
              "      <td>Kab. Gresik</td>\n",
              "      <td>Jawa Timur</td>\n",
              "      <td>RUMAH SENDIRI</td>\n",
              "      <td>CASH</td>\n",
              "      <td>CASH</td>\n",
              "      <td>NaN</td>\n",
              "      <td>NaN</td>\n",
              "      <td>NaN</td>\n",
              "      <td>ISLAM</td>\n",
              "      <td>DOKTER</td>\n",
              "      <td>RP 2.000.001,- S/D RP 3.000.000,-</td>\n",
              "      <td>AKADEMI/DIPLOMA</td>\n",
              "      <td>YES</td>\n",
              "      <td>HONDA</td>\n",
              "      <td>AT AUTOMATIC</td>\n",
              "      <td>BERDAGANG</td>\n",
              "      <td>SAYA SENDIRI</td>\n",
              "      <td>Adventure (Petualangan)</td>\n",
              "      <td>NaN</td>\n",
              "      <td>WNI</td>\n",
              "    </tr>\n",
              "    <tr>\n",
              "      <th>1</th>\n",
              "      <td>16/10/2019</td>\n",
              "      <td>REVO FIT FI</td>\n",
              "      <td>HITAM</td>\n",
              "      <td>INDIVIDUAL</td>\n",
              "      <td>LAKI-LAKI</td>\n",
              "      <td>31/03/1972</td>\n",
              "      <td>Driyorejo</td>\n",
              "      <td>Kab. Gresik</td>\n",
              "      <td>Jawa Timur</td>\n",
              "      <td>RUMAH SENDIRI</td>\n",
              "      <td>CASH</td>\n",
              "      <td>CASH</td>\n",
              "      <td>NaN</td>\n",
              "      <td>NaN</td>\n",
              "      <td>NaN</td>\n",
              "      <td>ISLAM</td>\n",
              "      <td>PEGAWAI SWASTA, INDUSTRI</td>\n",
              "      <td>RP 3.000.001,- S/D RP 4.000.000,-</td>\n",
              "      <td>SLTA/SMU</td>\n",
              "      <td>YES</td>\n",
              "      <td>HONDA</td>\n",
              "      <td>SPORT</td>\n",
              "      <td>BERDAGANG</td>\n",
              "      <td>SAYA SENDIRI</td>\n",
              "      <td>Adventure (Petualangan)</td>\n",
              "      <td>NaN</td>\n",
              "      <td>WNI</td>\n",
              "    </tr>\n",
              "    <tr>\n",
              "      <th>2</th>\n",
              "      <td>07/10/2019</td>\n",
              "      <td>REVO FIT FI</td>\n",
              "      <td>HITAM</td>\n",
              "      <td>INDIVIDUAL</td>\n",
              "      <td>LAKI-LAKI</td>\n",
              "      <td>29/12/1998</td>\n",
              "      <td>Cerme</td>\n",
              "      <td>Kab. Gresik</td>\n",
              "      <td>Jawa Timur</td>\n",
              "      <td>RUMAH ORANG TUA / KELUARGA</td>\n",
              "      <td>CASH</td>\n",
              "      <td>CASH</td>\n",
              "      <td>NaN</td>\n",
              "      <td>NaN</td>\n",
              "      <td>NaN</td>\n",
              "      <td>ISLAM</td>\n",
              "      <td>MAHASISWA / PELAJAR</td>\n",
              "      <td>RP 1.000.001,- S/D RP 1.500.000,-</td>\n",
              "      <td>SLTA/SMU</td>\n",
              "      <td>YES</td>\n",
              "      <td>HONDA</td>\n",
              "      <td>SPORT</td>\n",
              "      <td>BERDAGANG</td>\n",
              "      <td>SAYA SENDIRI</td>\n",
              "      <td>Adventure (Petualangan)</td>\n",
              "      <td>NaN</td>\n",
              "      <td>WNI</td>\n",
              "    </tr>\n",
              "    <tr>\n",
              "      <th>3</th>\n",
              "      <td>09/09/2019</td>\n",
              "      <td>REVO FIT FI</td>\n",
              "      <td>HITAM</td>\n",
              "      <td>INDIVIDUAL</td>\n",
              "      <td>LAKI-LAKI</td>\n",
              "      <td>29/01/1983</td>\n",
              "      <td>Menganti</td>\n",
              "      <td>Kab. Gresik</td>\n",
              "      <td>Jawa Timur</td>\n",
              "      <td>RUMAH SENDIRI</td>\n",
              "      <td>CREDIT</td>\n",
              "      <td>CREDIT</td>\n",
              "      <td>1300000.0</td>\n",
              "      <td>634000.0</td>\n",
              "      <td>35.0</td>\n",
              "      <td>ISLAM</td>\n",
              "      <td>PEGAWAI SWASTA, INDUSTRI</td>\n",
              "      <td>RP 1.000.001,- S/D RP 1.500.000,-</td>\n",
              "      <td>SLTA/SMU</td>\n",
              "      <td>YES</td>\n",
              "      <td>HONDA</td>\n",
              "      <td>AT AUTOMATIC</td>\n",
              "      <td>PEMAKAIAN JARAK DEKAT</td>\n",
              "      <td>SAYA SENDIRI</td>\n",
              "      <td>Makan</td>\n",
              "      <td>SOPAN</td>\n",
              "      <td>WNI</td>\n",
              "    </tr>\n",
              "    <tr>\n",
              "      <th>4</th>\n",
              "      <td>07/10/2019</td>\n",
              "      <td>REVO FIT FI</td>\n",
              "      <td>HITAM</td>\n",
              "      <td>INDIVIDUAL</td>\n",
              "      <td>LAKI-LAKI</td>\n",
              "      <td>19/01/1996</td>\n",
              "      <td>Panceng</td>\n",
              "      <td>Kab. Gresik</td>\n",
              "      <td>Jawa Timur</td>\n",
              "      <td>RUMAH SENDIRI</td>\n",
              "      <td>CASH</td>\n",
              "      <td>CASH</td>\n",
              "      <td>NaN</td>\n",
              "      <td>NaN</td>\n",
              "      <td>NaN</td>\n",
              "      <td>ISLAM</td>\n",
              "      <td>MAHASISWA / PELAJAR</td>\n",
              "      <td>RP 1.000.001,- S/D RP 1.500.000,-</td>\n",
              "      <td>SLTA/SMU</td>\n",
              "      <td>YES</td>\n",
              "      <td>HONDA</td>\n",
              "      <td>SPORT</td>\n",
              "      <td>BERDAGANG</td>\n",
              "      <td>SAYA SENDIRI</td>\n",
              "      <td>Adventure (Petualangan)</td>\n",
              "      <td>NaN</td>\n",
              "      <td>WNI</td>\n",
              "    </tr>\n",
              "  </tbody>\n",
              "</table>\n",
              "</div>"
            ],
            "text/plain": [
              "   SALES DATE   TYPE MOTOR  ... KETERANGAN KEWARGANEGARAAN\n",
              "0  08/08/2019  REVO FIT FI  ...        NaN             WNI\n",
              "1  16/10/2019  REVO FIT FI  ...        NaN             WNI\n",
              "2  07/10/2019  REVO FIT FI  ...        NaN             WNI\n",
              "3  09/09/2019  REVO FIT FI  ...      SOPAN             WNI\n",
              "4  07/10/2019  REVO FIT FI  ...        NaN             WNI\n",
              "\n",
              "[5 rows x 27 columns]"
            ]
          },
          "metadata": {},
          "execution_count": 5
        }
      ]
    },
    {
      "cell_type": "code",
      "metadata": {
        "id": "TsybzkXwDnHD"
      },
      "source": [
        "# Menghapus data yang tidak perlu\n",
        "df=df.drop(columns=['BESAR DP', 'BESAR CICILAN', 'LAMA CICILAN', 'KETERANGAN','SALES DATE', 'TANGGAL LAHIR'])"
      ],
      "execution_count": null,
      "outputs": []
    },
    {
      "cell_type": "markdown",
      "metadata": {
        "id": "4TCDlDh2P2gu"
      },
      "source": [
        "# **Data Acquisition**"
      ]
    },
    {
      "cell_type": "code",
      "metadata": {
        "colab": {
          "base_uri": "https://localhost:8080/",
          "height": 511
        },
        "id": "fcGmZwRfTX1F",
        "outputId": "10ee7d12-3633-4ee8-9391-f01bd17c5014"
      },
      "source": [
        "df.head()"
      ],
      "execution_count": null,
      "outputs": [
        {
          "output_type": "execute_result",
          "data": {
            "text/html": [
              "<div>\n",
              "<style scoped>\n",
              "    .dataframe tbody tr th:only-of-type {\n",
              "        vertical-align: middle;\n",
              "    }\n",
              "\n",
              "    .dataframe tbody tr th {\n",
              "        vertical-align: top;\n",
              "    }\n",
              "\n",
              "    .dataframe thead th {\n",
              "        text-align: right;\n",
              "    }\n",
              "</style>\n",
              "<table border=\"1\" class=\"dataframe\">\n",
              "  <thead>\n",
              "    <tr style=\"text-align: right;\">\n",
              "      <th></th>\n",
              "      <th>TYPE MOTOR</th>\n",
              "      <th>COLOR</th>\n",
              "      <th>KODE CUSTOMER</th>\n",
              "      <th>JENIS KELAMIN</th>\n",
              "      <th>KECAMATAN SURAT</th>\n",
              "      <th>KOTA SURAT</th>\n",
              "      <th>PROPINSI</th>\n",
              "      <th>STATUS RUMAH</th>\n",
              "      <th>JENIS PENJUALAN STNK</th>\n",
              "      <th>JENIS PENJUALAN SSU</th>\n",
              "      <th>AGAMA</th>\n",
              "      <th>PEKERJAAN</th>\n",
              "      <th>PENGELUARAN</th>\n",
              "      <th>PENDIDIKAN</th>\n",
              "      <th>KEBERSEDIAAN DIHUBUNGI</th>\n",
              "      <th>MERK MOTOR SBLMNYA</th>\n",
              "      <th>TYPE MOTOR SBLMNYA</th>\n",
              "      <th>SMH DIGUNAKAN UNTUK</th>\n",
              "      <th>YG MENGGUNAKAN SMH</th>\n",
              "      <th>HOBI</th>\n",
              "      <th>KEWARGANEGARAAN</th>\n",
              "    </tr>\n",
              "  </thead>\n",
              "  <tbody>\n",
              "    <tr>\n",
              "      <th>0</th>\n",
              "      <td>REVO FIT FI</td>\n",
              "      <td>HITAM</td>\n",
              "      <td>INDIVIDUAL</td>\n",
              "      <td>LAKI-LAKI</td>\n",
              "      <td>Manyar</td>\n",
              "      <td>Kab. Gresik</td>\n",
              "      <td>Jawa Timur</td>\n",
              "      <td>RUMAH SENDIRI</td>\n",
              "      <td>CASH</td>\n",
              "      <td>CASH</td>\n",
              "      <td>ISLAM</td>\n",
              "      <td>DOKTER</td>\n",
              "      <td>RP 2.000.001,- S/D RP 3.000.000,-</td>\n",
              "      <td>AKADEMI/DIPLOMA</td>\n",
              "      <td>YES</td>\n",
              "      <td>HONDA</td>\n",
              "      <td>AT AUTOMATIC</td>\n",
              "      <td>BERDAGANG</td>\n",
              "      <td>SAYA SENDIRI</td>\n",
              "      <td>Adventure (Petualangan)</td>\n",
              "      <td>WNI</td>\n",
              "    </tr>\n",
              "    <tr>\n",
              "      <th>1</th>\n",
              "      <td>REVO FIT FI</td>\n",
              "      <td>HITAM</td>\n",
              "      <td>INDIVIDUAL</td>\n",
              "      <td>LAKI-LAKI</td>\n",
              "      <td>Driyorejo</td>\n",
              "      <td>Kab. Gresik</td>\n",
              "      <td>Jawa Timur</td>\n",
              "      <td>RUMAH SENDIRI</td>\n",
              "      <td>CASH</td>\n",
              "      <td>CASH</td>\n",
              "      <td>ISLAM</td>\n",
              "      <td>PEGAWAI SWASTA, INDUSTRI</td>\n",
              "      <td>RP 3.000.001,- S/D RP 4.000.000,-</td>\n",
              "      <td>SLTA/SMU</td>\n",
              "      <td>YES</td>\n",
              "      <td>HONDA</td>\n",
              "      <td>SPORT</td>\n",
              "      <td>BERDAGANG</td>\n",
              "      <td>SAYA SENDIRI</td>\n",
              "      <td>Adventure (Petualangan)</td>\n",
              "      <td>WNI</td>\n",
              "    </tr>\n",
              "    <tr>\n",
              "      <th>2</th>\n",
              "      <td>REVO FIT FI</td>\n",
              "      <td>HITAM</td>\n",
              "      <td>INDIVIDUAL</td>\n",
              "      <td>LAKI-LAKI</td>\n",
              "      <td>Cerme</td>\n",
              "      <td>Kab. Gresik</td>\n",
              "      <td>Jawa Timur</td>\n",
              "      <td>RUMAH ORANG TUA / KELUARGA</td>\n",
              "      <td>CASH</td>\n",
              "      <td>CASH</td>\n",
              "      <td>ISLAM</td>\n",
              "      <td>MAHASISWA / PELAJAR</td>\n",
              "      <td>RP 1.000.001,- S/D RP 1.500.000,-</td>\n",
              "      <td>SLTA/SMU</td>\n",
              "      <td>YES</td>\n",
              "      <td>HONDA</td>\n",
              "      <td>SPORT</td>\n",
              "      <td>BERDAGANG</td>\n",
              "      <td>SAYA SENDIRI</td>\n",
              "      <td>Adventure (Petualangan)</td>\n",
              "      <td>WNI</td>\n",
              "    </tr>\n",
              "    <tr>\n",
              "      <th>3</th>\n",
              "      <td>REVO FIT FI</td>\n",
              "      <td>HITAM</td>\n",
              "      <td>INDIVIDUAL</td>\n",
              "      <td>LAKI-LAKI</td>\n",
              "      <td>Menganti</td>\n",
              "      <td>Kab. Gresik</td>\n",
              "      <td>Jawa Timur</td>\n",
              "      <td>RUMAH SENDIRI</td>\n",
              "      <td>CREDIT</td>\n",
              "      <td>CREDIT</td>\n",
              "      <td>ISLAM</td>\n",
              "      <td>PEGAWAI SWASTA, INDUSTRI</td>\n",
              "      <td>RP 1.000.001,- S/D RP 1.500.000,-</td>\n",
              "      <td>SLTA/SMU</td>\n",
              "      <td>YES</td>\n",
              "      <td>HONDA</td>\n",
              "      <td>AT AUTOMATIC</td>\n",
              "      <td>PEMAKAIAN JARAK DEKAT</td>\n",
              "      <td>SAYA SENDIRI</td>\n",
              "      <td>Makan</td>\n",
              "      <td>WNI</td>\n",
              "    </tr>\n",
              "    <tr>\n",
              "      <th>4</th>\n",
              "      <td>REVO FIT FI</td>\n",
              "      <td>HITAM</td>\n",
              "      <td>INDIVIDUAL</td>\n",
              "      <td>LAKI-LAKI</td>\n",
              "      <td>Panceng</td>\n",
              "      <td>Kab. Gresik</td>\n",
              "      <td>Jawa Timur</td>\n",
              "      <td>RUMAH SENDIRI</td>\n",
              "      <td>CASH</td>\n",
              "      <td>CASH</td>\n",
              "      <td>ISLAM</td>\n",
              "      <td>MAHASISWA / PELAJAR</td>\n",
              "      <td>RP 1.000.001,- S/D RP 1.500.000,-</td>\n",
              "      <td>SLTA/SMU</td>\n",
              "      <td>YES</td>\n",
              "      <td>HONDA</td>\n",
              "      <td>SPORT</td>\n",
              "      <td>BERDAGANG</td>\n",
              "      <td>SAYA SENDIRI</td>\n",
              "      <td>Adventure (Petualangan)</td>\n",
              "      <td>WNI</td>\n",
              "    </tr>\n",
              "  </tbody>\n",
              "</table>\n",
              "</div>"
            ],
            "text/plain": [
              "    TYPE MOTOR  COLOR  ...                     HOBI KEWARGANEGARAAN\n",
              "0  REVO FIT FI  HITAM  ...  Adventure (Petualangan)             WNI\n",
              "1  REVO FIT FI  HITAM  ...  Adventure (Petualangan)             WNI\n",
              "2  REVO FIT FI  HITAM  ...  Adventure (Petualangan)             WNI\n",
              "3  REVO FIT FI  HITAM  ...                    Makan             WNI\n",
              "4  REVO FIT FI  HITAM  ...  Adventure (Petualangan)             WNI\n",
              "\n",
              "[5 rows x 21 columns]"
            ]
          },
          "metadata": {},
          "execution_count": 7
        }
      ]
    },
    {
      "cell_type": "code",
      "metadata": {
        "colab": {
          "base_uri": "https://localhost:8080/"
        },
        "id": "l4WwpuYJgFld",
        "outputId": "b68d24ba-c0c1-4050-d19c-d0f6dd17b17e"
      },
      "source": [
        "# LIST DATA SEBELUM ENCODING\n",
        "\n",
        "list2=['STATUS RUMAH','JENIS KELAMIN','TYPE MOTOR','PEKERJAAN','PENDIDIKAN','SMH DIGUNAKAN UNTUK','YG MENGGUNAKAN SMH','HOBI']\n",
        "for i in list2:\n",
        "  print(df.groupby(i).size())\n",
        "  print(\"\"\"\n",
        "  \n",
        "        \"\"\")"
      ],
      "execution_count": null,
      "outputs": [
        {
          "output_type": "stream",
          "name": "stdout",
          "text": [
            "STATUS RUMAH\n",
            "RUMAH ORANG TUA / KELUARGA     3654\n",
            "RUMAH SENDIRI                 14863\n",
            "RUMAH SEWA                       99\n",
            "dtype: int64\n",
            "\n",
            "  \n",
            "        \n",
            "JENIS KELAMIN\n",
            "LAKI-LAKI    10385\n",
            "PEREMPUAN     8231\n",
            "dtype: int64\n",
            "\n",
            "  \n",
            "        \n",
            "TYPE MOTOR\n",
            "ADV150 ABS                 46\n",
            "ADV150 CBS                150\n",
            "ALL NEW CBR150R             4\n",
            "ALL NEW SCOOPY           5031\n",
            "ALL NEW SONIC 150 R        36\n",
            "BEAT POP CBS ISS            1\n",
            "BEAT SPORTY CBS          1649\n",
            "BEAT SPORTY CBS ISS      1211\n",
            "BEAT SPORTY CW           1069\n",
            "BEAT STREET CBS           476\n",
            "CB150 VERZA CW             26\n",
            "CB150 VERZA SW              7\n",
            "CB150R STREETFIRE SE      149\n",
            "CB150R STREETFIRE STD      46\n",
            "CBR 250RR ABS               6\n",
            "CBR 250RR STD               6\n",
            "CRF150L                    76\n",
            "FORZA                       3\n",
            "GENIO CBS                 390\n",
            "GENIO CBS ISS             317\n",
            "NEW CBR 150R ABS           14\n",
            "NEW CBR 150R STD          134\n",
            "NEW SUPRA X 125 FI CW     143\n",
            "NEW SUPRA X 125 FI SW       6\n",
            "NEW VARIO 125 CBS ISS      26\n",
            "NEW VARIO 150              15\n",
            "PCX 150 ABS               514\n",
            "PCX 150 CBS              1380\n",
            "PCX HYBRID                  3\n",
            "REVO CW FI                 25\n",
            "REVO FIT FI                35\n",
            "SUPER CUB C125              3\n",
            "SUPRA GTR 150              13\n",
            "VARIO 125 CBS            1911\n",
            "VARIO 125 CBS ISS        1528\n",
            "VARIO 150                2167\n",
            "dtype: int64\n",
            "\n",
            "  \n",
            "        \n",
            "PEKERJAAN\n",
            "DOKTER                                                                                  29\n",
            "GURU/ DOSEN                                                                            337\n",
            "IBU RUMAH TANGGA                                                                      2655\n",
            "LAIN-LAIN                                                                               11\n",
            "MAHASISWA / PELAJAR                                                                   3399\n",
            "NELAYAN                                                                                  1\n",
            "OJEK                                                                                    14\n",
            "PEGAWAI NEGERI                                                                         307\n",
            "PEGAWAI SWASTA                                                                           6\n",
            "PEGAWAI SWASTA, INDUSTRI                                                              5819\n",
            "PEGAWAI SWASTA, JASA                                                                  1057\n",
            "PEGAWAI SWASTA, KONSTRUKSI                                                             430\n",
            "PEGAWAI SWASTA, PERDAGANGAN (RETAIL)                                                    68\n",
            "PEGAWAI SWASTA, PERTAMBANGAN                                                           100\n",
            "PEGAWAI SWASTA, PERTANIAN / PERKEBUNAN / KEHUTANAN / PERIKANAN / PETERNAKAN            228\n",
            "PENGACARA                                                                              756\n",
            "PETANI                                                                                 563\n",
            "TNI/POLRI                                                                              149\n",
            "WIRASWASTA / PEDAGANG, INDUSTRI                                                        862\n",
            "WIRASWASTA / PEDAGANG, JASA                                                            246\n",
            "WIRASWASTA / PEDAGANG, KONSTRUKSI                                                       71\n",
            "WIRASWASTA / PEDAGANG, PERDAGANGAN (RETAIL)                                            491\n",
            "WIRASWASTA / PEDAGANG, PERTAMBANGAN                                                     30\n",
            "WIRASWASTA / PEDAGANG, PERTANIAN / PERKEBUNAN / KEHUTANAN / PERIKANAN / PETERNAKAN     987\n",
            "dtype: int64\n",
            "\n",
            "  \n",
            "        \n",
            "PENDIDIKAN\n",
            "AKADEMI/DIPLOMA      970\n",
            "PASCA SARJANA         38\n",
            "SARJANA              697\n",
            "SD                  1173\n",
            "SLTA/SMU           13771\n",
            "SLTP/SMP            1816\n",
            "TIDAK TAMAT SD       151\n",
            "dtype: int64\n",
            "\n",
            "  \n",
            "        \n",
            "SMH DIGUNAKAN UNTUK\n",
            "BEKERJA                   154\n",
            "BERDAGANG                8443\n",
            "KE SEKOLAH/ KE KAMPUS     660\n",
            "KEBUTUHAN KELUARGA       2428\n",
            "LAIN-LAIN                 532\n",
            "PEMAKAIAN JARAK DEKAT    6365\n",
            "REKREASI/ OLAH RAGA        34\n",
            "dtype: int64\n",
            "\n",
            "  \n",
            "        \n",
            "YG MENGGUNAKAN SMH\n",
            "ANAK                           376\n",
            "LAIN-LAIN                      135\n",
            "PASANGAN SUAMI ATAU ISTRI     1088\n",
            "SAYA SENDIRI                 17017\n",
            "dtype: int64\n",
            "\n",
            "  \n",
            "        \n",
            "HOBI\n",
            "Adventure (Petualangan)           4074\n",
            "Aeromodeling                         3\n",
            "Badminton                          113\n",
            "Basket                              29\n",
            "Bercocok Tanam                     180\n",
            "Berkaraoke                          62\n",
            "Bermain Drama                       27\n",
            "Bermain Games                       45\n",
            "Bermain Komputer                    11\n",
            "Bermain Musik                        3\n",
            "Bermain Sulap                        5\n",
            "Bersepeda                          457\n",
            "Bowling                              2\n",
            "Browsing Internet                   27\n",
            "Chatting                           397\n",
            "Fitness                             11\n",
            "Fotografi                           29\n",
            "Golf                                 4\n",
            "Jogging                            404\n",
            "Koleksi Perangko (Fillateli)         3\n",
            "Makan                             2908\n",
            "Massage                            336\n",
            "Melukis                            425\n",
            "Memancing                         2518\n",
            "Memasak                           2887\n",
            "Membaca                           1224\n",
            "Membaca Puisi                      356\n",
            "Memelihara Binatang Peliharaan     259\n",
            "Menanam Bunga                      164\n",
            "Menari                              41\n",
            "Mendengarkan Musik                  42\n",
            "Mendengarkan Radio                  29\n",
            "Mendongeng                          15\n",
            "Mengaji                            129\n",
            "Mengarang Cerita                    17\n",
            "Menggambar                          62\n",
            "Mengoleksi Barang Antik             46\n",
            "Menjahit                            73\n",
            "Menonton Bioskop                     9\n",
            "Menonton Film                        8\n",
            "Menonton TV                         77\n",
            "Menulis Buku                        21\n",
            "Menyanyi                            97\n",
            "Origami                              7\n",
            "Otomotif                           191\n",
            "Pantomim                             2\n",
            "Renang                              29\n",
            "Senam                               50\n",
            "Sepakbola                          486\n",
            "Sepatu Roda                          4\n",
            "Shopping                            90\n",
            "Surat Menyurat                       9\n",
            "Tennis                               2\n",
            "Travelling                          78\n",
            "Volley                              29\n",
            "Yoga                                10\n",
            "dtype: int64\n",
            "\n",
            "  \n",
            "        \n"
          ]
        }
      ]
    },
    {
      "cell_type": "code",
      "metadata": {
        "colab": {
          "base_uri": "https://localhost:8080/"
        },
        "id": "Axioqv2W90Qp",
        "outputId": "8cc76534-4eb2-4d89-9c2c-0ba3bb1660e5"
      },
      "source": [
        "print(df.groupby('PENGELUARAN').size())"
      ],
      "execution_count": null,
      "outputs": [
        {
          "output_type": "stream",
          "name": "stdout",
          "text": [
            "PENGELUARAN\n",
            "<= RP 700.000,-                       593\n",
            "> RP 4.000.000,-                       65\n",
            "RP 1.000.001,- S/D RP 1.500.000,-    5961\n",
            "RP 1.500.001,- S/D RP 2.000.000,-    4703\n",
            "RP 2.000.001,- S/D RP 3.000.000,-    4988\n",
            "RP 3.000.001,- S/D RP 4.000.000,-    1399\n",
            "RP 700.001,- S/D RP 1.000.000,-       907\n",
            "dtype: int64\n"
          ]
        }
      ]
    },
    {
      "cell_type": "markdown",
      "metadata": {
        "id": "mY6hfiYaQeH3"
      },
      "source": [
        "# DATA EXPLORATION"
      ]
    },
    {
      "cell_type": "code",
      "metadata": {
        "colab": {
          "base_uri": "https://localhost:8080/"
        },
        "id": "sdoNjY1Z9zZ7",
        "outputId": "c03c4a06-f9f1-4fef-eca0-86006b822cd8"
      },
      "source": [
        "df.info()"
      ],
      "execution_count": null,
      "outputs": [
        {
          "output_type": "stream",
          "name": "stdout",
          "text": [
            "<class 'pandas.core.frame.DataFrame'>\n",
            "RangeIndex: 18616 entries, 0 to 18615\n",
            "Data columns (total 21 columns):\n",
            " #   Column                  Non-Null Count  Dtype \n",
            "---  ------                  --------------  ----- \n",
            " 0   TYPE MOTOR              18616 non-null  object\n",
            " 1   COLOR                   18616 non-null  object\n",
            " 2   KODE CUSTOMER           18616 non-null  object\n",
            " 3   JENIS KELAMIN           18616 non-null  object\n",
            " 4   KECAMATAN SURAT         18616 non-null  object\n",
            " 5   KOTA SURAT              18616 non-null  object\n",
            " 6   PROPINSI                18616 non-null  object\n",
            " 7   STATUS RUMAH            18616 non-null  object\n",
            " 8   JENIS PENJUALAN STNK    18616 non-null  object\n",
            " 9   JENIS PENJUALAN SSU     18616 non-null  object\n",
            " 10  AGAMA                   18616 non-null  object\n",
            " 11  PEKERJAAN               18616 non-null  object\n",
            " 12  PENGELUARAN             18616 non-null  object\n",
            " 13  PENDIDIKAN              18616 non-null  object\n",
            " 14  KEBERSEDIAAN DIHUBUNGI  18616 non-null  object\n",
            " 15  MERK MOTOR SBLMNYA      18616 non-null  object\n",
            " 16  TYPE MOTOR SBLMNYA      18616 non-null  object\n",
            " 17  SMH DIGUNAKAN UNTUK     18616 non-null  object\n",
            " 18  YG MENGGUNAKAN SMH      18616 non-null  object\n",
            " 19  HOBI                    18616 non-null  object\n",
            " 20  KEWARGANEGARAAN         18610 non-null  object\n",
            "dtypes: object(21)\n",
            "memory usage: 3.0+ MB\n"
          ]
        }
      ]
    },
    {
      "cell_type": "code",
      "metadata": {
        "colab": {
          "base_uri": "https://localhost:8080/",
          "height": 451
        },
        "id": "AjKCY3j5-Sv0",
        "outputId": "b37950d7-4279-485e-a1f3-0249c4e630d6"
      },
      "source": [
        "df.groupby('STATUS RUMAH').size().plot(kind=\"bar\")\n"
      ],
      "execution_count": null,
      "outputs": [
        {
          "output_type": "execute_result",
          "data": {
            "text/plain": [
              "<matplotlib.axes._subplots.AxesSubplot at 0x7f8c0f811a50>"
            ]
          },
          "metadata": {},
          "execution_count": 11
        },
        {
          "output_type": "display_data",
          "data": {
            "image/png": "[encoded data removed]",
            "text/plain": [
              "<Figure size 432x288 with 1 Axes>"
            ]
          },
          "metadata": {
            "needs_background": "light"
          }
        }
      ]
    },
    {
      "cell_type": "code",
      "metadata": {
        "colab": {
          "base_uri": "https://localhost:8080/"
        },
        "id": "gwXHOMPoNakS",
        "outputId": "56dd27c9-83d1-44cf-c307-92aa6b14b356"
      },
      "source": [
        "df['JENIS KELAMIN'].value_counts()"
      ],
      "execution_count": null,
      "outputs": [
        {
          "output_type": "execute_result",
          "data": {
            "text/plain": [
              "LAKI-LAKI    10385\n",
              "PEREMPUAN     8231\n",
              "Name: JENIS KELAMIN, dtype: int64"
            ]
          },
          "metadata": {},
          "execution_count": 12
        }
      ]
    },
    {
      "cell_type": "code",
      "metadata": {
        "colab": {
          "base_uri": "https://localhost:8080/",
          "height": 348
        },
        "id": "oeko8zCl_EVc",
        "outputId": "9a445530-f25b-4b18-a6b3-d280ceaacaaf"
      },
      "source": [
        "df.groupby('JENIS KELAMIN').size().plot(kind=\"bar\")"
      ],
      "execution_count": null,
      "outputs": [
        {
          "output_type": "execute_result",
          "data": {
            "text/plain": [
              "<matplotlib.axes._subplots.AxesSubplot at 0x7f8c084d7990>"
            ]
          },
          "metadata": {},
          "execution_count": 13
        },
        {
          "output_type": "display_data",
          "data": {
            "image/png": "[encoded data removed]",
            "text/plain": [
              "<Figure size 432x288 with 1 Axes>"
            ]
          },
          "metadata": {
            "needs_background": "light"
          }
        }
      ]
    },
    {
      "cell_type": "code",
      "metadata": {
        "colab": {
          "base_uri": "https://localhost:8080/"
        },
        "id": "cJTmW2LjNq4R",
        "outputId": "79c8b999-965d-4291-da0f-46023c9079b7"
      },
      "source": [
        "df.groupby('SMH DIGUNAKAN UNTUK').size() #OUTput"
      ],
      "execution_count": null,
      "outputs": [
        {
          "output_type": "execute_result",
          "data": {
            "text/plain": [
              "SMH DIGUNAKAN UNTUK\n",
              "BEKERJA                   154\n",
              "BERDAGANG                8443\n",
              "KE SEKOLAH/ KE KAMPUS     660\n",
              "KEBUTUHAN KELUARGA       2428\n",
              "LAIN-LAIN                 532\n",
              "PEMAKAIAN JARAK DEKAT    6365\n",
              "REKREASI/ OLAH RAGA        34\n",
              "dtype: int64"
            ]
          },
          "metadata": {},
          "execution_count": 14
        }
      ]
    },
    {
      "cell_type": "code",
      "metadata": {
        "colab": {
          "base_uri": "https://localhost:8080/",
          "height": 414
        },
        "id": "DxIgpeb-_xhz",
        "outputId": "e1f6424e-8ca3-4de0-f08c-b8b1da63d547"
      },
      "source": [
        "df.groupby('SMH DIGUNAKAN UNTUK').size().plot(kind=\"bar\")"
      ],
      "execution_count": null,
      "outputs": [
        {
          "output_type": "execute_result",
          "data": {
            "text/plain": [
              "<matplotlib.axes._subplots.AxesSubplot at 0x7f8c080769d0>"
            ]
          },
          "metadata": {},
          "execution_count": 15
        },
        {
          "output_type": "display_data",
          "data": {
            "image/png": "[encoded data removed]",
            "text/plain": [
              "<Figure size 432x288 with 1 Axes>"
            ]
          },
          "metadata": {
            "needs_background": "light"
          }
        }
      ]
    },
    {
      "cell_type": "markdown",
      "metadata": {
        "id": "MMqygUCVDsqs"
      },
      "source": [
        "**DATA PREPARATION**"
      ]
    },
    {
      "cell_type": "code",
      "metadata": {
        "colab": {
          "base_uri": "https://localhost:8080/"
        },
        "id": "nUHkEX2jFGDn",
        "outputId": "28f9ae45-c16d-4ee7-e28f-ae4ba85f7a5e"
      },
      "source": [
        "df.isna().sum() # Melihat jumlah NaN"
      ],
      "execution_count": null,
      "outputs": [
        {
          "output_type": "execute_result",
          "data": {
            "text/plain": [
              "TYPE MOTOR                0\n",
              "COLOR                     0\n",
              "KODE CUSTOMER             0\n",
              "JENIS KELAMIN             0\n",
              "KECAMATAN SURAT           0\n",
              "KOTA SURAT                0\n",
              "PROPINSI                  0\n",
              "STATUS RUMAH              0\n",
              "JENIS PENJUALAN STNK      0\n",
              "JENIS PENJUALAN SSU       0\n",
              "AGAMA                     0\n",
              "PEKERJAAN                 0\n",
              "PENGELUARAN               0\n",
              "PENDIDIKAN                0\n",
              "KEBERSEDIAAN DIHUBUNGI    0\n",
              "MERK MOTOR SBLMNYA        0\n",
              "TYPE MOTOR SBLMNYA        0\n",
              "SMH DIGUNAKAN UNTUK       0\n",
              "YG MENGGUNAKAN SMH        0\n",
              "HOBI                      0\n",
              "KEWARGANEGARAAN           6\n",
              "dtype: int64"
            ]
          },
          "metadata": {},
          "execution_count": 16
        }
      ]
    },
    {
      "cell_type": "code",
      "metadata": {
        "id": "paACI7pSFVRx"
      },
      "source": [
        "df.dropna(inplace=True) # Menghilangkan NaN"
      ],
      "execution_count": null,
      "outputs": []
    },
    {
      "cell_type": "code",
      "metadata": {
        "colab": {
          "base_uri": "https://localhost:8080/"
        },
        "id": "QsdHVcGOFXlR",
        "outputId": "9f7228b9-0458-4c4f-c7e7-ac9d8763b9da"
      },
      "source": [
        "df.isna().sum()"
      ],
      "execution_count": null,
      "outputs": [
        {
          "output_type": "execute_result",
          "data": {
            "text/plain": [
              "TYPE MOTOR                0\n",
              "COLOR                     0\n",
              "KODE CUSTOMER             0\n",
              "JENIS KELAMIN             0\n",
              "KECAMATAN SURAT           0\n",
              "KOTA SURAT                0\n",
              "PROPINSI                  0\n",
              "STATUS RUMAH              0\n",
              "JENIS PENJUALAN STNK      0\n",
              "JENIS PENJUALAN SSU       0\n",
              "AGAMA                     0\n",
              "PEKERJAAN                 0\n",
              "PENGELUARAN               0\n",
              "PENDIDIKAN                0\n",
              "KEBERSEDIAAN DIHUBUNGI    0\n",
              "MERK MOTOR SBLMNYA        0\n",
              "TYPE MOTOR SBLMNYA        0\n",
              "SMH DIGUNAKAN UNTUK       0\n",
              "YG MENGGUNAKAN SMH        0\n",
              "HOBI                      0\n",
              "KEWARGANEGARAAN           0\n",
              "dtype: int64"
            ]
          },
          "metadata": {},
          "execution_count": 18
        }
      ]
    },
    {
      "cell_type": "code",
      "metadata": {
        "colab": {
          "base_uri": "https://localhost:8080/"
        },
        "id": "4dhrjus1F02v",
        "outputId": "141a62bc-eb32-48a1-fddc-cfed8112986e"
      },
      "source": [
        "#Mengencode Data Kategorikal (Data Acquisition)\n",
        "\n",
        "list_1=list(df.columns)\n",
        "list_1"
      ],
      "execution_count": null,
      "outputs": [
        {
          "output_type": "execute_result",
          "data": {
            "text/plain": [
              "['TYPE MOTOR',\n",
              " 'COLOR',\n",
              " 'KODE CUSTOMER',\n",
              " 'JENIS KELAMIN',\n",
              " 'KECAMATAN SURAT',\n",
              " 'KOTA SURAT',\n",
              " 'PROPINSI',\n",
              " 'STATUS RUMAH',\n",
              " 'JENIS PENJUALAN STNK',\n",
              " 'JENIS PENJUALAN SSU',\n",
              " 'AGAMA',\n",
              " 'PEKERJAAN',\n",
              " 'PENGELUARAN',\n",
              " 'PENDIDIKAN',\n",
              " 'KEBERSEDIAAN DIHUBUNGI',\n",
              " 'MERK MOTOR SBLMNYA',\n",
              " 'TYPE MOTOR SBLMNYA',\n",
              " 'SMH DIGUNAKAN UNTUK',\n",
              " 'YG MENGGUNAKAN SMH',\n",
              " 'HOBI',\n",
              " 'KEWARGANEGARAAN']"
            ]
          },
          "metadata": {},
          "execution_count": 19
        }
      ]
    },
    {
      "cell_type": "code",
      "metadata": {
        "colab": {
          "base_uri": "https://localhost:8080/"
        },
        "id": "vtxGH8ZgF47v",
        "outputId": "6ba2087f-bb1a-44ec-fb86-b6b528f58726"
      },
      "source": [
        "list_cate=[]\n",
        "for i in list_1:\n",
        "    if df[i].dtype=='object':\n",
        "        list_cate.append(i)\n",
        "list_cate"
      ],
      "execution_count": null,
      "outputs": [
        {
          "output_type": "execute_result",
          "data": {
            "text/plain": [
              "['TYPE MOTOR',\n",
              " 'COLOR',\n",
              " 'KODE CUSTOMER',\n",
              " 'JENIS KELAMIN',\n",
              " 'KECAMATAN SURAT',\n",
              " 'KOTA SURAT',\n",
              " 'PROPINSI',\n",
              " 'STATUS RUMAH',\n",
              " 'JENIS PENJUALAN STNK',\n",
              " 'JENIS PENJUALAN SSU',\n",
              " 'AGAMA',\n",
              " 'PEKERJAAN',\n",
              " 'PENGELUARAN',\n",
              " 'PENDIDIKAN',\n",
              " 'KEBERSEDIAAN DIHUBUNGI',\n",
              " 'MERK MOTOR SBLMNYA',\n",
              " 'TYPE MOTOR SBLMNYA',\n",
              " 'SMH DIGUNAKAN UNTUK',\n",
              " 'YG MENGGUNAKAN SMH',\n",
              " 'HOBI',\n",
              " 'KEWARGANEGARAAN']"
            ]
          },
          "metadata": {},
          "execution_count": 20
        }
      ]
    },
    {
      "cell_type": "code",
      "metadata": {
        "id": "I97N7DskF8vW"
      },
      "source": [
        "from sklearn.preprocessing import LabelEncoder # Import library Encoder \n",
        "le=LabelEncoder() "
      ],
      "execution_count": null,
      "outputs": []
    },
    {
      "cell_type": "code",
      "metadata": {
        "id": "jXW3u4_0GArt"
      },
      "source": [
        "for i in list_cate:\n",
        "    df[i]=le.fit_transform(df[i]) #Proses Encoding"
      ],
      "execution_count": null,
      "outputs": []
    },
    {
      "cell_type": "code",
      "metadata": {
        "colab": {
          "base_uri": "https://localhost:8080/"
        },
        "id": "OIZdINA3aEOu",
        "outputId": "832c7f5b-eb0b-49a2-f526-c0b85b45b176"
      },
      "source": [
        "df.info()"
      ],
      "execution_count": null,
      "outputs": [
        {
          "output_type": "stream",
          "name": "stdout",
          "text": [
            "<class 'pandas.core.frame.DataFrame'>\n",
            "Int64Index: 18610 entries, 0 to 18615\n",
            "Data columns (total 21 columns):\n",
            " #   Column                  Non-Null Count  Dtype\n",
            "---  ------                  --------------  -----\n",
            " 0   TYPE MOTOR              18610 non-null  int64\n",
            " 1   COLOR                   18610 non-null  int64\n",
            " 2   KODE CUSTOMER           18610 non-null  int64\n",
            " 3   JENIS KELAMIN           18610 non-null  int64\n",
            " 4   KECAMATAN SURAT         18610 non-null  int64\n",
            " 5   KOTA SURAT              18610 non-null  int64\n",
            " 6   PROPINSI                18610 non-null  int64\n",
            " 7   STATUS RUMAH            18610 non-null  int64\n",
            " 8   JENIS PENJUALAN STNK    18610 non-null  int64\n",
            " 9   JENIS PENJUALAN SSU     18610 non-null  int64\n",
            " 10  AGAMA                   18610 non-null  int64\n",
            " 11  PEKERJAAN               18610 non-null  int64\n",
            " 12  PENGELUARAN             18610 non-null  int64\n",
            " 13  PENDIDIKAN              18610 non-null  int64\n",
            " 14  KEBERSEDIAAN DIHUBUNGI  18610 non-null  int64\n",
            " 15  MERK MOTOR SBLMNYA      18610 non-null  int64\n",
            " 16  TYPE MOTOR SBLMNYA      18610 non-null  int64\n",
            " 17  SMH DIGUNAKAN UNTUK     18610 non-null  int64\n",
            " 18  YG MENGGUNAKAN SMH      18610 non-null  int64\n",
            " 19  HOBI                    18610 non-null  int64\n",
            " 20  KEWARGANEGARAAN         18610 non-null  int64\n",
            "dtypes: int64(21)\n",
            "memory usage: 3.1 MB\n"
          ]
        }
      ]
    },
    {
      "cell_type": "code",
      "metadata": {
        "id": "FGbQmQI2aIBH",
        "colab": {
          "base_uri": "https://localhost:8080/"
        },
        "outputId": "9e56535f-9b10-4dc7-b80e-09ae99353642"
      },
      "source": [
        "for i in list2:\n",
        "  print(df.groupby(i).size())\n",
        "  print(\"\"\"\n",
        "  \n",
        "        \"\"\")"
      ],
      "execution_count": null,
      "outputs": [
        {
          "output_type": "stream",
          "name": "stdout",
          "text": [
            "STATUS RUMAH\n",
            "0     3654\n",
            "1    14857\n",
            "2       99\n",
            "dtype: int64\n",
            "\n",
            "  \n",
            "        \n",
            "JENIS KELAMIN\n",
            "0    10382\n",
            "1     8228\n",
            "dtype: int64\n",
            "\n",
            "  \n",
            "        \n",
            "TYPE MOTOR\n",
            "0       46\n",
            "1      150\n",
            "2        4\n",
            "3     5028\n",
            "4       36\n",
            "5        1\n",
            "6     1649\n",
            "7     1211\n",
            "8     1069\n",
            "9      476\n",
            "10      26\n",
            "11       7\n",
            "12     149\n",
            "13      46\n",
            "14       6\n",
            "15       6\n",
            "16      76\n",
            "17       3\n",
            "18     390\n",
            "19     317\n",
            "20      14\n",
            "21     134\n",
            "22     143\n",
            "23       6\n",
            "24      23\n",
            "25      15\n",
            "26     514\n",
            "27    1380\n",
            "28       3\n",
            "29      25\n",
            "30      35\n",
            "31       3\n",
            "32      13\n",
            "33    1911\n",
            "34    1528\n",
            "35    2167\n",
            "dtype: int64\n",
            "\n",
            "  \n",
            "        \n",
            "PEKERJAAN\n",
            "0       29\n",
            "1      337\n",
            "2     2655\n",
            "3       11\n",
            "4     3399\n",
            "5        1\n",
            "6       14\n",
            "7      307\n",
            "8     5819\n",
            "9     1057\n",
            "10     430\n",
            "11      68\n",
            "12     100\n",
            "13     228\n",
            "14     756\n",
            "15     563\n",
            "16     149\n",
            "17     862\n",
            "18     246\n",
            "19      71\n",
            "20     491\n",
            "21      30\n",
            "22     987\n",
            "dtype: int64\n",
            "\n",
            "  \n",
            "        \n",
            "PENDIDIKAN\n",
            "0      970\n",
            "1       38\n",
            "2      697\n",
            "3     1173\n",
            "4    13765\n",
            "5     1816\n",
            "6      151\n",
            "dtype: int64\n",
            "\n",
            "  \n",
            "        \n",
            "SMH DIGUNAKAN UNTUK\n",
            "0     154\n",
            "1    8443\n",
            "2     660\n",
            "3    2422\n",
            "4     532\n",
            "5    6365\n",
            "6      34\n",
            "dtype: int64\n",
            "\n",
            "  \n",
            "        \n",
            "YG MENGGUNAKAN SMH\n",
            "0      376\n",
            "1      135\n",
            "2     1088\n",
            "3    17011\n",
            "dtype: int64\n",
            "\n",
            "  \n",
            "        \n",
            "HOBI\n",
            "0     4068\n",
            "1        3\n",
            "2      113\n",
            "3       29\n",
            "4      180\n",
            "5       62\n",
            "6       27\n",
            "7       45\n",
            "8       11\n",
            "9        3\n",
            "10       5\n",
            "11     457\n",
            "12       2\n",
            "13      27\n",
            "14     397\n",
            "15      11\n",
            "16      29\n",
            "17       4\n",
            "18     404\n",
            "19       3\n",
            "20    2908\n",
            "21     336\n",
            "22     425\n",
            "23    2518\n",
            "24    2887\n",
            "25    1224\n",
            "26     356\n",
            "27     259\n",
            "28     164\n",
            "29      41\n",
            "30      42\n",
            "31      29\n",
            "32      15\n",
            "33     129\n",
            "34      17\n",
            "35      62\n",
            "36      46\n",
            "37      73\n",
            "38       9\n",
            "39       8\n",
            "40      77\n",
            "41      21\n",
            "42      97\n",
            "43       7\n",
            "44     191\n",
            "45       2\n",
            "46      29\n",
            "47      50\n",
            "48     486\n",
            "49       4\n",
            "50      90\n",
            "51       9\n",
            "52       2\n",
            "53      78\n",
            "54      29\n",
            "55      10\n",
            "dtype: int64\n",
            "\n",
            "  \n",
            "        \n"
          ]
        }
      ]
    },
    {
      "cell_type": "code",
      "metadata": {
        "colab": {
          "base_uri": "https://localhost:8080/"
        },
        "id": "WS7QFerX-JVH",
        "outputId": "f52caf0d-8e1c-4143-cf9d-3844cee68df0"
      },
      "source": [
        "print(df.groupby(\"PENGELUARAN\").size())"
      ],
      "execution_count": null,
      "outputs": [
        {
          "output_type": "stream",
          "name": "stdout",
          "text": [
            "PENGELUARAN\n",
            "0     593\n",
            "1      65\n",
            "2    5961\n",
            "3    4703\n",
            "4    4982\n",
            "5    1399\n",
            "6     907\n",
            "dtype: int64\n"
          ]
        }
      ]
    },
    {
      "cell_type": "markdown",
      "metadata": {
        "id": "we4lKa5eK5TK"
      },
      "source": [
        "# MODELING\n",
        "**SPLITTING DATA**"
      ]
    },
    {
      "cell_type": "code",
      "metadata": {
        "id": "IN8er2-JKyyE"
      },
      "source": [
        "y = df[['PENGELUARAN']] # Variabel Terikat\n",
        "X = df[['STATUS RUMAH','JENIS KELAMIN','TYPE MOTOR','PEKERJAAN','PENDIDIKAN','SMH DIGUNAKAN UNTUK','YG MENGGUNAKAN SMH','HOBI']] # Variabel Bebas "
      ],
      "execution_count": null,
      "outputs": []
    },
    {
      "cell_type": "code",
      "metadata": {
        "colab": {
          "base_uri": "https://localhost:8080/"
        },
        "id": "z0ImV4BRBxew",
        "outputId": "e55f8df0-6556-4579-fbba-5f478ddf55dd"
      },
      "source": [
        "y.info()\n",
        "X.info()"
      ],
      "execution_count": null,
      "outputs": [
        {
          "output_type": "stream",
          "name": "stdout",
          "text": [
            "<class 'pandas.core.frame.DataFrame'>\n",
            "Int64Index: 18610 entries, 0 to 18615\n",
            "Data columns (total 1 columns):\n",
            " #   Column       Non-Null Count  Dtype\n",
            "---  ------       --------------  -----\n",
            " 0   PENGELUARAN  18610 non-null  int64\n",
            "dtypes: int64(1)\n",
            "memory usage: 290.8 KB\n",
            "<class 'pandas.core.frame.DataFrame'>\n",
            "Int64Index: 18610 entries, 0 to 18615\n",
            "Data columns (total 8 columns):\n",
            " #   Column               Non-Null Count  Dtype\n",
            "---  ------               --------------  -----\n",
            " 0   STATUS RUMAH         18610 non-null  int64\n",
            " 1   JENIS KELAMIN        18610 non-null  int64\n",
            " 2   TYPE MOTOR           18610 non-null  int64\n",
            " 3   PEKERJAAN            18610 non-null  int64\n",
            " 4   PENDIDIKAN           18610 non-null  int64\n",
            " 5   SMH DIGUNAKAN UNTUK  18610 non-null  int64\n",
            " 6   YG MENGGUNAKAN SMH   18610 non-null  int64\n",
            " 7   HOBI                 18610 non-null  int64\n",
            "dtypes: int64(8)\n",
            "memory usage: 1.3 MB\n"
          ]
        }
      ]
    },
    {
      "cell_type": "markdown",
      "metadata": {
        "id": "TLtMJ-0PDnj8"
      },
      "source": [
        "# Import Algoritma Random Forest Classifier"
      ]
    },
    {
      "cell_type": "code",
      "metadata": {
        "id": "ADl1LNyYLrA2",
        "colab": {
          "base_uri": "https://localhost:8080/"
        },
        "outputId": "62704f97-fd40-47da-d4fd-6642feca7125"
      },
      "source": [
        "\n",
        "from sklearn.ensemble import RandomForestClassifier  # Algoritma yang dipakai\n",
        "from sklearn.model_selection import  train_test_split # Pembagian Data\n",
        "\n",
        "X_train, X_test, y_train, y_test = train_test_split(X, y,test_size=0.10, random_state = 0)\n",
        "\n",
        "clf = RandomForestClassifier(random_state = 0).fit(X_train, y_train) \n",
        "\n",
        "y_pred = clf.predict(X_test)"
      ],
      "execution_count": null,
      "outputs": [
        {
          "output_type": "stream",
          "name": "stderr",
          "text": [
            "/usr/local/lib/python3.7/dist-packages/ipykernel_launcher.py:7: DataConversionWarning: A column-vector y was passed when a 1d array was expected. Please change the shape of y to (n_samples,), for example using ravel().\n",
            "  import sys\n"
          ]
        }
      ]
    },
    {
      "cell_type": "code",
      "metadata": {
        "colab": {
          "base_uri": "https://localhost:8080/"
        },
        "id": "AGgj0dugEKS0",
        "outputId": "8c562733-80e3-4a28-ddf9-427652d6e0e3"
      },
      "source": [
        "from sklearn.metrics import accuracy_score\n",
        "print(f\"Akurasi Random Forest : {accuracy_score(y_test,y_pred)}\")"
      ],
      "execution_count": null,
      "outputs": [
        {
          "output_type": "stream",
          "name": "stdout",
          "text": [
            "Akurasi Random Forest : 0.7576571735626008\n"
          ]
        }
      ]
    },
    {
      "cell_type": "code",
      "metadata": {
        "colab": {
          "base_uri": "https://localhost:8080/"
        },
        "id": "5Tc1vU6lnAvF",
        "outputId": "bf199f95-6917-4fb1-90e3-cdfd7c866b17"
      },
      "source": [
        "print(\"Silahkan Masukkan Data Anda !\") \n",
        "\n",
        "STATUS_RUMAH =float(input(\"STATUS RUMAHMU APA : \"))   \n",
        "JENIS_KELAMIN=float(input(\"JENIS KELAMIN : \"))\n",
        "TYPE_MOTOR = float(input(\"TIPE MOTOR : \"))\n",
        "PEKERJAAN = float(input(\"PEKERJAAN : \"))\n",
        "PENDIDIKAN = float(input(\"PENDIDIKAN : \"))\n",
        "SMH_DIGUNAKAN_UNTUK = float(input(\"SMH DIGUNAKAN UNTUK : \"))\n",
        "YG_MENGGUNAKAN_SMH =float(input(\"YG_MENGGUNAKAN_SMH : \"))\n",
        "HOBI = float(input(\"HOBI : \"))\n",
        "\n",
        "output = clf.predict([[STATUS_RUMAH,JENIS_KELAMIN,TYPE_MOTOR,PEKERJAAN,PENDIDIKAN,SMH_DIGUNAKAN_UNTUK,YG_MENGGUNAKAN_SMH,HOBI]])\n",
        "\n",
        "print(f'\\n Prediksi Pengeluaranmu adalah {output}')"
      ],
      "execution_count": null,
      "outputs": [
        {
          "output_type": "stream",
          "name": "stdout",
          "text": [
            "Silahkan Masukkan Data Anda !\n",
            "STATUS RUMAHMU APA : 1\n",
            "JENIS KELAMIN : 1\n",
            "TIPE MOTOR : 14\n",
            "PEKERJAAN : 4\n",
            "PENDIDIKAN : 0\n",
            "SMH DIGUNAKAN UNTUK : 3\n",
            "YG_MENGGUNAKAN_SMH : 3\n",
            "HOBI : 7\n",
            "\n",
            " Prediksi Pengelu7aranmu adalah [0]\n"
          ]
        }
      ]
    },
    {
      "cell_type": "markdown",
      "metadata": {
        "id": "M4AVOC_aS1yX"
      },
      "source": [
        "# Evaluasi"
      ]
    },
    {
      "cell_type": "markdown",
      "metadata": {
        "id": "EpG074n6VdGe"
      },
      "source": [
        "REFERENSI"
      ]
    },
    {
      "cell_type": "code",
      "metadata": {
        "id": "TkIPV96eVO6o"
      },
      "source": [
        "10240337"
      ],
      "execution_count": null,
      "outputs": []
    }
  ]
}