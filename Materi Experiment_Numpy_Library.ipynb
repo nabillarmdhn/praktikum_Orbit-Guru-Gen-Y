{
  "nbformat": 4,
  "nbformat_minor": 0,
  "metadata": {
    "colab": {
      "name": "Experimen_Numpy_Library.ipynb",
      "provenance": [],
      "include_colab_link": true
    },
    "kernelspec": {
      "name": "python3",
      "display_name": "Python 3"
    },
    "language_info": {
      "name": "python"
    }
  },
  "cells": [
    {
      "cell_type": "markdown",
      "metadata": {
        "id": "view-in-github",
        "colab_type": "text"
      },
      "source": [
        "<a href=\"https://colab.research.google.com/github/nabillarmdhn/praktikum_Orbit-Guru-Gen-Y/blob/main/Materi%20Experiment_Numpy_Library.ipynb\" target=\"_parent\"><img src=\"https://colab.research.google.com/assets/colab-badge.svg\" alt=\"Open In Colab\"/></a>"
      ]
    },
    {
      "cell_type": "markdown",
      "metadata": {
        "id": "OIP9VSXcRlun"
      },
      "source": [
        "#Numpy Library in Python"
      ]
    },
    {
      "cell_type": "markdown",
      "metadata": {
        "id": "A_EwM3xBR_qW"
      },
      "source": [
        "A. Cara memanggil numpy untuk pertama kali adalah seperti yang ada di bawah ini"
      ]
    },
    {
      "cell_type": "code",
      "metadata": {
        "id": "PWrCV4owQ-Ri"
      },
      "source": [
        "import numpy as np # Ini adalah cara untuk mengawali ketika memanggil numpy\n",
        "\n",
        "# Contoh Membuat Array\n",
        "a = np.array([1,2,3])\n",
        "b = np.array([(1.5,2,3), (4,5,6)], dtype = float) # \"float\" adalah sebua perintah untuk menetapkan angka tetap sama(agar bilangan desimal didak dibulatkan)\n",
        "c = np.array([[(1.5,2,3), (4,5,6)], [(3,2,1), (4,5,6)]], dtype = float)\n",
        "# Misalnya \"b = np.array([(1.5,2,3), (4,5,6)], dtype = int\" Maka nilai \"1.5\" akan menjadi 1"
      ],
      "execution_count": null,
      "outputs": []
    },
    {
      "cell_type": "code",
      "metadata": {
        "colab": {
          "base_uri": "https://localhost:8080/"
        },
        "id": "yrWBP2nOTUpp",
        "outputId": "736521db-3014-44a0-c67e-f04db0081986"
      },
      "source": [
        "# Menampilkan Array a\n",
        "a"
      ],
      "execution_count": null,
      "outputs": [
        {
          "output_type": "execute_result",
          "data": {
            "text/plain": [
              "array([1, 2, 3])"
            ]
          },
          "metadata": {},
          "execution_count": 4
        }
      ]
    },
    {
      "cell_type": "code",
      "metadata": {
        "colab": {
          "base_uri": "https://localhost:8080/"
        },
        "id": "kwAxOaVyTvfW",
        "outputId": "18296f14-d5d1-43c5-fdc6-ed1e92dfbb93"
      },
      "source": [
        "# Menampilkan Array b\n",
        "b"
      ],
      "execution_count": null,
      "outputs": [
        {
          "output_type": "execute_result",
          "data": {
            "text/plain": [
              "array([[1.5, 2. , 3. ],\n",
              "       [4. , 5. , 6. ]])"
            ]
          },
          "metadata": {},
          "execution_count": 5
        }
      ]
    },
    {
      "cell_type": "code",
      "metadata": {
        "colab": {
          "base_uri": "https://localhost:8080/"
        },
        "id": "mNgACEkaT1uI",
        "outputId": "592b10fd-4c7b-4e33-d00d-3961b3d6b25f"
      },
      "source": [
        "# Menampilkan Array c\n",
        "c"
      ],
      "execution_count": null,
      "outputs": [
        {
          "output_type": "execute_result",
          "data": {
            "text/plain": [
              "array([[[1.5, 2. , 3. ],\n",
              "        [4. , 5. , 6. ]],\n",
              "\n",
              "       [[3. , 2. , 1. ],\n",
              "        [4. , 5. , 6. ]]])"
            ]
          },
          "metadata": {},
          "execution_count": 6
        }
      ]
    },
    {
      "cell_type": "markdown",
      "metadata": {
        "id": "hdh2KXmOUGPu"
      },
      "source": [
        "### Initial Placeholders"
      ]
    },
    {
      "cell_type": "code",
      "metadata": {
        "colab": {
          "base_uri": "https://localhost:8080/"
        },
        "id": "0-qA_vxhUHrz",
        "outputId": "0bdd0db8-d5d7-41a4-8494-5d364faa1794"
      },
      "source": [
        "# Create an array of zeros\n",
        "# Nilai identitas matrix adalah (0 dan 1) zeros berguna untuk mencontohkan cara membuat matrix\n",
        "# Misal (3,6,4) menunjukan bahwa\n",
        "# (3) menunjukan bahwa ada 3 matrix yang akan di bentuk\n",
        "# (6) menunjukan bahwa jumlah baris matrix nya ada 6\n",
        "# (4) menunjukan bahwa  jumlah kolom dalam matrix ada 4\n",
        "np.zeros((3,6,4,))"
      ],
      "execution_count": null,
      "outputs": [
        {
          "output_type": "execute_result",
          "data": {
            "text/plain": [
              "array([[[0., 0., 0., 0.],\n",
              "        [0., 0., 0., 0.],\n",
              "        [0., 0., 0., 0.],\n",
              "        [0., 0., 0., 0.],\n",
              "        [0., 0., 0., 0.],\n",
              "        [0., 0., 0., 0.]],\n",
              "\n",
              "       [[0., 0., 0., 0.],\n",
              "        [0., 0., 0., 0.],\n",
              "        [0., 0., 0., 0.],\n",
              "        [0., 0., 0., 0.],\n",
              "        [0., 0., 0., 0.],\n",
              "        [0., 0., 0., 0.]],\n",
              "\n",
              "       [[0., 0., 0., 0.],\n",
              "        [0., 0., 0., 0.],\n",
              "        [0., 0., 0., 0.],\n",
              "        [0., 0., 0., 0.],\n",
              "        [0., 0., 0., 0.],\n",
              "        [0., 0., 0., 0.]]])"
            ]
          },
          "metadata": {},
          "execution_count": 8
        }
      ]
    },
    {
      "cell_type": "code",
      "metadata": {
        "colab": {
          "base_uri": "https://localhost:8080/"
        },
        "id": "jVlmCh4HVKKx",
        "outputId": "fe28e19f-03be-4893-9063-9cca5c18bfa3"
      },
      "source": [
        "# Create an array of ones\n",
        "# Adalah contoh matrix identitas 1\n",
        "np.ones((2,3,4),dtype=np.int16)"
      ],
      "execution_count": null,
      "outputs": [
        {
          "output_type": "execute_result",
          "data": {
            "text/plain": [
              "array([[[1, 1, 1, 1],\n",
              "        [1, 1, 1, 1],\n",
              "        [1, 1, 1, 1]],\n",
              "\n",
              "       [[1, 1, 1, 1],\n",
              "        [1, 1, 1, 1],\n",
              "        [1, 1, 1, 1]]], dtype=int16)"
            ]
          },
          "metadata": {},
          "execution_count": 9
        }
      ]
    },
    {
      "cell_type": "code",
      "metadata": {
        "colab": {
          "base_uri": "https://localhost:8080/"
        },
        "id": "RFFucRQeVkd9",
        "outputId": "b5908630-2b5a-4d1c-b838-d6a7d7679be9"
      },
      "source": [
        "# Create an array of evenly spaced values (step value)\n",
        "# Numpy arange\n",
        "# (5) menunjukan bahwa sebuah urutan bilangan yang di awali dengan angka 5\n",
        "# (25) dan di akhiri dengan angka\n",
        "# (4) mrnunjukan bahwa lompatan nya sebanyak 4 angka\n",
        "d = np.arange(5,25,4)\n",
        "d"
      ],
      "execution_count": null,
      "outputs": [
        {
          "output_type": "execute_result",
          "data": {
            "text/plain": [
              "array([ 5,  9, 13, 17, 21])"
            ]
          },
          "metadata": {},
          "execution_count": 11
        }
      ]
    },
    {
      "cell_type": "code",
      "metadata": {
        "colab": {
          "base_uri": "https://localhost:8080/"
        },
        "id": "SFgIBZa0WSoX",
        "outputId": "70d8a349-e253-4ae7-fc59-c9ef19e2b4ff"
      },
      "source": [
        "# Create an array of evenly spaced values (number of samples)\n",
        "# Menunjukan macam bilangan apa saja dar1 0-2 dengan jumlah bilangannya 9 angka\n",
        "np.linspace(0,2,9)"
      ],
      "execution_count": null,
      "outputs": [
        {
          "output_type": "execute_result",
          "data": {
            "text/plain": [
              "array([0.  , 0.25, 0.5 , 0.75, 1.  , 1.25, 1.5 , 1.75, 2.  ])"
            ]
          },
          "metadata": {},
          "execution_count": 12
        }
      ]
    },
    {
      "cell_type": "code",
      "metadata": {
        "colab": {
          "base_uri": "https://localhost:8080/"
        },
        "id": "b9b_JKAsWvKB",
        "outputId": "849779ba-fffc-413d-a9c8-6c24cc66ff24"
      },
      "source": [
        "# Create a constant array\n",
        "# Perintah untuk membuatkan matrix dengan ordo 2x2(2 baris dan 2 kolom) dengan angka di dalmnya adalah 7\n",
        "e = np.full((2,2),7)\n",
        "e"
      ],
      "execution_count": null,
      "outputs": [
        {
          "output_type": "execute_result",
          "data": {
            "text/plain": [
              "array([[7, 7],\n",
              "       [7, 7]])"
            ]
          },
          "metadata": {},
          "execution_count": 13
        }
      ]
    },
    {
      "cell_type": "code",
      "metadata": {
        "colab": {
          "base_uri": "https://localhost:8080/"
        },
        "id": "7X0peI1FXH1l",
        "outputId": "c5eede94-d22a-487e-d022-5704b1096470"
      },
      "source": [
        "# Create a 2X2 identity matrix (membuat matrix dengan identitas matrix 1 dan 0)\n",
        "f = np.eye(2)\n",
        "f"
      ],
      "execution_count": null,
      "outputs": [
        {
          "output_type": "execute_result",
          "data": {
            "text/plain": [
              "array([[1., 0.],\n",
              "       [0., 1.]])"
            ]
          },
          "metadata": {},
          "execution_count": 15
        }
      ]
    },
    {
      "cell_type": "code",
      "metadata": {
        "colab": {
          "base_uri": "https://localhost:8080/"
        },
        "id": "zFjpANAJXkXZ",
        "outputId": "7989c5b0-bf39-4679-c2ce-b5bf1eea2d6d"
      },
      "source": [
        "# Create an array with random values\n",
        "np.random.random((2,2))"
      ],
      "execution_count": null,
      "outputs": [
        {
          "output_type": "execute_result",
          "data": {
            "text/plain": [
              "array([[0.75180718, 0.67209764],\n",
              "       [0.18030929, 0.37617252]])"
            ]
          },
          "metadata": {},
          "execution_count": 16
        }
      ]
    },
    {
      "cell_type": "code",
      "metadata": {
        "colab": {
          "base_uri": "https://localhost:8080/"
        },
        "id": "Bvfr12rrX-82",
        "outputId": "603b10c6-dc6e-47ed-b79b-2274e708c8af"
      },
      "source": [
        "# Create an empty array\n",
        "# Membuat matrix 3 baris dan 2 kolom namun mengubah nilainya menjadi 0\n",
        "np.empty((3,2))"
      ],
      "execution_count": null,
      "outputs": [
        {
          "output_type": "execute_result",
          "data": {
            "text/plain": [
              "array([[1.5, 2. ],\n",
              "       [3. , 4. ],\n",
              "       [5. , 6. ]])"
            ]
          },
          "metadata": {},
          "execution_count": 17
        }
      ]
    },
    {
      "cell_type": "markdown",
      "metadata": {
        "id": "_ac79OpkYaJm"
      },
      "source": [
        "# Contoh Input Output"
      ]
    },
    {
      "cell_type": "code",
      "metadata": {
        "id": "aDEZVa4AYXgb"
      },
      "source": [
        "# np.save('my_array', a)\n",
        "# np.savez('array.npz', a, b)\n",
        "# np.load('my_array.npy')"
      ],
      "execution_count": null,
      "outputs": []
    },
    {
      "cell_type": "code",
      "metadata": {
        "id": "Qhw43_gcYqyk"
      },
      "source": [
        "# np.loadtxt(\"myfile.txt\")\n",
        "# np.genfromtxt(\"my_file.csv\", delimiter=',')\n",
        "# np.savetxt(\"myarray.txt\", a, delimiter=\" \")"
      ],
      "execution_count": null,
      "outputs": []
    },
    {
      "cell_type": "markdown",
      "metadata": {
        "id": "ZZCXIjn8YvV7"
      },
      "source": [
        "# Data Types"
      ]
    },
    {
      "cell_type": "code",
      "metadata": {
        "id": "zr7x8jz-Y2xx"
      },
      "source": [
        "# Signed 64-bit integer types\n",
        "np.int64"
      ],
      "execution_count": null,
      "outputs": []
    },
    {
      "cell_type": "code",
      "metadata": {
        "colab": {
          "base_uri": "https://localhost:8080/"
        },
        "id": "MrIS3iBBY_lM",
        "outputId": "50ba074b-fa37-4958-b4c4-73074eb27ec3"
      },
      "source": [
        "# Standard double-precision floating point\n",
        "np.float32"
      ],
      "execution_count": null,
      "outputs": [
        {
          "output_type": "execute_result",
          "data": {
            "text/plain": [
              "numpy.float32"
            ]
          },
          "metadata": {},
          "execution_count": 24
        }
      ]
    },
    {
      "cell_type": "code",
      "metadata": {
        "colab": {
          "base_uri": "https://localhost:8080/"
        },
        "id": "TUYGwG9GZDSh",
        "outputId": "d3c95903-67a9-432a-a0c1-4e34bbe62e4a"
      },
      "source": [
        "# Complex numbers represented by 128 floats\n",
        "np.complex"
      ],
      "execution_count": null,
      "outputs": [
        {
          "output_type": "execute_result",
          "data": {
            "text/plain": [
              "complex"
            ]
          },
          "metadata": {},
          "execution_count": 22
        }
      ]
    },
    {
      "cell_type": "code",
      "metadata": {
        "id": "Yicl9fHTZ4Q3"
      },
      "source": [
        "# Boolean type storing TRUE and FALSE values\n",
        "np.bool"
      ],
      "execution_count": null,
      "outputs": []
    },
    {
      "cell_type": "code",
      "metadata": {
        "id": "fL2wqLBnZ_GL"
      },
      "source": [
        "# Python object type\n",
        "np.object"
      ],
      "execution_count": null,
      "outputs": []
    },
    {
      "cell_type": "code",
      "metadata": {
        "id": "m71n3qADaB1U"
      },
      "source": [
        "# Fixed-length string type\n",
        "np.string_"
      ],
      "execution_count": null,
      "outputs": []
    },
    {
      "cell_type": "code",
      "metadata": {
        "id": "N1TAhrryaE7K"
      },
      "source": [
        "# Fixed-length unicode type\n",
        "np.unicode_"
      ],
      "execution_count": null,
      "outputs": []
    },
    {
      "cell_type": "markdown",
      "metadata": {
        "id": "hniYctHPaQ5R"
      },
      "source": [
        "# Inspecting Your Array "
      ]
    },
    {
      "cell_type": "code",
      "metadata": {
        "id": "K6phRO-saJwP"
      },
      "source": [
        "# Array dimensions\n",
        "a.shape"
      ],
      "execution_count": null,
      "outputs": []
    },
    {
      "cell_type": "code",
      "metadata": {
        "id": "uQBl_AX6aOkm"
      },
      "source": [
        "# Length of array\n",
        "len(a)"
      ],
      "execution_count": null,
      "outputs": []
    },
    {
      "cell_type": "code",
      "metadata": {
        "id": "xVbZELcXalm2"
      },
      "source": [
        "# Number of array dimensions\n",
        "b.ndim"
      ],
      "execution_count": null,
      "outputs": []
    },
    {
      "cell_type": "code",
      "metadata": {
        "id": "9ANB9lV2aou2"
      },
      "source": [
        "# Number of array elements\n",
        "e.size"
      ],
      "execution_count": null,
      "outputs": []
    },
    {
      "cell_type": "code",
      "metadata": {
        "id": "J2MkktZEathy"
      },
      "source": [
        "# Data type of array elements\n",
        "b.dtype"
      ],
      "execution_count": null,
      "outputs": []
    },
    {
      "cell_type": "code",
      "metadata": {
        "id": "H2UVonNvaxrq"
      },
      "source": [
        "# Name of data type\n",
        "b.dtype.name"
      ],
      "execution_count": null,
      "outputs": []
    },
    {
      "cell_type": "code",
      "metadata": {
        "id": "ew3kV8Eia34t"
      },
      "source": [
        "# Convert an array to a different type\n",
        "b.astype(int)"
      ],
      "execution_count": null,
      "outputs": []
    },
    {
      "cell_type": "markdown",
      "metadata": {
        "id": "g9aVK8TGa7Kv"
      },
      "source": [
        "# Array Mathematics\n",
        "## Arithmetic Operations"
      ]
    },
    {
      "cell_type": "markdown",
      "metadata": {
        "id": "iRQ-gCPabAuQ"
      },
      "source": [
        "### Subtraction"
      ]
    },
    {
      "cell_type": "code",
      "metadata": {
        "id": "UIn6XqBLbHC-"
      },
      "source": [
        "# Pengurangan Array - a-b\n",
        "g = a - b\n",
        "g"
      ],
      "execution_count": null,
      "outputs": []
    },
    {
      "cell_type": "code",
      "metadata": {
        "id": "u1fPcdjBbOjm"
      },
      "source": [
        "# Pengurangan Array - a-b\n",
        "np.subtract(a,b)"
      ],
      "execution_count": null,
      "outputs": []
    },
    {
      "cell_type": "code",
      "metadata": {
        "id": "GiKgZ1FgbRQe"
      },
      "source": [
        "# Penjumlahan Array - b+a\n",
        "b + a"
      ],
      "execution_count": null,
      "outputs": []
    },
    {
      "cell_type": "code",
      "metadata": {
        "id": "zHcYwuIpbUVr"
      },
      "source": [
        "# Penjumlahan Array - b+a\n",
        "np.add(b,a)"
      ],
      "execution_count": null,
      "outputs": []
    },
    {
      "cell_type": "markdown",
      "metadata": {
        "id": "6mEG6oGsbbqy"
      },
      "source": [
        "### Division"
      ]
    },
    {
      "cell_type": "code",
      "metadata": {
        "id": "w_ElgUyPbabO"
      },
      "source": [
        "# Pembagian Array - a/b\n",
        "a / b"
      ],
      "execution_count": null,
      "outputs": []
    },
    {
      "cell_type": "code",
      "metadata": {
        "id": "E1TNFdy2bpEY"
      },
      "source": [
        "# Pembagian Array - a/b\n",
        "np.divide(a,b)"
      ],
      "execution_count": null,
      "outputs": []
    },
    {
      "cell_type": "markdown",
      "metadata": {
        "id": "Wlr8jD8tbvR1"
      },
      "source": [
        "### Multiplication"
      ]
    },
    {
      "cell_type": "code",
      "metadata": {
        "id": "sbBRCiXmbtVz"
      },
      "source": [
        "# Perkalian Array - a*b\n",
        "a * b"
      ],
      "execution_count": null,
      "outputs": []
    },
    {
      "cell_type": "code",
      "metadata": {
        "id": "QXnlKVq2b6A8"
      },
      "source": [
        "# Perkalian Array - a*b\n",
        "np.multiply(a,b)"
      ],
      "execution_count": null,
      "outputs": []
    },
    {
      "cell_type": "markdown",
      "metadata": {
        "id": "zDxlO0gscCGl"
      },
      "source": [
        "### Exponentiation"
      ]
    },
    {
      "cell_type": "code",
      "metadata": {
        "id": "lUy6wOilb9mK"
      },
      "source": [
        "# Fungsi eksponensial pada array b\n",
        "np.exp(b)"
      ],
      "execution_count": null,
      "outputs": []
    },
    {
      "cell_type": "markdown",
      "metadata": {
        "id": "fWuB1luacaOD"
      },
      "source": [
        "### Square root"
      ]
    },
    {
      "cell_type": "code",
      "metadata": {
        "id": "I8ylv0Docghv"
      },
      "source": [
        "# Fungsi akar pada array b\n",
        "np.sqrt(b)"
      ],
      "execution_count": null,
      "outputs": []
    },
    {
      "cell_type": "markdown",
      "metadata": {
        "id": "N5FC68mHclJF"
      },
      "source": [
        "### Print sines of an array"
      ]
    },
    {
      "cell_type": "code",
      "metadata": {
        "id": "iOdwnwdNcsN3"
      },
      "source": [
        "# Nilai Sinus pada array a\n",
        "np.sin(a)"
      ],
      "execution_count": null,
      "outputs": []
    },
    {
      "cell_type": "markdown",
      "metadata": {
        "id": "AiTPN2LWcw_y"
      },
      "source": [
        "### Element-wise cosine "
      ]
    },
    {
      "cell_type": "code",
      "metadata": {
        "id": "M-4KXCnNcz7B"
      },
      "source": [
        "# Nilai Cosinus pada array b\n",
        "np.cos(b)"
      ],
      "execution_count": null,
      "outputs": []
    },
    {
      "cell_type": "markdown",
      "metadata": {
        "id": "P1EDhXl7c3dz"
      },
      "source": [
        "### Element-wise natural logarithm"
      ]
    },
    {
      "cell_type": "code",
      "metadata": {
        "id": "tukiMOwIc_BU"
      },
      "source": [
        "# Nilai logaritma pada array a\n",
        "np.log(a)"
      ],
      "execution_count": null,
      "outputs": []
    },
    {
      "cell_type": "markdown",
      "metadata": {
        "id": "Qfh3Px4adJhZ"
      },
      "source": [
        "### Dot product"
      ]
    },
    {
      "cell_type": "code",
      "metadata": {
        "id": "Nso0ZF94dQ_E"
      },
      "source": [
        "# Perkalian Titik pada array f\n",
        "e.dot(f)"
      ],
      "execution_count": null,
      "outputs": []
    },
    {
      "cell_type": "markdown",
      "metadata": {
        "id": "_AStF4LbdUaA"
      },
      "source": [
        "\n",
        "## Comparison"
      ]
    },
    {
      "cell_type": "markdown",
      "metadata": {
        "id": "G9d1Maimdha8"
      },
      "source": [
        "### Element-wise comparison"
      ]
    },
    {
      "cell_type": "code",
      "metadata": {
        "id": "_H2LH5S5dfx-"
      },
      "source": [
        "# Perbandingan elemen array a==b \n",
        "a == b"
      ],
      "execution_count": null,
      "outputs": []
    },
    {
      "cell_type": "code",
      "metadata": {
        "id": "P98MAtHNdu0Y"
      },
      "source": [
        "# Perbandingan elemen array a<2\n",
        "a < 2"
      ],
      "execution_count": null,
      "outputs": []
    },
    {
      "cell_type": "markdown",
      "metadata": {
        "id": "XMVU2DvXdyMw"
      },
      "source": [
        "### Array-wise comparison"
      ]
    },
    {
      "cell_type": "code",
      "metadata": {
        "id": "P5w_SMRYd5Da"
      },
      "source": [
        "# Perbandingan array a,b\n",
        "np.array_equal(a, b)"
      ],
      "execution_count": null,
      "outputs": []
    },
    {
      "cell_type": "markdown",
      "metadata": {
        "id": "8hB-RvZ2eC3C"
      },
      "source": [
        "## Aggregate Functions"
      ]
    },
    {
      "cell_type": "markdown",
      "metadata": {
        "id": "cQFX50B-eFsS"
      },
      "source": [
        "### Array-wise sum"
      ]
    },
    {
      "cell_type": "code",
      "metadata": {
        "id": "QPfcarNGeOMm"
      },
      "source": [
        "# Agregasi nilai total array a\n",
        "a.sum()"
      ],
      "execution_count": null,
      "outputs": []
    },
    {
      "cell_type": "markdown",
      "metadata": {
        "id": "yyY_2UgjeSUY"
      },
      "source": [
        "### Array-wise minimum value"
      ]
    },
    {
      "cell_type": "code",
      "metadata": {
        "id": "RwIVLoFSeWsZ"
      },
      "source": [
        "# Agregasi nilai minimal array a\n",
        "a.min()"
      ],
      "execution_count": null,
      "outputs": []
    },
    {
      "cell_type": "markdown",
      "metadata": {
        "id": "Cwmg3KeEedOi"
      },
      "source": [
        "### Maximum value of an array row"
      ]
    },
    {
      "cell_type": "code",
      "metadata": {
        "id": "uImgseuReg23"
      },
      "source": [
        "# Agregasi nilai maksimal array b\n",
        "b.max(axis=0)"
      ],
      "execution_count": null,
      "outputs": []
    },
    {
      "cell_type": "markdown",
      "metadata": {
        "id": "CT5qj60iekGf"
      },
      "source": [
        "### Cumulative sum of the elements"
      ]
    },
    {
      "cell_type": "code",
      "metadata": {
        "id": "ZpqtKpXPepC7"
      },
      "source": [
        "# Nilai kumulatif pada array b\n",
        "b.cumsum(axis=1)"
      ],
      "execution_count": null,
      "outputs": []
    },
    {
      "cell_type": "markdown",
      "metadata": {
        "id": "jbgTtufsevJ8"
      },
      "source": [
        "### Mean"
      ]
    },
    {
      "cell_type": "code",
      "metadata": {
        "id": "t-v19qe1eyLK"
      },
      "source": [
        "# Nilai Mean array a\n",
        "a.mean()"
      ],
      "execution_count": null,
      "outputs": []
    },
    {
      "cell_type": "markdown",
      "metadata": {
        "id": "lHvpY4lTe2ZH"
      },
      "source": [
        "### Median "
      ]
    },
    {
      "cell_type": "code",
      "metadata": {
        "id": "XoHS2Bp2e-jA"
      },
      "source": [
        "# Nilai Median array b\n",
        "np.median(b)"
      ],
      "execution_count": null,
      "outputs": []
    },
    {
      "cell_type": "markdown",
      "metadata": {
        "id": "P_b7rtn4fBAQ"
      },
      "source": [
        "### Correlation coefficient"
      ]
    },
    {
      "cell_type": "code",
      "metadata": {
        "id": "N96_kTH1fD_b"
      },
      "source": [
        "# Nilai korelasi koefisien array a\n",
        "np.corrcoef(a)"
      ],
      "execution_count": null,
      "outputs": []
    },
    {
      "cell_type": "markdown",
      "metadata": {
        "id": "9IAIT12IfKoo"
      },
      "source": [
        "### Standard deviation"
      ]
    },
    {
      "cell_type": "code",
      "metadata": {
        "id": "G58PXTbLfT6v"
      },
      "source": [
        "# Nilai standar defiasi array b\n",
        "np.std(b)"
      ],
      "execution_count": null,
      "outputs": []
    },
    {
      "cell_type": "markdown",
      "metadata": {
        "id": "CJ5Pykf_fYrj"
      },
      "source": [
        "# Copying Arrays"
      ]
    },
    {
      "cell_type": "markdown",
      "metadata": {
        "id": "aUuxtdX5fcDg"
      },
      "source": [
        "### Create a view of the array with the same data"
      ]
    },
    {
      "cell_type": "code",
      "metadata": {
        "id": "ySJ9_QMQfhmX"
      },
      "source": [
        "# Melihat isi array a\n",
        "h = a.view()\n",
        "h"
      ],
      "execution_count": null,
      "outputs": []
    },
    {
      "cell_type": "markdown",
      "metadata": {
        "id": "kM-ttO9Efo2o"
      },
      "source": [
        "### Create a copy of the array"
      ]
    },
    {
      "cell_type": "code",
      "metadata": {
        "id": "6NBBiuM5fsVQ"
      },
      "source": [
        "# Copy array a\n",
        "np.copy(a)"
      ],
      "execution_count": null,
      "outputs": []
    },
    {
      "cell_type": "markdown",
      "metadata": {
        "id": "GAdbJNXWfwVD"
      },
      "source": [
        "### Create a deep copy of the array"
      ]
    },
    {
      "cell_type": "code",
      "metadata": {
        "id": "ZiX9c0Jhf17s"
      },
      "source": [
        "# Deef copy array a\n",
        "h = a.copy()\n",
        "h"
      ],
      "execution_count": null,
      "outputs": []
    },
    {
      "cell_type": "markdown",
      "metadata": {
        "id": "8balhUyQf6XM"
      },
      "source": [
        "# Sorting Arrays"
      ]
    },
    {
      "cell_type": "markdown",
      "metadata": {
        "id": "iUX8Y0pbgFYh"
      },
      "source": [
        "### Sort an array"
      ]
    },
    {
      "cell_type": "code",
      "metadata": {
        "id": "9APc8_H1gCnP"
      },
      "source": [
        "# Mengurutkan array a\n",
        "a.sort()\n",
        "a"
      ],
      "execution_count": null,
      "outputs": []
    },
    {
      "cell_type": "markdown",
      "metadata": {
        "id": "Ly6qFkahsEJy"
      },
      "source": [
        "### Sort the elements of an array's axis"
      ]
    },
    {
      "cell_type": "code",
      "metadata": {
        "id": "tT4PI_Yotd1U"
      },
      "source": [
        "# Mengurutkan array c\n",
        "c.sort(axis=0)\n",
        "c"
      ],
      "execution_count": null,
      "outputs": []
    },
    {
      "cell_type": "markdown",
      "metadata": {
        "id": "O6UsG2-LtiJo"
      },
      "source": [
        "# Subsetting, Slicing, Indexing"
      ]
    },
    {
      "cell_type": "markdown",
      "metadata": {
        "id": "L3FqQTEqtmix"
      },
      "source": [
        "## Subsetting"
      ]
    },
    {
      "cell_type": "markdown",
      "metadata": {
        "id": "99SFu1lztq-V"
      },
      "source": [
        "### Select the element at the 2nd index"
      ]
    },
    {
      "cell_type": "code",
      "metadata": {
        "id": "thsjR-F9tu2Z"
      },
      "source": [
        "# Mengambil nilai index ke 2 pada elemen array a\n",
        "a[2]"
      ],
      "execution_count": null,
      "outputs": []
    },
    {
      "cell_type": "markdown",
      "metadata": {
        "id": "qBpzLjh7uKgu"
      },
      "source": [
        "### Select the element at row 1 column 2 (equivalent to b[1][2])\n"
      ]
    },
    {
      "cell_type": "code",
      "metadata": {
        "id": "MTkFETuvuPdq"
      },
      "source": [
        "# Mengambil nilai baris ke 1 kolom ke 2 pada elemen array a\n",
        "b[1,2]"
      ],
      "execution_count": null,
      "outputs": []
    },
    {
      "cell_type": "markdown",
      "metadata": {
        "id": "XQh8b_9UuUSI"
      },
      "source": [
        "## Slicing"
      ]
    },
    {
      "cell_type": "markdown",
      "metadata": {
        "id": "ip9g0S-quZN5"
      },
      "source": [
        "### Select items at index 0 and 1"
      ]
    },
    {
      "cell_type": "code",
      "metadata": {
        "id": "EjOB_vezucll"
      },
      "source": [
        "# Mengambil nilai index ke 0 - 1 pada elemen array a\n",
        "a[0:2]"
      ],
      "execution_count": null,
      "outputs": []
    },
    {
      "cell_type": "markdown",
      "metadata": {
        "id": "_bibenPLulIE"
      },
      "source": [
        "### Select items at rows 0 and 1 in column 1"
      ]
    },
    {
      "cell_type": "code",
      "metadata": {
        "id": "QvVXpxPnupAb"
      },
      "source": [
        "# Mengambil nilai index ke 0 - 1 kolom ke 1 pada elemen array b\n",
        "b[0:2,1] "
      ],
      "execution_count": null,
      "outputs": []
    },
    {
      "cell_type": "markdown",
      "metadata": {
        "id": "n47atIgGutXk"
      },
      "source": [
        "### Select all items at row 0 (equivalent to b[0:1, :])"
      ]
    },
    {
      "cell_type": "code",
      "metadata": {
        "id": "eoEMDSDIuw8t"
      },
      "source": [
        "# Mengambil semua nilai baris ke 0 pada elemen array b\n",
        "b[:1]"
      ],
      "execution_count": null,
      "outputs": []
    },
    {
      "cell_type": "markdown",
      "metadata": {
        "id": "hK6vGrSFu6xD"
      },
      "source": [
        "### Same as [1,:,:]"
      ]
    },
    {
      "cell_type": "code",
      "metadata": {
        "id": "44YVVBN0u8f5"
      },
      "source": [
        "# Mengambil semua nilai baris ke 1 pada elemen array c\n",
        "c[1,...]"
      ],
      "execution_count": null,
      "outputs": []
    },
    {
      "cell_type": "markdown",
      "metadata": {
        "id": "9qYimPd9vAkG"
      },
      "source": [
        "### Reversed array a "
      ]
    },
    {
      "cell_type": "code",
      "metadata": {
        "id": "wGlZoxfOvEci"
      },
      "source": [
        "# Mengambil nilai pada elemen array a secara terbalik\n",
        "a[ : :-1]"
      ],
      "execution_count": null,
      "outputs": []
    },
    {
      "cell_type": "markdown",
      "metadata": {
        "id": "p-LfA-6bvHh3"
      },
      "source": [
        "# Array Manipulation"
      ]
    },
    {
      "cell_type": "markdown",
      "metadata": {
        "id": "q5e5jnW8vKpr"
      },
      "source": [
        "## Transposing Array"
      ]
    },
    {
      "cell_type": "markdown",
      "metadata": {
        "id": "DbazgrIkvV2X"
      },
      "source": [
        "### Permute array dimensions"
      ]
    },
    {
      "cell_type": "code",
      "metadata": {
        "id": "-tfCjG_pvZOx"
      },
      "source": [
        "# Transpose array b\n",
        "i = np.transpose(b)"
      ],
      "execution_count": null,
      "outputs": []
    },
    {
      "cell_type": "code",
      "metadata": {
        "id": "UXaFbw_VvcaT"
      },
      "source": [
        "i.T"
      ],
      "execution_count": null,
      "outputs": []
    },
    {
      "cell_type": "markdown",
      "metadata": {
        "id": "pHoVjR-YvgsS"
      },
      "source": [
        "##  Changing Array Shape"
      ]
    },
    {
      "cell_type": "markdown",
      "metadata": {
        "id": "S5gttG3qvrBZ"
      },
      "source": [
        "### Flatten the array"
      ]
    },
    {
      "cell_type": "code",
      "metadata": {
        "id": "u-nPAGdtvvfp"
      },
      "source": [
        "b"
      ],
      "execution_count": null,
      "outputs": []
    },
    {
      "cell_type": "code",
      "metadata": {
        "id": "_ONVvE8Nv0Nv"
      },
      "source": [
        "# Meratakan array b menjadi satu dimensi\n",
        "b.ravel()"
      ],
      "execution_count": null,
      "outputs": []
    },
    {
      "cell_type": "markdown",
      "metadata": {
        "id": "bbRdnk8LwEeh"
      },
      "source": [
        "### Reshape, but don’t change data"
      ]
    },
    {
      "cell_type": "code",
      "metadata": {
        "id": "ts6eASjkwHvs"
      },
      "source": [
        "g"
      ],
      "execution_count": null,
      "outputs": []
    },
    {
      "cell_type": "code",
      "metadata": {
        "id": "hvKh3jHfwIwb"
      },
      "source": [
        "# Mengubah array g menjadi 2 dimensi\n",
        "g.reshape(3,-2)"
      ],
      "execution_count": null,
      "outputs": []
    },
    {
      "cell_type": "markdown",
      "metadata": {
        "id": "zPSDFaLgwMhc"
      },
      "source": [
        "## Adding/Removing Elements"
      ]
    },
    {
      "cell_type": "markdown",
      "metadata": {
        "id": "2_KsGGbEwWIV"
      },
      "source": [
        "### Return a new array with shape (2,6) "
      ]
    },
    {
      "cell_type": "code",
      "metadata": {
        "id": "oUk2vd9QwfsA"
      },
      "source": [
        "h"
      ],
      "execution_count": null,
      "outputs": []
    },
    {
      "cell_type": "code",
      "metadata": {
        "id": "iJfjFV4rwj4z"
      },
      "source": [
        "# Menambah jumlah elemen array\n",
        "np.resize(h, (2,6))"
      ],
      "execution_count": null,
      "outputs": []
    },
    {
      "cell_type": "markdown",
      "metadata": {
        "id": "ThDf2KXJwlfn"
      },
      "source": [
        "### Append items to an array"
      ]
    },
    {
      "cell_type": "code",
      "metadata": {
        "id": "zspNmlDswpjR"
      },
      "source": [
        "h"
      ],
      "execution_count": null,
      "outputs": []
    },
    {
      "cell_type": "code",
      "metadata": {
        "id": "5JVsoKSEwq55"
      },
      "source": [
        "g"
      ],
      "execution_count": null,
      "outputs": []
    },
    {
      "cell_type": "code",
      "metadata": {
        "id": "EdP8YHChwvjT"
      },
      "source": [
        "# Menambahkan elemen array h dengan array g \n",
        "np.append(h,g)"
      ],
      "execution_count": null,
      "outputs": []
    },
    {
      "cell_type": "markdown",
      "metadata": {
        "id": "ziwY3toJwz9u"
      },
      "source": [
        "### Insert items in an array"
      ]
    },
    {
      "cell_type": "code",
      "metadata": {
        "id": "w9BFbX9iw4F4"
      },
      "source": [
        "a"
      ],
      "execution_count": null,
      "outputs": []
    },
    {
      "cell_type": "code",
      "metadata": {
        "id": "tgSz7gGTw-9H"
      },
      "source": [
        "# Memasukkan nilai 5 index ke 1 dalam array a\n",
        "np.insert(a, 1, 5)"
      ],
      "execution_count": null,
      "outputs": []
    },
    {
      "cell_type": "markdown",
      "metadata": {
        "id": "WrfCFnkBxFKa"
      },
      "source": [
        "### Delete items from an array"
      ]
    },
    {
      "cell_type": "code",
      "metadata": {
        "id": "UxaXm2WIxI5g"
      },
      "source": [
        "a"
      ],
      "execution_count": null,
      "outputs": []
    },
    {
      "cell_type": "code",
      "metadata": {
        "id": "okL8UlZ5xUra"
      },
      "source": [
        "# Menghapus elemen array a index ke 1\n",
        "np.delete(a,[1])"
      ],
      "execution_count": null,
      "outputs": []
    },
    {
      "cell_type": "markdown",
      "metadata": {
        "id": "4PyrWbWWxY6p"
      },
      "source": [
        "## Combining Arrays"
      ]
    },
    {
      "cell_type": "markdown",
      "metadata": {
        "id": "nLiKbVi5xfji"
      },
      "source": [
        "###  Concatenate arrays"
      ]
    },
    {
      "cell_type": "code",
      "metadata": {
        "id": "MWmYeI9fxlcv"
      },
      "source": [
        "a"
      ],
      "execution_count": null,
      "outputs": []
    },
    {
      "cell_type": "code",
      "metadata": {
        "id": "pTFgyer-xmid"
      },
      "source": [
        "d"
      ],
      "execution_count": null,
      "outputs": []
    },
    {
      "cell_type": "code",
      "metadata": {
        "id": "9aDKowA8xrN7"
      },
      "source": [
        "# Menggabungkan elemen array a dan d\n",
        "np.concatenate((a,d),axis=0) "
      ],
      "execution_count": null,
      "outputs": []
    },
    {
      "cell_type": "markdown",
      "metadata": {
        "id": "fgBUT2WFxuJK"
      },
      "source": [
        "### Stack arrays vertically (row-wise)"
      ]
    },
    {
      "cell_type": "code",
      "metadata": {
        "id": "bOc5MVavxz3l"
      },
      "source": [
        "a"
      ],
      "execution_count": null,
      "outputs": []
    },
    {
      "cell_type": "code",
      "metadata": {
        "id": "z67ltTJwx04h"
      },
      "source": [
        "b"
      ],
      "execution_count": null,
      "outputs": []
    },
    {
      "cell_type": "code",
      "metadata": {
        "id": "N3Q6BViPx2CG"
      },
      "source": [
        "# Susunan array secara vertikal (berdasarkan baris) array a dan b\n",
        "np.vstack((a,b))"
      ],
      "execution_count": null,
      "outputs": []
    },
    {
      "cell_type": "markdown",
      "metadata": {
        "id": "qqDb7O73yM_k"
      },
      "source": [
        "### Stack arrays vertically (row-wise)"
      ]
    },
    {
      "cell_type": "code",
      "metadata": {
        "id": "xOlW4TXLyOlQ"
      },
      "source": [
        "e"
      ],
      "execution_count": null,
      "outputs": []
    },
    {
      "cell_type": "code",
      "metadata": {
        "id": "vG3xwlFIyPsP"
      },
      "source": [
        "f"
      ],
      "execution_count": null,
      "outputs": []
    },
    {
      "cell_type": "code",
      "metadata": {
        "id": "rmypF7hIyQVY"
      },
      "source": [
        "# Susunan array secara vertikal (berdasarkan baris) array e dan f\n",
        "np.r_[e,f]"
      ],
      "execution_count": null,
      "outputs": []
    },
    {
      "cell_type": "markdown",
      "metadata": {
        "id": "2QdUhOYDyUg_"
      },
      "source": [
        "### Stack arrays horizontally (column-wise)"
      ]
    },
    {
      "cell_type": "code",
      "metadata": {
        "id": "JDauxJaUyar1"
      },
      "source": [
        "# Susunan array secara horizontal (berdasarkan kolom) array e dan f\n",
        "np.hstack((e,f))"
      ],
      "execution_count": null,
      "outputs": []
    },
    {
      "cell_type": "markdown",
      "metadata": {
        "id": "bI7JEFXXykHc"
      },
      "source": [
        "### Create stacked column-wise arrays "
      ]
    },
    {
      "cell_type": "code",
      "metadata": {
        "id": "0ScErF8IylZ7"
      },
      "source": [
        "a"
      ],
      "execution_count": null,
      "outputs": []
    },
    {
      "cell_type": "code",
      "metadata": {
        "id": "yjTw_suaypvk"
      },
      "source": [
        "d"
      ],
      "execution_count": null,
      "outputs": []
    },
    {
      "cell_type": "code",
      "metadata": {
        "id": "pP5YEThayqnw"
      },
      "source": [
        "# Susunan berdasarkan kolom array a dan d\n",
        "np.column_stack((a,d))"
      ],
      "execution_count": null,
      "outputs": []
    },
    {
      "cell_type": "markdown",
      "metadata": {
        "id": "ycmvtfOLyweJ"
      },
      "source": [
        "### Create stacked column-wise arrays"
      ]
    },
    {
      "cell_type": "code",
      "metadata": {
        "id": "wJTnNJEhy0da"
      },
      "source": [
        "# Susunan berdasarkan kolom array a dan d\n",
        "np.c_[a,d]"
      ],
      "execution_count": null,
      "outputs": []
    },
    {
      "cell_type": "markdown",
      "metadata": {
        "id": "PQrDxcldy-iv"
      },
      "source": [
        "## Splitting Arrays"
      ]
    },
    {
      "cell_type": "markdown",
      "metadata": {
        "id": "hFtr_mmizB4x"
      },
      "source": [
        "### Split the array horizontally at the 3rd index"
      ]
    },
    {
      "cell_type": "code",
      "metadata": {
        "id": "WGMS4hLPzGmj"
      },
      "source": [
        "# Memisahkan array a secara horizontal pada indeks ke-3\n",
        "np.hsplit(a,3)"
      ],
      "execution_count": null,
      "outputs": []
    },
    {
      "cell_type": "markdown",
      "metadata": {
        "id": "8NGLYmPDzKds"
      },
      "source": [
        "### Split the array vertically at the 2nd index"
      ]
    },
    {
      "cell_type": "code",
      "metadata": {
        "id": "JcwMdDWXzlve"
      },
      "source": [
        "# Memisahkan array c secara vertikal pada indeks ke-2\n",
        "np.vsplit(c,2)"
      ],
      "execution_count": null,
      "outputs": []
    }
  ]
}